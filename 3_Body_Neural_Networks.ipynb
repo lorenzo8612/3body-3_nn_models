{
  "cells": [
    {
      "cell_type": "markdown",
      "metadata": {
        "id": "5Ur5S2p2dJb2"
      },
      "source": [
        "#Importing the Data"
      ]
    },
    {
      "cell_type": "code",
      "execution_count": null,
      "metadata": {
        "id": "UHs2UnradI8X"
      },
      "outputs": [],
      "source": [
        "import torch\n",
        "#train_data = torch.load('trainInput3BodySIMPLE.pt')\n",
        "test_data= torch.load('testInput3BodySIMPLE.pt') #importing from the alternative file: 'testInput3BodySIMPLE.pt'"
      ]
    },
    {
      "cell_type": "markdown",
      "metadata": {
        "id": "KbXrk0vTW8sq"
      },
      "source": [
        "#Sampling the orbits"
      ]
    },
    {
      "cell_type": "code",
      "execution_count": null,
      "metadata": {
        "id": "_4fhM3c3Ymme"
      },
      "outputs": [],
      "source": [
        "#orig_inputs = train_data[\"inputs\"]\n",
        "#orig_labels = train_data[\"labels\"]\n",
        "orig_inputs = test_data[\"inputs\"] #importing from the alternative file: 'testInput3BodySIMPLE.pt'\n",
        "orig_labels = test_data[\"labels\"] #importing from the alternative file: 'testInput3BodySIMPLE.pt'"
      ]
    },
    {
      "cell_type": "code",
      "execution_count": null,
      "metadata": {
        "id": "5uX_nZvq5OH1"
      },
      "outputs": [],
      "source": [
        "simulationNumber = len(orig_inputs)\n",
        "variableNumber = orig_inputs[0].size(0) #4\n",
        "truncationNumber = 200 #Input size for the neural network\n",
        "\n",
        "max_size_orbit = max(x.size(1) for x in orig_inputs)\n",
        "max_multiplication_rate = max_size_orbit // truncationNumber +1 #For pre-allocating\n",
        "\n",
        "raw_data = torch.zeros(\n",
        "    (simulationNumber * max_multiplication_rate, variableNumber, truncationNumber),\n",
        "    dtype=orig_inputs[0].dtype,\n",
        "    device=orig_inputs[0].device,\n",
        ")\n",
        "raw_labels = torch.zeros((simulationNumber*max_multiplication_rate), dtype=torch.long, device=raw_data.device)\n"
      ]
    },
    {
      "cell_type": "markdown",
      "metadata": {
        "id": "G7PubyJVu_Xr"
      },
      "source": [
        "###Check the final states (Optional)"
      ]
    },
    {
      "cell_type": "code",
      "execution_count": null,
      "metadata": {
        "colab": {
          "base_uri": "https://localhost:8080/"
        },
        "id": "G2Czg7WLuN-W",
        "outputId": "d6cb9ff5-7d3c-499b-dbce-7628498b6cbe"
      },
      "outputs": [
        {
          "name": "stdout",
          "output_type": "stream",
          "text": [
            "0.0225\n"
          ]
        }
      ],
      "source": [
        "count = orig_labels.count(1)\n",
        "print(count/len(orig_labels))"
      ]
    },
    {
      "cell_type": "markdown",
      "metadata": {
        "id": "0BCKkXbqvGeC"
      },
      "source": [
        "#Chunking the Orbits"
      ]
    },
    {
      "cell_type": "code",
      "execution_count": null,
      "metadata": {
        "id": "raXPUWg0CBxZ"
      },
      "outputs": [],
      "source": [
        "sequence = 0\n",
        "for i in range(simulationNumber):\n",
        "    current_raw_input = orig_inputs[i]\n",
        "    current_label = orig_labels[i]\n",
        "\n",
        "    varNumber, orbitLength = current_raw_input.size()\n",
        "\n",
        "    for start in range(0, orbitLength, truncationNumber):\n",
        "        rest = truncationNumber #initializing\n",
        "        end = start + truncationNumber\n",
        "        tail = end - orbitLength\n",
        "        if tail > truncationNumber // 2: #break if the tail is too long\n",
        "            break\n",
        "        elif tail > 0: #add a small padding\n",
        "            end = orbitLength\n",
        "            rest = truncationNumber - tail\n",
        "        raw_data[sequence, :, :rest] = current_raw_input[:, start:end]\n",
        "        raw_labels[sequence] = current_label\n",
        "        sequence += 1\n",
        "\n",
        "data = raw_data[:sequence, :, :]\n",
        "labels = raw_labels[:sequence]"
      ]
    },
    {
      "cell_type": "code",
      "execution_count": null,
      "metadata": {
        "colab": {
          "base_uri": "https://localhost:8080/"
        },
        "id": "YvNzOO_qtkcP",
        "outputId": "3c528610-40de-4a39-def9-122a4669d005"
      },
      "outputs": [
        {
          "name": "stdout",
          "output_type": "stream",
          "text": [
            "0.3350940904588973\n"
          ]
        }
      ],
      "source": [
        "count = (labels == 1).sum().item()\n",
        "print(count/len(labels))"
      ]
    },
    {
      "cell_type": "markdown",
      "metadata": {
        "id": "XcMaBtq7XNg9"
      },
      "source": [
        "###Normalizing the data"
      ]
    },
    {
      "cell_type": "code",
      "execution_count": null,
      "metadata": {
        "colab": {
          "base_uri": "https://localhost:8080/"
        },
        "id": "p8bz_QVkm32f",
        "outputId": "52a1b952-d768-4b66-9caf-6bd7979e1183"
      },
      "outputs": [
        {
          "name": "stdout",
          "output_type": "stream",
          "text": [
            "tensor(0.0060, dtype=torch.float64) tensor(0.0118, dtype=torch.float64)\n"
          ]
        }
      ],
      "source": [
        "#import torch\n",
        "#Compute the means for the x and y positions\n",
        "mean_x = 0.5 * torch.mean(data[:, 0, :]) + 0.5 * torch.mean(data[:, 2, :])\n",
        "mean_y = 0.5 * torch.mean(data[:, 1, :]) + 0.5 * torch.mean(data[:, 3, :])\n",
        "\n",
        "#Compute the max absolute value for the x positions\n",
        "max_x1 = torch.max(torch.abs(data[:, 0, :]))\n",
        "max_x2 = torch.max(torch.abs(data[:, 2, :]))\n",
        "if max_x1 > max_x2:\n",
        "    max_x = max_x1\n",
        "else:\n",
        "    max_x = max_x2\n",
        "\n",
        "#Compute the max absolute value for the x positions\n",
        "max_y1 = torch.max(torch.abs(data[:, 1, :]))\n",
        "max_y2 = torch.max(torch.abs(data[:, 3, :]))\n",
        "if max_y1 > max_y2:\n",
        "    max_y = max_y1\n",
        "else:\n",
        "    max_y = max_y2\n",
        "\n",
        "#Normalize the data\n",
        "data[:, 0, :] = (data[:, 0, :] - mean_x) / max_x\n",
        "data[:, 2, :] = (data[:, 2, :] - mean_x) / max_x\n",
        "\n",
        "data[:, 1, :] = (data[:, 1, :] - mean_y) / max_y\n",
        "data[:, 3, :] = (data[:, 3, :] - mean_y) / max_y\n",
        "\n",
        "print(mean_x, mean_y)"
      ]
    },
    {
      "cell_type": "markdown",
      "metadata": {
        "id": "25YkOL40oyZf"
      },
      "source": [
        "#Add new data using symmetries"
      ]
    },
    {
      "cell_type": "markdown",
      "metadata": {
        "id": "3qBYaaJqx1Ez"
      },
      "source": [
        "###Define rotation transformation"
      ]
    },
    {
      "cell_type": "code",
      "execution_count": null,
      "metadata": {
        "id": "EUqKz77Ex43Q"
      },
      "outputs": [],
      "source": [
        "def rotate(tensor, angle):\n",
        "    \"\"\"\n",
        "    tensor: any shape (?, 2, ?)\n",
        "    angle: either a scalar or a tensor broadcastable to tensor[...,0]\n",
        "    returns: tensor rotated by +angle\n",
        "    \"\"\"\n",
        "    # compute cos & sin of the angle\n",
        "    c = torch.cos(angle)\n",
        "    s = torch.sin(angle)\n",
        "\n",
        "    # split x,y\n",
        "    x = tensor[:, 0, :]\n",
        "    y = tensor[:, 1, :]\n",
        "\n",
        "    # apply rotation formula\n",
        "    x_new = x * c - y * s\n",
        "    y_new = x * s + y * c\n",
        "\n",
        "    out = tensor.clone()\n",
        "    out[:, 0, :] = x_new\n",
        "    out[:, 1, :] = y_new\n",
        "    return out"
      ]
    },
    {
      "cell_type": "code",
      "execution_count": null,
      "metadata": {
        "id": "2-MWqU2Bow5B"
      },
      "outputs": [],
      "source": [
        "import math\n",
        "simulationNumber, variableNumber, truncationNumber = data.shape\n",
        "\n",
        "new_data = torch.zeros((simulationNumber*8*100, variableNumber, truncationNumber)) #200\n",
        "\n",
        "#Original Data\n",
        "new_data[:simulationNumber, :, :] = data\n",
        "\n",
        "#Body Positions Switch\n",
        "new_data[simulationNumber:simulationNumber*2, 0, :] = data[:, 2, :]\n",
        "new_data[simulationNumber:simulationNumber*2, 1, :] = data[:, 3, :]\n",
        "new_data[simulationNumber:simulationNumber*2, 2, :] = data[:, 0, :]\n",
        "new_data[simulationNumber:simulationNumber*2, 3, :] = data[:, 1, :]\n",
        "\n",
        "#x-y Switch\n",
        "new_data[simulationNumber*2:simulationNumber*4, 0, :] = new_data[:simulationNumber*2, 1, :]\n",
        "new_data[simulationNumber*2:simulationNumber*4, 1, :] = new_data[:simulationNumber*2, 0, :]\n",
        "new_data[simulationNumber*2:simulationNumber*4, 2, :] = new_data[:simulationNumber*2, 3, :]\n",
        "new_data[simulationNumber*2:simulationNumber*4, 3, :] = new_data[:simulationNumber*2, 2, :]\n",
        "\n",
        "#reflecting over x (over y is equivalent thanks to the x-y switch)\n",
        "new_data[simulationNumber*4:simulationNumber*8, 0, :] = -new_data[:simulationNumber*4, 0, :]\n",
        "new_data[simulationNumber*4:simulationNumber*8, 1, :] = new_data[:simulationNumber*4, 1, :]\n",
        "new_data[simulationNumber*4:simulationNumber*8, 2, :] = -new_data[:simulationNumber*4, 2, :]\n",
        "new_data[simulationNumber*4:simulationNumber*8, 3, :] = new_data[:simulationNumber*4, 3, :]\n",
        "\n",
        "#rotate:\n",
        "step = 0.1  # in radians\n",
        "base1 = new_data[:simulationNumber*8, :2, :].clone()\n",
        "base2 = new_data[:simulationNumber*8, 2:, :].clone()\n",
        "angles = torch.arange(step, 2*math.pi, step, device=new_data.device, dtype=new_data.dtype)\n",
        "total_iterations = len(angles)\n",
        "for i, angle in enumerate(angles):\n",
        "    start = simulationNumber*8*(i+1)\n",
        "    end = simulationNumber*8*(i+2)\n",
        "    new_data[start:end, :2, :] = rotate(base1, angle)\n",
        "    new_data[start:end, 2:, :] = rotate(base2, angle)\n",
        "\n",
        "new_data = new_data[:simulationNumber*8*i, :, :]\n",
        "\n",
        "new_data = new_data.permute(0, 2, 1)"
      ]
    },
    {
      "cell_type": "code",
      "execution_count": null,
      "metadata": {
        "colab": {
          "base_uri": "https://localhost:8080/"
        },
        "id": "oHco59yTZYk-",
        "outputId": "0c096de4-32a2-4075-adee-215f6826f6ce"
      },
      "outputs": [
        {
          "name": "stdout",
          "output_type": "stream",
          "text": [
            "1365424 4 200\n"
          ]
        }
      ],
      "source": [
        "inputNumber, truncationNumber, variableNumber = new_data.shape\n",
        "# build the index: [0,1,2,3,0,1,2,3,…] of length inputNumber\n",
        "idx = torch.arange(inputNumber) % simulationNumber\n",
        "\n",
        "new_labels = labels[idx]\n",
        "\n",
        "print(inputNumber, variableNumber, truncationNumber)"
      ]
    },
    {
      "cell_type": "code",
      "execution_count": null,
      "metadata": {
        "colab": {
          "base_uri": "https://localhost:8080/"
        },
        "id": "eF9YGKRM5afo",
        "outputId": "8d65cdc0-6403-43d1-dd64-837b77e971d1"
      },
      "outputs": [
        {
          "name": "stdout",
          "output_type": "stream",
          "text": [
            "0.3350940904588973\n"
          ]
        }
      ],
      "source": [
        "count = (new_labels == 1).sum().item()\n",
        "print(count/len(new_labels))"
      ]
    },
    {
      "cell_type": "markdown",
      "metadata": {
        "id": "1F20jKPDhk0Q"
      },
      "source": [
        "#Creating the Dataset"
      ]
    },
    {
      "cell_type": "code",
      "execution_count": null,
      "metadata": {
        "colab": {
          "base_uri": "https://localhost:8080/"
        },
        "id": "z73KjltEhq81",
        "outputId": "0480a4e9-d186-4717-c817-038f4b052749"
      },
      "outputs": [
        {
          "name": "stdout",
          "output_type": "stream",
          "text": [
            "Collecting deeplay\n",
            "  Downloading deeplay-0.1.3-py3-none-any.whl.metadata (13 kB)\n",
            "Collecting deeptrack\n",
            "  Downloading deeptrack-2.0.1-py3-none-any.whl.metadata (21 kB)\n",
            "Requirement already satisfied: numpy in /usr/local/lib/python3.11/dist-packages (from deeplay) (2.0.2)\n",
            "Requirement already satisfied: matplotlib in /usr/local/lib/python3.11/dist-packages (from deeplay) (3.10.0)\n",
            "Requirement already satisfied: torch>2.3 in /usr/local/lib/python3.11/dist-packages (from deeplay) (2.6.0+cu124)\n",
            "Collecting lightning (from deeplay)\n",
            "  Downloading lightning-2.5.1.post0-py3-none-any.whl.metadata (39 kB)\n",
            "Collecting torchmetrics (from deeplay)\n",
            "  Downloading torchmetrics-1.7.1-py3-none-any.whl.metadata (21 kB)\n",
            "Requirement already satisfied: torchvision in /usr/local/lib/python3.11/dist-packages (from deeplay) (0.21.0+cu124)\n",
            "Collecting torch-geometric (from deeplay)\n",
            "  Downloading torch_geometric-2.6.1-py3-none-any.whl.metadata (63 kB)\n",
            "\u001b[2K     \u001b[90m━━━━━━━━━━━━━━━━━━━━━━━━━━━━━━━━━━━━━━━━\u001b[0m \u001b[32m63.1/63.1 kB\u001b[0m \u001b[31m4.9 MB/s\u001b[0m eta \u001b[36m0:00:00\u001b[0m\n",
            "\u001b[?25hCollecting kornia (from deeplay)\n",
            "  Downloading kornia-0.8.1-py2.py3-none-any.whl.metadata (17 kB)\n",
            "Requirement already satisfied: scipy in /usr/local/lib/python3.11/dist-packages (from deeplay) (1.15.3)\n",
            "Requirement already satisfied: scikit-image in /usr/local/lib/python3.11/dist-packages (from deeplay) (0.25.2)\n",
            "Requirement already satisfied: rich in /usr/local/lib/python3.11/dist-packages (from deeplay) (13.9.4)\n",
            "Requirement already satisfied: dill in /usr/local/lib/python3.11/dist-packages (from deeplay) (0.3.7)\n",
            "Requirement already satisfied: more_itertools in /usr/local/lib/python3.11/dist-packages (from deeptrack) (10.7.0)\n",
            "Collecting pint (from deeptrack)\n",
            "  Downloading Pint-0.24.4-py3-none-any.whl.metadata (8.5 kB)\n",
            "Requirement already satisfied: pandas in /usr/local/lib/python3.11/dist-packages (from deeptrack) (2.2.2)\n",
            "Requirement already satisfied: tqdm in /usr/local/lib/python3.11/dist-packages (from deeptrack) (4.67.1)\n",
            "Collecting lazy_import (from deeptrack)\n",
            "  Downloading lazy_import-0.2.2.tar.gz (15 kB)\n",
            "  Preparing metadata (setup.py) ... \u001b[?25l\u001b[?25hdone\n",
            "Requirement already satisfied: gdown in /usr/local/lib/python3.11/dist-packages (from deeptrack) (5.2.0)\n",
            "Requirement already satisfied: filelock in /usr/local/lib/python3.11/dist-packages (from torch>2.3->deeplay) (3.18.0)\n",
            "Requirement already satisfied: typing-extensions>=4.10.0 in /usr/local/lib/python3.11/dist-packages (from torch>2.3->deeplay) (4.13.2)\n",
            "Requirement already satisfied: networkx in /usr/local/lib/python3.11/dist-packages (from torch>2.3->deeplay) (3.4.2)\n",
            "Requirement already satisfied: jinja2 in /usr/local/lib/python3.11/dist-packages (from torch>2.3->deeplay) (3.1.6)\n",
            "Requirement already satisfied: fsspec in /usr/local/lib/python3.11/dist-packages (from torch>2.3->deeplay) (2025.3.2)\n",
            "Collecting nvidia-cuda-nvrtc-cu12==12.4.127 (from torch>2.3->deeplay)\n",
            "  Downloading nvidia_cuda_nvrtc_cu12-12.4.127-py3-none-manylinux2014_x86_64.whl.metadata (1.5 kB)\n",
            "Collecting nvidia-cuda-runtime-cu12==12.4.127 (from torch>2.3->deeplay)\n",
            "  Downloading nvidia_cuda_runtime_cu12-12.4.127-py3-none-manylinux2014_x86_64.whl.metadata (1.5 kB)\n",
            "Collecting nvidia-cuda-cupti-cu12==12.4.127 (from torch>2.3->deeplay)\n",
            "  Downloading nvidia_cuda_cupti_cu12-12.4.127-py3-none-manylinux2014_x86_64.whl.metadata (1.6 kB)\n",
            "Collecting nvidia-cudnn-cu12==9.1.0.70 (from torch>2.3->deeplay)\n",
            "  Downloading nvidia_cudnn_cu12-9.1.0.70-py3-none-manylinux2014_x86_64.whl.metadata (1.6 kB)\n",
            "Collecting nvidia-cublas-cu12==12.4.5.8 (from torch>2.3->deeplay)\n",
            "  Downloading nvidia_cublas_cu12-12.4.5.8-py3-none-manylinux2014_x86_64.whl.metadata (1.5 kB)\n",
            "Collecting nvidia-cufft-cu12==11.2.1.3 (from torch>2.3->deeplay)\n",
            "  Downloading nvidia_cufft_cu12-11.2.1.3-py3-none-manylinux2014_x86_64.whl.metadata (1.5 kB)\n",
            "Collecting nvidia-curand-cu12==10.3.5.147 (from torch>2.3->deeplay)\n",
            "  Downloading nvidia_curand_cu12-10.3.5.147-py3-none-manylinux2014_x86_64.whl.metadata (1.5 kB)\n",
            "Collecting nvidia-cusolver-cu12==11.6.1.9 (from torch>2.3->deeplay)\n",
            "  Downloading nvidia_cusolver_cu12-11.6.1.9-py3-none-manylinux2014_x86_64.whl.metadata (1.6 kB)\n",
            "Collecting nvidia-cusparse-cu12==12.3.1.170 (from torch>2.3->deeplay)\n",
            "  Downloading nvidia_cusparse_cu12-12.3.1.170-py3-none-manylinux2014_x86_64.whl.metadata (1.6 kB)\n",
            "Requirement already satisfied: nvidia-cusparselt-cu12==0.6.2 in /usr/local/lib/python3.11/dist-packages (from torch>2.3->deeplay) (0.6.2)\n",
            "Requirement already satisfied: nvidia-nccl-cu12==2.21.5 in /usr/local/lib/python3.11/dist-packages (from torch>2.3->deeplay) (2.21.5)\n",
            "Requirement already satisfied: nvidia-nvtx-cu12==12.4.127 in /usr/local/lib/python3.11/dist-packages (from torch>2.3->deeplay) (12.4.127)\n",
            "Collecting nvidia-nvjitlink-cu12==12.4.127 (from torch>2.3->deeplay)\n",
            "  Downloading nvidia_nvjitlink_cu12-12.4.127-py3-none-manylinux2014_x86_64.whl.metadata (1.5 kB)\n",
            "Requirement already satisfied: triton==3.2.0 in /usr/local/lib/python3.11/dist-packages (from torch>2.3->deeplay) (3.2.0)\n",
            "Requirement already satisfied: sympy==1.13.1 in /usr/local/lib/python3.11/dist-packages (from torch>2.3->deeplay) (1.13.1)\n",
            "Requirement already satisfied: mpmath<1.4,>=1.1.0 in /usr/local/lib/python3.11/dist-packages (from sympy==1.13.1->torch>2.3->deeplay) (1.3.0)\n",
            "Requirement already satisfied: beautifulsoup4 in /usr/local/lib/python3.11/dist-packages (from gdown->deeptrack) (4.13.4)\n",
            "Requirement already satisfied: requests[socks] in /usr/local/lib/python3.11/dist-packages (from gdown->deeptrack) (2.32.3)\n",
            "Collecting kornia_rs>=0.1.9 (from kornia->deeplay)\n",
            "  Downloading kornia_rs-0.1.9-cp311-cp311-manylinux_2_17_x86_64.manylinux2014_x86_64.whl.metadata (11 kB)\n",
            "Requirement already satisfied: packaging in /usr/local/lib/python3.11/dist-packages (from kornia->deeplay) (24.2)\n",
            "Requirement already satisfied: six in /usr/local/lib/python3.11/dist-packages (from lazy_import->deeptrack) (1.17.0)\n",
            "Requirement already satisfied: PyYAML<8.0,>=5.4 in /usr/local/lib/python3.11/dist-packages (from lightning->deeplay) (6.0.2)\n",
            "Collecting lightning-utilities<2.0,>=0.10.0 (from lightning->deeplay)\n",
            "  Downloading lightning_utilities-0.14.3-py3-none-any.whl.metadata (5.6 kB)\n",
            "Collecting pytorch-lightning (from lightning->deeplay)\n",
            "  Downloading pytorch_lightning-2.5.1.post0-py3-none-any.whl.metadata (20 kB)\n",
            "Requirement already satisfied: contourpy>=1.0.1 in /usr/local/lib/python3.11/dist-packages (from matplotlib->deeplay) (1.3.2)\n",
            "Requirement already satisfied: cycler>=0.10 in /usr/local/lib/python3.11/dist-packages (from matplotlib->deeplay) (0.12.1)\n",
            "Requirement already satisfied: fonttools>=4.22.0 in /usr/local/lib/python3.11/dist-packages (from matplotlib->deeplay) (4.58.0)\n",
            "Requirement already satisfied: kiwisolver>=1.3.1 in /usr/local/lib/python3.11/dist-packages (from matplotlib->deeplay) (1.4.8)\n",
            "Requirement already satisfied: pillow>=8 in /usr/local/lib/python3.11/dist-packages (from matplotlib->deeplay) (11.2.1)\n",
            "Requirement already satisfied: pyparsing>=2.3.1 in /usr/local/lib/python3.11/dist-packages (from matplotlib->deeplay) (3.2.3)\n",
            "Requirement already satisfied: python-dateutil>=2.7 in /usr/local/lib/python3.11/dist-packages (from matplotlib->deeplay) (2.9.0.post0)\n",
            "Requirement already satisfied: pytz>=2020.1 in /usr/local/lib/python3.11/dist-packages (from pandas->deeptrack) (2025.2)\n",
            "Requirement already satisfied: tzdata>=2022.7 in /usr/local/lib/python3.11/dist-packages (from pandas->deeptrack) (2025.2)\n",
            "Requirement already satisfied: platformdirs>=2.1.0 in /usr/local/lib/python3.11/dist-packages (from pint->deeptrack) (4.3.8)\n",
            "Collecting flexcache>=0.3 (from pint->deeptrack)\n",
            "  Downloading flexcache-0.3-py3-none-any.whl.metadata (7.0 kB)\n",
            "Collecting flexparser>=0.4 (from pint->deeptrack)\n",
            "  Downloading flexparser-0.4-py3-none-any.whl.metadata (18 kB)\n",
            "Requirement already satisfied: markdown-it-py>=2.2.0 in /usr/local/lib/python3.11/dist-packages (from rich->deeplay) (3.0.0)\n",
            "Requirement already satisfied: pygments<3.0.0,>=2.13.0 in /usr/local/lib/python3.11/dist-packages (from rich->deeplay) (2.19.1)\n",
            "Requirement already satisfied: imageio!=2.35.0,>=2.33 in /usr/local/lib/python3.11/dist-packages (from scikit-image->deeplay) (2.37.0)\n",
            "Requirement already satisfied: tifffile>=2022.8.12 in /usr/local/lib/python3.11/dist-packages (from scikit-image->deeplay) (2025.5.10)\n",
            "Requirement already satisfied: lazy-loader>=0.4 in /usr/local/lib/python3.11/dist-packages (from scikit-image->deeplay) (0.4)\n",
            "Requirement already satisfied: aiohttp in /usr/local/lib/python3.11/dist-packages (from torch-geometric->deeplay) (3.11.15)\n",
            "Requirement already satisfied: psutil>=5.8.0 in /usr/local/lib/python3.11/dist-packages (from torch-geometric->deeplay) (5.9.5)\n",
            "Requirement already satisfied: aiohappyeyeballs>=2.3.0 in /usr/local/lib/python3.11/dist-packages (from aiohttp->torch-geometric->deeplay) (2.6.1)\n",
            "Requirement already satisfied: aiosignal>=1.1.2 in /usr/local/lib/python3.11/dist-packages (from aiohttp->torch-geometric->deeplay) (1.3.2)\n",
            "Requirement already satisfied: attrs>=17.3.0 in /usr/local/lib/python3.11/dist-packages (from aiohttp->torch-geometric->deeplay) (25.3.0)\n",
            "Requirement already satisfied: frozenlist>=1.1.1 in /usr/local/lib/python3.11/dist-packages (from aiohttp->torch-geometric->deeplay) (1.6.0)\n",
            "Requirement already satisfied: multidict<7.0,>=4.5 in /usr/local/lib/python3.11/dist-packages (from aiohttp->torch-geometric->deeplay) (6.4.3)\n",
            "Requirement already satisfied: propcache>=0.2.0 in /usr/local/lib/python3.11/dist-packages (from aiohttp->torch-geometric->deeplay) (0.3.1)\n",
            "Requirement already satisfied: yarl<2.0,>=1.17.0 in /usr/local/lib/python3.11/dist-packages (from aiohttp->torch-geometric->deeplay) (1.20.0)\n",
            "Requirement already satisfied: setuptools in /usr/local/lib/python3.11/dist-packages (from lightning-utilities<2.0,>=0.10.0->lightning->deeplay) (75.2.0)\n",
            "Requirement already satisfied: mdurl~=0.1 in /usr/local/lib/python3.11/dist-packages (from markdown-it-py>=2.2.0->rich->deeplay) (0.1.2)\n",
            "Requirement already satisfied: soupsieve>1.2 in /usr/local/lib/python3.11/dist-packages (from beautifulsoup4->gdown->deeptrack) (2.7)\n",
            "Requirement already satisfied: MarkupSafe>=2.0 in /usr/local/lib/python3.11/dist-packages (from jinja2->torch>2.3->deeplay) (3.0.2)\n",
            "Requirement already satisfied: charset-normalizer<4,>=2 in /usr/local/lib/python3.11/dist-packages (from requests[socks]->gdown->deeptrack) (3.4.2)\n",
            "Requirement already satisfied: idna<4,>=2.5 in /usr/local/lib/python3.11/dist-packages (from requests[socks]->gdown->deeptrack) (3.10)\n",
            "Requirement already satisfied: urllib3<3,>=1.21.1 in /usr/local/lib/python3.11/dist-packages (from requests[socks]->gdown->deeptrack) (2.4.0)\n",
            "Requirement already satisfied: certifi>=2017.4.17 in /usr/local/lib/python3.11/dist-packages (from requests[socks]->gdown->deeptrack) (2025.4.26)\n",
            "Requirement already satisfied: PySocks!=1.5.7,>=1.5.6 in /usr/local/lib/python3.11/dist-packages (from requests[socks]->gdown->deeptrack) (1.7.1)\n",
            "Downloading deeplay-0.1.3-py3-none-any.whl (177 kB)\n",
            "\u001b[2K   \u001b[90m━━━━━━━━━━━━━━━━━━━━━━━━━━━━━━━━━━━━━━━━\u001b[0m \u001b[32m177.3/177.3 kB\u001b[0m \u001b[31m7.9 MB/s\u001b[0m eta \u001b[36m0:00:00\u001b[0m\n",
            "\u001b[?25hDownloading deeptrack-2.0.1-py3-none-any.whl (195 kB)\n",
            "\u001b[2K   \u001b[90m━━━━━━━━━━━━━━━━━━━━━━━━━━━━━━━━━━━━━━━━\u001b[0m \u001b[32m195.6/195.6 kB\u001b[0m \u001b[31m17.4 MB/s\u001b[0m eta \u001b[36m0:00:00\u001b[0m\n",
            "\u001b[?25hDownloading nvidia_cublas_cu12-12.4.5.8-py3-none-manylinux2014_x86_64.whl (363.4 MB)\n",
            "\u001b[2K   \u001b[90m━━━━━━━━━━━━━━━━━━━━━━━━━━━━━━━━━━━━━━━━\u001b[0m \u001b[32m363.4/363.4 MB\u001b[0m \u001b[31m3.2 MB/s\u001b[0m eta \u001b[36m0:00:00\u001b[0m\n",
            "\u001b[?25hDownloading nvidia_cuda_cupti_cu12-12.4.127-py3-none-manylinux2014_x86_64.whl (13.8 MB)\n",
            "\u001b[2K   \u001b[90m━━━━━━━━━━━━━━━━━━━━━━━━━━━━━━━━━━━━━━━━\u001b[0m \u001b[32m13.8/13.8 MB\u001b[0m \u001b[31m113.4 MB/s\u001b[0m eta \u001b[36m0:00:00\u001b[0m\n",
            "\u001b[?25hDownloading nvidia_cuda_nvrtc_cu12-12.4.127-py3-none-manylinux2014_x86_64.whl (24.6 MB)\n",
            "\u001b[2K   \u001b[90m━━━━━━━━━━━━━━━━━━━━━━━━━━━━━━━━━━━━━━━━\u001b[0m \u001b[32m24.6/24.6 MB\u001b[0m \u001b[31m92.5 MB/s\u001b[0m eta \u001b[36m0:00:00\u001b[0m\n",
            "\u001b[?25hDownloading nvidia_cuda_runtime_cu12-12.4.127-py3-none-manylinux2014_x86_64.whl (883 kB)\n",
            "\u001b[2K   \u001b[90m━━━━━━━━━━━━━━━━━━━━━━━━━━━━━━━━━━━━━━━━\u001b[0m \u001b[32m883.7/883.7 kB\u001b[0m \u001b[31m48.1 MB/s\u001b[0m eta \u001b[36m0:00:00\u001b[0m\n",
            "\u001b[?25hDownloading nvidia_cudnn_cu12-9.1.0.70-py3-none-manylinux2014_x86_64.whl (664.8 MB)\n",
            "\u001b[2K   \u001b[90m━━━━━━━━━━━━━━━━━━━━━━━━━━━━━━━━━━━━━━━━\u001b[0m \u001b[32m664.8/664.8 MB\u001b[0m \u001b[31m2.4 MB/s\u001b[0m eta \u001b[36m0:00:00\u001b[0m\n",
            "\u001b[?25hDownloading nvidia_cufft_cu12-11.2.1.3-py3-none-manylinux2014_x86_64.whl (211.5 MB)\n",
            "\u001b[2K   \u001b[90m━━━━━━━━━━━━━━━━━━━━━━━━━━━━━━━━━━━━━━━━\u001b[0m \u001b[32m211.5/211.5 MB\u001b[0m \u001b[31m4.9 MB/s\u001b[0m eta \u001b[36m0:00:00\u001b[0m\n",
            "\u001b[?25hDownloading nvidia_curand_cu12-10.3.5.147-py3-none-manylinux2014_x86_64.whl (56.3 MB)\n",
            "\u001b[2K   \u001b[90m━━━━━━━━━━━━━━━━━━━━━━━━━━━━━━━━━━━━━━━━\u001b[0m \u001b[32m56.3/56.3 MB\u001b[0m \u001b[31m40.8 MB/s\u001b[0m eta \u001b[36m0:00:00\u001b[0m\n",
            "\u001b[?25hDownloading nvidia_cusolver_cu12-11.6.1.9-py3-none-manylinux2014_x86_64.whl (127.9 MB)\n",
            "\u001b[2K   \u001b[90m━━━━━━━━━━━━━━━━━━━━━━━━━━━━━━━━━━━━━━━━\u001b[0m \u001b[32m127.9/127.9 MB\u001b[0m \u001b[31m8.6 MB/s\u001b[0m eta \u001b[36m0:00:00\u001b[0m\n",
            "\u001b[?25hDownloading nvidia_cusparse_cu12-12.3.1.170-py3-none-manylinux2014_x86_64.whl (207.5 MB)\n",
            "\u001b[2K   \u001b[90m━━━━━━━━━━━━━━━━━━━━━━━━━━━━━━━━━━━━━━━━\u001b[0m \u001b[32m207.5/207.5 MB\u001b[0m \u001b[31m4.3 MB/s\u001b[0m eta \u001b[36m0:00:00\u001b[0m\n",
            "\u001b[?25hDownloading nvidia_nvjitlink_cu12-12.4.127-py3-none-manylinux2014_x86_64.whl (21.1 MB)\n",
            "\u001b[2K   \u001b[90m━━━━━━━━━━━━━━━━━━━━━━━━━━━━━━━━━━━━━━━━\u001b[0m \u001b[32m21.1/21.1 MB\u001b[0m \u001b[31m97.6 MB/s\u001b[0m eta \u001b[36m0:00:00\u001b[0m\n",
            "\u001b[?25hDownloading kornia-0.8.1-py2.py3-none-any.whl (1.1 MB)\n",
            "\u001b[2K   \u001b[90m━━━━━━━━━━━━━━━━━━━━━━━━━━━━━━━━━━━━━━━━\u001b[0m \u001b[32m1.1/1.1 MB\u001b[0m \u001b[31m52.6 MB/s\u001b[0m eta \u001b[36m0:00:00\u001b[0m\n",
            "\u001b[?25hDownloading lightning-2.5.1.post0-py3-none-any.whl (819 kB)\n",
            "\u001b[2K   \u001b[90m━━━━━━━━━━━━━━━━━━━━━━━━━━━━━━━━━━━━━━━━\u001b[0m \u001b[32m819.0/819.0 kB\u001b[0m \u001b[31m39.9 MB/s\u001b[0m eta \u001b[36m0:00:00\u001b[0m\n",
            "\u001b[?25hDownloading torchmetrics-1.7.1-py3-none-any.whl (961 kB)\n",
            "\u001b[2K   \u001b[90m━━━━━━━━━━━━━━━━━━━━━━━━━━━━━━━━━━━━━━━━\u001b[0m \u001b[32m961.5/961.5 kB\u001b[0m \u001b[31m49.4 MB/s\u001b[0m eta \u001b[36m0:00:00\u001b[0m\n",
            "\u001b[?25hDownloading Pint-0.24.4-py3-none-any.whl (302 kB)\n",
            "\u001b[2K   \u001b[90m━━━━━━━━━━━━━━━━━━━━━━━━━━━━━━━━━━━━━━━━\u001b[0m \u001b[32m302.0/302.0 kB\u001b[0m \u001b[31m21.3 MB/s\u001b[0m eta \u001b[36m0:00:00\u001b[0m\n",
            "\u001b[?25hDownloading torch_geometric-2.6.1-py3-none-any.whl (1.1 MB)\n",
            "\u001b[2K   \u001b[90m━━━━━━━━━━━━━━━━━━━━━━━━━━━━━━━━━━━━━━━━\u001b[0m \u001b[32m1.1/1.1 MB\u001b[0m \u001b[31m55.7 MB/s\u001b[0m eta \u001b[36m0:00:00\u001b[0m\n",
            "\u001b[?25hDownloading flexcache-0.3-py3-none-any.whl (13 kB)\n",
            "Downloading flexparser-0.4-py3-none-any.whl (27 kB)\n",
            "Downloading kornia_rs-0.1.9-cp311-cp311-manylinux_2_17_x86_64.manylinux2014_x86_64.whl (2.8 MB)\n",
            "\u001b[2K   \u001b[90m━━━━━━━━━━━━━━━━━━━━━━━━━━━━━━━━━━━━━━━━\u001b[0m \u001b[32m2.8/2.8 MB\u001b[0m \u001b[31m88.3 MB/s\u001b[0m eta \u001b[36m0:00:00\u001b[0m\n",
            "\u001b[?25hDownloading lightning_utilities-0.14.3-py3-none-any.whl (28 kB)\n",
            "Downloading pytorch_lightning-2.5.1.post0-py3-none-any.whl (823 kB)\n",
            "\u001b[2K   \u001b[90m━━━━━━━━━━━━━━━━━━━━━━━━━━━━━━━━━━━━━━━━\u001b[0m \u001b[32m823.1/823.1 kB\u001b[0m \u001b[31m44.3 MB/s\u001b[0m eta \u001b[36m0:00:00\u001b[0m\n",
            "\u001b[?25hBuilding wheels for collected packages: lazy_import\n",
            "  Building wheel for lazy_import (setup.py) ... \u001b[?25l\u001b[?25hdone\n",
            "  Created wheel for lazy_import: filename=lazy_import-0.2.2-py2.py3-none-any.whl size=16496 sha256=d9860af540235a6262fb3989fc695daba67f4ac75bb3f94eb973fe767e53fa11\n",
            "  Stored in directory: /root/.cache/pip/wheels/a4/71/2e/08ec0c8372739b0e20a7e48474312372031c5050d8c791c75f\n",
            "Successfully built lazy_import\n",
            "Installing collected packages: nvidia-nvjitlink-cu12, nvidia-curand-cu12, nvidia-cufft-cu12, nvidia-cuda-runtime-cu12, nvidia-cuda-nvrtc-cu12, nvidia-cuda-cupti-cu12, nvidia-cublas-cu12, lightning-utilities, lazy_import, kornia_rs, flexparser, flexcache, pint, nvidia-cusparse-cu12, nvidia-cudnn-cu12, torch-geometric, nvidia-cusolver-cu12, deeptrack, torchmetrics, kornia, pytorch-lightning, lightning, deeplay\n",
            "  Attempting uninstall: nvidia-nvjitlink-cu12\n",
            "    Found existing installation: nvidia-nvjitlink-cu12 12.5.82\n",
            "    Uninstalling nvidia-nvjitlink-cu12-12.5.82:\n",
            "      Successfully uninstalled nvidia-nvjitlink-cu12-12.5.82\n",
            "  Attempting uninstall: nvidia-curand-cu12\n",
            "    Found existing installation: nvidia-curand-cu12 10.3.6.82\n",
            "    Uninstalling nvidia-curand-cu12-10.3.6.82:\n",
            "      Successfully uninstalled nvidia-curand-cu12-10.3.6.82\n",
            "  Attempting uninstall: nvidia-cufft-cu12\n",
            "    Found existing installation: nvidia-cufft-cu12 11.2.3.61\n",
            "    Uninstalling nvidia-cufft-cu12-11.2.3.61:\n",
            "      Successfully uninstalled nvidia-cufft-cu12-11.2.3.61\n",
            "  Attempting uninstall: nvidia-cuda-runtime-cu12\n",
            "    Found existing installation: nvidia-cuda-runtime-cu12 12.5.82\n",
            "    Uninstalling nvidia-cuda-runtime-cu12-12.5.82:\n",
            "      Successfully uninstalled nvidia-cuda-runtime-cu12-12.5.82\n",
            "  Attempting uninstall: nvidia-cuda-nvrtc-cu12\n",
            "    Found existing installation: nvidia-cuda-nvrtc-cu12 12.5.82\n",
            "    Uninstalling nvidia-cuda-nvrtc-cu12-12.5.82:\n",
            "      Successfully uninstalled nvidia-cuda-nvrtc-cu12-12.5.82\n",
            "  Attempting uninstall: nvidia-cuda-cupti-cu12\n",
            "    Found existing installation: nvidia-cuda-cupti-cu12 12.5.82\n",
            "    Uninstalling nvidia-cuda-cupti-cu12-12.5.82:\n",
            "      Successfully uninstalled nvidia-cuda-cupti-cu12-12.5.82\n",
            "  Attempting uninstall: nvidia-cublas-cu12\n",
            "    Found existing installation: nvidia-cublas-cu12 12.5.3.2\n",
            "    Uninstalling nvidia-cublas-cu12-12.5.3.2:\n",
            "      Successfully uninstalled nvidia-cublas-cu12-12.5.3.2\n",
            "  Attempting uninstall: nvidia-cusparse-cu12\n",
            "    Found existing installation: nvidia-cusparse-cu12 12.5.1.3\n",
            "    Uninstalling nvidia-cusparse-cu12-12.5.1.3:\n",
            "      Successfully uninstalled nvidia-cusparse-cu12-12.5.1.3\n",
            "  Attempting uninstall: nvidia-cudnn-cu12\n",
            "    Found existing installation: nvidia-cudnn-cu12 9.3.0.75\n",
            "    Uninstalling nvidia-cudnn-cu12-9.3.0.75:\n",
            "      Successfully uninstalled nvidia-cudnn-cu12-9.3.0.75\n",
            "  Attempting uninstall: nvidia-cusolver-cu12\n",
            "    Found existing installation: nvidia-cusolver-cu12 11.6.3.83\n",
            "    Uninstalling nvidia-cusolver-cu12-11.6.3.83:\n",
            "      Successfully uninstalled nvidia-cusolver-cu12-11.6.3.83\n",
            "Successfully installed deeplay-0.1.3 deeptrack-2.0.1 flexcache-0.3 flexparser-0.4 kornia-0.8.1 kornia_rs-0.1.9 lazy_import-0.2.2 lightning-2.5.1.post0 lightning-utilities-0.14.3 nvidia-cublas-cu12-12.4.5.8 nvidia-cuda-cupti-cu12-12.4.127 nvidia-cuda-nvrtc-cu12-12.4.127 nvidia-cuda-runtime-cu12-12.4.127 nvidia-cudnn-cu12-9.1.0.70 nvidia-cufft-cu12-11.2.1.3 nvidia-curand-cu12-10.3.5.147 nvidia-cusolver-cu12-11.6.1.9 nvidia-cusparse-cu12-12.3.1.170 nvidia-nvjitlink-cu12-12.4.127 pint-0.24.4 pytorch-lightning-2.5.1.post0 torch-geometric-2.6.1 torchmetrics-1.7.1\n"
          ]
        }
      ],
      "source": [
        "!pip install deeplay deeptrack"
      ]
    },
    {
      "cell_type": "markdown",
      "metadata": {
        "id": "_QZBaDS5XZTN"
      },
      "source": [
        "###Create training dataset"
      ]
    },
    {
      "cell_type": "code",
      "execution_count": null,
      "metadata": {
        "colab": {
          "base_uri": "https://localhost:8080/"
        },
        "id": "zWTS5LuS8Tjq",
        "outputId": "3b2d362b-3c5c-4ed4-e745-c7b724762983"
      },
      "outputs": [
        {
          "name": "stderr",
          "output_type": "stream",
          "text": [
            "/usr/local/lib/python3.11/dist-packages/deeptrack/__init__.py:14: UserWarning: TensorFlow is detected in your environment. DeepTrack2 version 2.0++ no longer supports TensorFlow. If you need TensorFlow support, please install the legacy version 1.7 of DeepTrack2:\n",
            "\n",
            "    pip install deeptrack==1.7\n",
            "\n",
            "For more details, refer to the DeepTrack documentation.\n",
            "  warnings.warn(\n",
            "WARNING:pint.util:Redefining '[magnetic_flux]' (<class 'pint.delegates.txt_defparser.plain.DerivedDimensionDefinition'>)\n"
          ]
        }
      ],
      "source": [
        "import deeptrack as dt\n",
        "\n",
        "train_sources_pipeline = dt.sources.Source(inputs=new_data, targets=new_labels)\n",
        "train_sources, _ = dt.sources.random_split(train_sources_pipeline, [0.8, 0.2])\n",
        "\n",
        "inputs_pipeline = dt.Value(train_sources_pipeline.inputs)\n",
        "targets_pipeline = dt.Value(train_sources_pipeline.targets)"
      ]
    },
    {
      "cell_type": "code",
      "execution_count": null,
      "metadata": {
        "id": "Eg1Ainh4kYQK"
      },
      "outputs": [],
      "source": [
        "from torch.utils.data import DataLoader\n",
        "\n",
        "train_dataset = dt.pytorch.Dataset(inputs_pipeline & targets_pipeline,\n",
        "                                   inputs=train_sources)\n",
        "train_loader = DataLoader(train_dataset, batch_size=32, shuffle=True)"
      ]
    },
    {
      "cell_type": "code",
      "execution_count": null,
      "metadata": {
        "colab": {
          "base_uri": "https://localhost:8080/"
        },
        "id": "pMNMzLtpzdwg",
        "outputId": "4a86d0ac-aa99-439f-ceda-aee6da71e487"
      },
      "outputs": [
        {
          "name": "stdout",
          "output_type": "stream",
          "text": [
            "36954\n"
          ]
        }
      ],
      "source": [
        "print(len(train_loader))"
      ]
    },
    {
      "cell_type": "markdown",
      "metadata": {
        "id": "IDJWVVZ16Vbs"
      },
      "source": [
        "###Check the input dimension"
      ]
    },
    {
      "cell_type": "code",
      "execution_count": null,
      "metadata": {
        "colab": {
          "base_uri": "https://localhost:8080/"
        },
        "id": "7Vjn0oyX6SLI",
        "outputId": "dd768578-869b-4154-b242-5dc018687f1b"
      },
      "outputs": [
        {
          "name": "stdout",
          "output_type": "stream",
          "text": [
            "torch.Size([32, 200, 4]) torch.Size([32])\n"
          ]
        }
      ],
      "source": [
        "for in_sequences, targets in train_loader:\n",
        "    print(in_sequences.shape, targets.shape)\n",
        "    break"
      ]
    },
    {
      "cell_type": "markdown",
      "metadata": {
        "id": "VpnCzfeSXfiv"
      },
      "source": [
        "###Create the test and validation dataset"
      ]
    },
    {
      "cell_type": "code",
      "execution_count": null,
      "metadata": {
        "id": "wmUQNxyJ8ect"
      },
      "outputs": [],
      "source": [
        "import deeptrack as dt\n",
        "\n",
        "#importing from the alternative file 'testInput3BodySIMPLE2.pt' for testing\n",
        "sources_pipeline = dt.sources.Source(inputs=new_data, targets=new_labels)\n",
        "test_sources, val_sources, _ = dt.sources.random_split(sources_pipeline, [0.15, 0.25, 0.6])\n",
        "\n",
        "\n",
        "inputs_pipeline_test = dt.Value(sources_pipeline.inputs)\n",
        "targets_pipeline_test = dt.Value(sources_pipeline.targets)"
      ]
    },
    {
      "cell_type": "code",
      "execution_count": null,
      "metadata": {
        "id": "7ti958tSXijB"
      },
      "outputs": [],
      "source": [
        "from torch.utils.data import DataLoader\n",
        "\n",
        "val_dataset = dt.pytorch.Dataset(inputs_pipeline_test & targets_pipeline_test,\n",
        "                                 inputs=val_sources)\n",
        "test_dataset = dt.pytorch.Dataset(inputs_pipeline_test & targets_pipeline_test,\n",
        "                                   inputs=test_sources)\n",
        "\n",
        "val_loader = DataLoader(val_dataset, batch_size=32, shuffle=False)\n",
        "test_loader = DataLoader(test_dataset, batch_size=32, shuffle=False)"
      ]
    },
    {
      "cell_type": "code",
      "execution_count": null,
      "metadata": {
        "colab": {
          "base_uri": "https://localhost:8080/"
        },
        "id": "83jpECjUy2I5",
        "outputId": "9b663f7c-ec32-4116-8b66-a0b2e4206749"
      },
      "outputs": [
        {
          "name": "stdout",
          "output_type": "stream",
          "text": [
            "10668 6401\n"
          ]
        }
      ],
      "source": [
        "print(len(val_loader), len(test_loader))"
      ]
    },
    {
      "cell_type": "markdown",
      "metadata": {
        "id": "3UvzXbgb1WV7"
      },
      "source": [
        "###Check input dimension"
      ]
    },
    {
      "cell_type": "code",
      "execution_count": null,
      "metadata": {
        "colab": {
          "base_uri": "https://localhost:8080/"
        },
        "id": "jj2x_tgZ1Da0",
        "outputId": "4186ab21-7ebc-4e48-bd04-6973711683ea"
      },
      "outputs": [
        {
          "name": "stdout",
          "output_type": "stream",
          "text": [
            "torch.Size([32, 200, 4]) torch.Size([32])\n"
          ]
        }
      ],
      "source": [
        "for in_sequences, targets in val_loader:\n",
        "    print(in_sequences.shape, targets.shape)\n",
        "    break"
      ]
    },
    {
      "cell_type": "markdown",
      "metadata": {
        "id": "otso1lVPk0nJ"
      },
      "source": [
        "#Model 1: MLP"
      ]
    },
    {
      "cell_type": "markdown",
      "metadata": {
        "id": "OucaXw9oloAg"
      },
      "source": [
        "###Create the model"
      ]
    },
    {
      "cell_type": "code",
      "execution_count": null,
      "metadata": {
        "colab": {
          "base_uri": "https://localhost:8080/"
        },
        "id": "6yNO8e4xk0MH",
        "outputId": "e198ed2d-7f2f-4960-de6b-073143489a29"
      },
      "outputs": [
        {
          "name": "stdout",
          "output_type": "stream",
          "text": [
            "Sequential(\n",
            "  (0): Flatten()\n",
            "  (1): MultiLayerPerceptron(\n",
            "    (blocks): LayerList(\n",
            "      (0): LinearBlock(\n",
            "        (layer): Layer[Linear](in_features=800, out_features=180, bias=True)\n",
            "        (activation): Layer[ReLU]()\n",
            "        (dropout): Layer[Dropout](p=0.4)\n",
            "      )\n",
            "      (1): LinearBlock(\n",
            "        (layer): Layer[Linear](in_features=180, out_features=60, bias=True)\n",
            "        (activation): Layer[ReLU]()\n",
            "        (dropout): Layer[Dropout](p=0.4)\n",
            "      )\n",
            "      (2): LinearBlock(\n",
            "        (layer): Layer[Linear](in_features=60, out_features=30, bias=True)\n",
            "        (activation): Layer[ReLU]()\n",
            "        (dropout): Layer[Dropout](p=0.4)\n",
            "      )\n",
            "      (3): LinearBlock(\n",
            "        (layer): Layer[Linear](in_features=30, out_features=3, bias=True)\n",
            "        (activation): Layer[Identity]()\n",
            "      )\n",
            "    )\n",
            "  )\n",
            ")\n"
          ]
        }
      ],
      "source": [
        "import deeplay as dl\n",
        "drop_out = 0.4\n",
        "\n",
        "flatten = dl.ops.Flatten(start_dim=1, end_dim=-1)\n",
        "mlp_flattened = dl.MultiLayerPerceptron(\n",
        "    in_features=truncationNumber*variableNumber, hidden_features=[180, 60, 30], out_features=3,\n",
        "    out_activation=torch.nn.Identity\n",
        ")\n",
        "mlp_flattened.blocks[0].set_dropout(drop_out)\n",
        "mlp_flattened.blocks[1].set_dropout(drop_out)\n",
        "mlp_flattened.blocks[2].set_dropout(drop_out)\n",
        "mlp = dl.Sequential(flatten, mlp_flattened)\n",
        "\n",
        "print(mlp)"
      ]
    },
    {
      "cell_type": "markdown",
      "metadata": {
        "id": "G4jn6T9xkQ51"
      },
      "source": [
        "##Implement Custom Loss"
      ]
    },
    {
      "cell_type": "code",
      "execution_count": null,
      "metadata": {
        "id": "E_cqShpGkvMn"
      },
      "outputs": [],
      "source": [
        "import torch\n",
        "import torch.nn as nn\n",
        "import torch.nn.functional as F\n",
        "\n",
        "class WeightedPriorLoss(nn.Module):\n",
        "    \"\"\"\n",
        "    Cross‐entropy loss reweighted by the true class priors\n",
        "    \"\"\"\n",
        "\n",
        "    def __init__(self, priors: torch.Tensor):\n",
        "        \"\"\"\n",
        "        priors: 1D tensor of length 3 with your true P(y=c) for each class c.\n",
        "        \"\"\"\n",
        "        super().__init__()\n",
        "        # ensure it’s a float tensor, not a Python list\n",
        "        self.register_buffer(\"priors\", priors.float())\n",
        "\n",
        "    def forward(self, logits: torch.Tensor, targets: torch.Tensor) -> torch.Tensor:\n",
        "        \"\"\"\n",
        "        logits: raw model outputs of shape [B, C]\n",
        "        targets: integer class labels [B]\n",
        "        \"\"\"\n",
        "        # use the priors directly as weights\n",
        "        loss = F.cross_entropy(logits,\n",
        "                               targets,\n",
        "                               weight=self.priors,\n",
        "                               reduction=\"mean\")\n",
        "        return loss"
      ]
    },
    {
      "cell_type": "code",
      "execution_count": null,
      "metadata": {
        "id": "TOT0XsVMjCyB"
      },
      "outputs": [],
      "source": [
        "true_priors = torch.tensor([0.35, 0.15, 0.5])"
      ]
    },
    {
      "cell_type": "markdown",
      "metadata": {
        "id": "ZjxMtQVAkUrJ"
      },
      "source": [
        "##Create instance of MLP"
      ]
    },
    {
      "cell_type": "code",
      "execution_count": null,
      "metadata": {
        "colab": {
          "base_uri": "https://localhost:8080/"
        },
        "id": "1NnPGKuRlOV4",
        "outputId": "2666956f-22dd-45c8-e884-d7b759389aa0"
      },
      "outputs": [
        {
          "name": "stdout",
          "output_type": "stream",
          "text": [
            "Classifier(\n",
            "  (loss): WeightedPriorLoss()\n",
            "  (optimizer): Adam[Adam](lr=0.001)\n",
            "  (train_metrics): MetricCollection(\n",
            "    (MulticlassAccuracy): MulticlassAccuracy(),\n",
            "    prefix=train\n",
            "  )\n",
            "  (val_metrics): MetricCollection(\n",
            "    (MulticlassAccuracy): MulticlassAccuracy(),\n",
            "    prefix=val\n",
            "  )\n",
            "  (test_metrics): MetricCollection(\n",
            "    (MulticlassAccuracy): MulticlassAccuracy(),\n",
            "    prefix=test\n",
            "  )\n",
            "  (model): Sequential(\n",
            "    (0): Flatten()\n",
            "    (1): MultiLayerPerceptron(\n",
            "      (blocks): LayerList(\n",
            "        (0): LinearBlock(\n",
            "          (layer): Linear(in_features=800, out_features=180, bias=True)\n",
            "          (activation): ReLU()\n",
            "          (dropout): Dropout(p=0.4, inplace=False)\n",
            "        )\n",
            "        (1): LinearBlock(\n",
            "          (layer): Linear(in_features=180, out_features=60, bias=True)\n",
            "          (activation): ReLU()\n",
            "          (dropout): Dropout(p=0.4, inplace=False)\n",
            "        )\n",
            "        (2): LinearBlock(\n",
            "          (layer): Linear(in_features=60, out_features=30, bias=True)\n",
            "          (activation): ReLU()\n",
            "          (dropout): Dropout(p=0.4, inplace=False)\n",
            "        )\n",
            "        (3): LinearBlock(\n",
            "          (layer): Linear(in_features=30, out_features=3, bias=True)\n",
            "          (activation): Identity()\n",
            "        )\n",
            "      )\n",
            "    )\n",
            "  )\n",
            ")\n"
          ]
        }
      ],
      "source": [
        "mlp_classifier = dl.Classifier(\n",
        "    model=mlp, num_classes=3, make_targets_one_hot=True,\n",
        "    optimizer=dl.Adam(lr=0.001), loss=WeightedPriorLoss(priors=true_priors)\n",
        ").create()\n",
        "\n",
        "print(mlp_classifier)"
      ]
    },
    {
      "cell_type": "markdown",
      "metadata": {
        "id": "myTrvlHnlqNG"
      },
      "source": [
        "###Train and Validate the model"
      ]
    },
    {
      "cell_type": "code",
      "execution_count": null,
      "metadata": {
        "colab": {
          "base_uri": "https://localhost:8080/",
          "height": 706,
          "referenced_widgets": [
            "c450a5408d4d4ab1a2321caff0862d98",
            "0ce5604f926b4ac8aa4f0552d091a685",
            "673cd65ee82c487980add2deef7dc022",
            "fb15eb05cd4348c097ec61a5702fd185",
            "d32f22b6c67b4b6eaa8eb0226cb5c3c3",
            "abd5ec787fa04a0c9fda54bdee4b4f2b",
            "99b750dc61f040b28f5a96cfa668d5eb",
            "ff9b56dfeaf34ca6a6d5e74ab9ad7448",
            "7d2f9183a05a484c8bf37a157952c46b",
            "2fc79d252c874bc6b8b0608256b7e27c",
            "9d9303cb254c48768a97074057c43a7b",
            "859424c97fa84736870068934658da7d",
            "f835d83463694ffea7d55f987ac5c2e1",
            "8e9ef87e83a448ad88f2be2ad6e621a3",
            "4a202b0cdac641dcabac66ee72c0db1d",
            "9b91eef2062944e9829b714d32cda670",
            "101d2f4ae34045c3a8f8bcfc3cb29070",
            "42278ac193e14002bb3d825e9398411b",
            "6296ad04cb254b15b358e79ad7eaacb5",
            "402f872510f746089198477f7ca0a1d7",
            "cc469885c13c4a79824bec628ea3a158",
            "001db5a328774e0c8c3a06d9d55083cd",
            "69fabb91ed884589a8055123c13f6996",
            "7f801e649807449d8841c92a0fc48514",
            "4c6de87dbd6345b48cd9d2a7a6406664",
            "ccaaea52f69546eca6af7082c89f8251",
            "31b854aaee83401da15bf74f92cd765f",
            "1f7159cdda3845cb88bd89c21c733146",
            "ba0f97da631d4594bfd41d2d2e8a2309",
            "8bb917887e484467b84c09054528eeda",
            "afcf74c8d04c49bfa6bc4f096045184d",
            "0aedf99820794b0da9eed9eaa1d1b49f",
            "17c3c7188b7442b59f09f2dd97d565ef",
            "43b265ae1555488195310aea2073e92e",
            "00e90e8f1ad7402387503ad417763e5d",
            "b37c631933994410a0ee9f93d9a61033",
            "2f04ba8708ee4fd5a589976b156853d8",
            "a1640223eba9478a8eee6aaa07ab944a",
            "24f373ebcbf34f9197924c038330e6ac",
            "d260656644f24ab993744f434ee657fa",
            "a4b076fce054425f9d7a2c8c80b1226f",
            "a184fa4f8f4e4d0aace674c60015098f",
            "adad08ff84ba4802a52ebf3a8d6b6c4f",
            "cc7fbfed3eb4407ab1ace68a0970e011",
            "9aeac2f586db4faeb40b516477d96e4d",
            "eaf4965f50404f58a3c24c3c9ae8926b",
            "457124d48d2e4cf2aaa64c3880ab7e01",
            "08df4e371edb4bdb8a88c8fd571b5c72",
            "9035ab2dec884d92be94e34958e8ca6c",
            "a6f5457ae1414a78823aacd84bf03e56",
            "17ff66e533504cc5b4245cbbd2b1f837",
            "75bc404a7b874380ae291d0fea70052a",
            "d02b90a558a44436b4af5ac69429192b",
            "cafcb31801ef4b9387b55dc1eb414a38",
            "818ee202edab4e12ad91d7fe3c169add",
            "4321ad1e1c3142c9b3b540a8c0bcedc4",
            "ef53904d5c3640f8aa98a5dd15dd1ecf",
            "e1cbd5209ff3411da28fb49eb7a5f14a",
            "d58d2be7315848cf8307f9ac57fa8c27",
            "a516b4a5d1aa4652afc49d987ad4315d",
            "44525d83a50f4c789f7951bb7a9db787",
            "153bad9108a547029902fb1d1a7f6f20",
            "dbf3db06f5e4475a80b4ca5677c4c7d0",
            "6c41f0b7e28a415fb695d357a64d79e1",
            "934477bda86a437d88c27d29efe36388",
            "eb9583ffc341490eb6b5827c2f0ec4b6",
            "8441201a6db54e61be19089d8a2b0ad4",
            "7f1485ce4c3844adb7d576642af8f456",
            "88cb300a50f54976ab4c240705eae5b3",
            "e095d7dd8ee64133a848083f2a532659",
            "c11a0dd60b0d46afb5dae2577b43ac54",
            "a520196cff4d45b2a6f4f7a01c8435e1",
            "07e62c2fc34840209acc54a5c81f8501",
            "623be352c2ea4ad1bf1a34311a66c160",
            "2196f32e8bc348479956a53d764cac76",
            "290326a219a24e93890f37e03af56780",
            "73752d1bae3c450aabd29351f32d0c47",
            "44ef8e7b55df4cb2b53800b312f04416",
            "e76c7f6ceb4e44268c890eebfdda5ad1",
            "aeb6b26d365443c69ae8142b822fbba9",
            "f07782a2517148b2b007a50dd58c9f2c",
            "0e1439081dbd40009140ebb851c61f52",
            "4ce18072c5bf4e0f9ebe58bfb9fd9ede",
            "157510917daf468a9bb544bfe8a6d27a",
            "0049d2d747564cc0a52ddb966a72fde9",
            "1a2c5f59a4bf4c729de66e9fd96d2c4f",
            "cdb92274acb3412288774aaf2bc761f7",
            "a0de5176491e48968fe76138f363ea7b"
          ]
        },
        "id": "t_KOS7OZltbR",
        "outputId": "92426e65-c0a7-4cf9-ddfb-c00fc7510f38"
      },
      "outputs": [
        {
          "name": "stderr",
          "output_type": "stream",
          "text": [
            "INFO: \n",
            "  | Name          | Type              | Params | Mode \n",
            "------------------------------------------------------------\n",
            "0 | loss          | WeightedPriorLoss | 0      | train\n",
            "1 | train_metrics | MetricCollection  | 0      | train\n",
            "2 | val_metrics   | MetricCollection  | 0      | train\n",
            "3 | test_metrics  | MetricCollection  | 0      | train\n",
            "4 | model         | Sequential        | 156 K  | train\n",
            "5 | optimizer     | Adam              | 0      | train\n",
            "------------------------------------------------------------\n",
            "156 K     Trainable params\n",
            "0         Non-trainable params\n",
            "156 K     Total params\n",
            "0.628     Total estimated model params size (MB)\n",
            "27        Modules in train mode\n",
            "0         Modules in eval mode\n",
            "INFO:lightning.pytorch.callbacks.model_summary:\n",
            "  | Name          | Type              | Params | Mode \n",
            "------------------------------------------------------------\n",
            "0 | loss          | WeightedPriorLoss | 0      | train\n",
            "1 | train_metrics | MetricCollection  | 0      | train\n",
            "2 | val_metrics   | MetricCollection  | 0      | train\n",
            "3 | test_metrics  | MetricCollection  | 0      | train\n",
            "4 | model         | Sequential        | 156 K  | train\n",
            "5 | optimizer     | Adam              | 0      | train\n",
            "------------------------------------------------------------\n",
            "156 K     Trainable params\n",
            "0         Non-trainable params\n",
            "156 K     Total params\n",
            "0.628     Total estimated model params size (MB)\n",
            "27        Modules in train mode\n",
            "0         Modules in eval mode\n"
          ]
        },
        {
          "data": {
            "application/vnd.jupyter.widget-view+json": {
              "model_id": "c450a5408d4d4ab1a2321caff0862d98",
              "version_major": 2,
              "version_minor": 0
            },
            "text/plain": [
              "Sanity Checking: |          | 0/? [00:00<?, ?it/s]"
            ]
          },
          "metadata": {},
          "output_type": "display_data"
        },
        {
          "name": "stderr",
          "output_type": "stream",
          "text": [
            "/usr/local/lib/python3.11/dist-packages/lightning/pytorch/trainer/connectors/data_connector.py:425: The 'val_dataloader' does not have many workers which may be a bottleneck. Consider increasing the value of the `num_workers` argument` to `num_workers=7` in the `DataLoader` to improve performance.\n",
            "/usr/local/lib/python3.11/dist-packages/lightning/pytorch/trainer/connectors/data_connector.py:425: The 'train_dataloader' does not have many workers which may be a bottleneck. Consider increasing the value of the `num_workers` argument` to `num_workers=7` in the `DataLoader` to improve performance.\n"
          ]
        },
        {
          "data": {
            "application/vnd.jupyter.widget-view+json": {
              "model_id": "859424c97fa84736870068934658da7d",
              "version_major": 2,
              "version_minor": 0
            },
            "text/plain": [
              "Training: |          | 0/? [00:00<?, ?it/s]"
            ]
          },
          "metadata": {},
          "output_type": "display_data"
        },
        {
          "data": {
            "application/vnd.jupyter.widget-view+json": {
              "model_id": "69fabb91ed884589a8055123c13f6996",
              "version_major": 2,
              "version_minor": 0
            },
            "text/plain": [
              "Validation: |          | 0/? [00:00<?, ?it/s]"
            ]
          },
          "metadata": {},
          "output_type": "display_data"
        },
        {
          "data": {
            "application/vnd.jupyter.widget-view+json": {
              "model_id": "43b265ae1555488195310aea2073e92e",
              "version_major": 2,
              "version_minor": 0
            },
            "text/plain": [
              "Validation: |          | 0/? [00:00<?, ?it/s]"
            ]
          },
          "metadata": {},
          "output_type": "display_data"
        },
        {
          "data": {
            "application/vnd.jupyter.widget-view+json": {
              "model_id": "9aeac2f586db4faeb40b516477d96e4d",
              "version_major": 2,
              "version_minor": 0
            },
            "text/plain": [
              "Validation: |          | 0/? [00:00<?, ?it/s]"
            ]
          },
          "metadata": {},
          "output_type": "display_data"
        },
        {
          "data": {
            "application/vnd.jupyter.widget-view+json": {
              "model_id": "4321ad1e1c3142c9b3b540a8c0bcedc4",
              "version_major": 2,
              "version_minor": 0
            },
            "text/plain": [
              "Validation: |          | 0/? [00:00<?, ?it/s]"
            ]
          },
          "metadata": {},
          "output_type": "display_data"
        },
        {
          "data": {
            "application/vnd.jupyter.widget-view+json": {
              "model_id": "8441201a6db54e61be19089d8a2b0ad4",
              "version_major": 2,
              "version_minor": 0
            },
            "text/plain": [
              "Validation: |          | 0/? [00:00<?, ?it/s]"
            ]
          },
          "metadata": {},
          "output_type": "display_data"
        },
        {
          "data": {
            "application/vnd.jupyter.widget-view+json": {
              "model_id": "44ef8e7b55df4cb2b53800b312f04416",
              "version_major": 2,
              "version_minor": 0
            },
            "text/plain": [
              "Validation: |          | 0/? [00:00<?, ?it/s]"
            ]
          },
          "metadata": {},
          "output_type": "display_data"
        }
      ],
      "source": [
        "epochs = 6\n",
        "mlp_trainer = dl.Trainer(max_epochs=epochs, accelerator=\"auto\")\n",
        "mlp_trainer.fit(mlp_classifier, train_loader, val_loader)"
      ]
    },
    {
      "cell_type": "markdown",
      "metadata": {
        "id": "KcjkQQbVMQjK"
      },
      "source": [
        "###Define the training and validation losses"
      ]
    },
    {
      "cell_type": "code",
      "execution_count": null,
      "metadata": {
        "id": "r1vj8TZGmacc"
      },
      "outputs": [],
      "source": [
        "train_losses = mlp_trainer.history.history[\"train_loss_epoch\"][\"value\"]\n",
        "val_losses = mlp_trainer.history.history[\"val_loss_epoch\"][\"value\"][1:]"
      ]
    },
    {
      "cell_type": "markdown",
      "metadata": {
        "id": "nu4dQh47MWGd"
      },
      "source": [
        "###Define the test loss"
      ]
    },
    {
      "cell_type": "code",
      "execution_count": null,
      "metadata": {
        "colab": {
          "base_uri": "https://localhost:8080/"
        },
        "id": "rk7XVHelMZWs",
        "outputId": "210ba1ed-c018-4fcb-d667-7680aa7a32e2"
      },
      "outputs": [
        {
          "name": "stdout",
          "output_type": "stream",
          "text": [
            "test Loss: 0.3285\n",
            "Probability Confidence: 0.7200\n"
          ]
        }
      ],
      "source": [
        "import torch.nn as nn\n",
        "import math\n",
        "criterion = nn.CrossEntropyLoss()\n",
        "\n",
        "test_loss = 0.0\n",
        "mlp_classifier.eval()\n",
        "with torch.no_grad():\n",
        "    for in_sequences, targets in test_loader:\n",
        "        y_pred = mlp_classifier(in_sequences)\n",
        "\n",
        "        loss = criterion(y_pred, targets)\n",
        "        test_loss += loss.item()\n",
        "    test_loss /= len(test_loader)\n",
        "    probabilityConfidence = math.exp(-test_loss)\n",
        "    print(f\"test Loss: {test_loss:.4f}\")\n",
        "    print(f\"Probability Confidence: {probabilityConfidence:.4f}\")"
      ]
    },
    {
      "cell_type": "markdown",
      "metadata": {
        "id": "AXSY-H8jfGp0"
      },
      "source": [
        "##Define accuracy"
      ]
    },
    {
      "cell_type": "code",
      "execution_count": null,
      "metadata": {
        "colab": {
          "base_uri": "https://localhost:8080/"
        },
        "id": "hv66-uWIco-t",
        "outputId": "081ee7b7-d766-4ffc-b8fa-868e89fc7311"
      },
      "outputs": [
        {
          "name": "stdout",
          "output_type": "stream",
          "text": [
            "Overall accuracy: 0.8628\n",
            "Class 0 accuracy: 0.8500 (38888/45752)\n",
            "Class 1 accuracy: 0.7888 (15514/19667)\n",
            "Class 2 accuracy: 0.8775 (122317/139395)\n"
          ]
        }
      ],
      "source": [
        "import torch\n",
        "\n",
        "num_classes = 3\n",
        "\n",
        "# To track per‐class accuracy:\n",
        "correct_per_class = {cls: 0 for cls in range(num_classes)}\n",
        "total_per_class   = {cls: 0 for cls in range(num_classes)}\n",
        "\n",
        "# To track overall accuracy:\n",
        "correct = 0\n",
        "total   = 0\n",
        "\n",
        "mlp_classifier.eval()\n",
        "with torch.no_grad():\n",
        "    for in_sequences, targets in test_loader:\n",
        "        # 1) Forward pass\n",
        "        logits = mlp_classifier(in_sequences)          # shape: [batch_size, num_classes]\n",
        "\n",
        "        # 2) Predicted class indices\n",
        "        preds = logits.argmax(dim=1)                   # shape: [batch_size]\n",
        "\n",
        "        # 3) Overall correct / total\n",
        "        correct += (preds == targets).sum().item()\n",
        "        total   += targets.size(0)\n",
        "\n",
        "        # 4) Per‐class correct / total\n",
        "        for cls in range(num_classes):\n",
        "            cls_mask = (targets == cls)                # which samples are truly class `cls`\n",
        "            total_per_class[cls]   += cls_mask.sum().item()\n",
        "            correct_per_class[cls] += (preds[cls_mask] == cls).sum().item()\n",
        "\n",
        "# 5) Compute and print\n",
        "overall_acc = correct / total\n",
        "print(f\"Overall accuracy: {overall_acc:.4f}\")\n",
        "\n",
        "for cls in range(num_classes):\n",
        "    if total_per_class[cls] > 0:\n",
        "        acc = correct_per_class[cls] / total_per_class[cls]\n",
        "        print(f\"Class {cls} accuracy: {acc:.4f} ({correct_per_class[cls]}/{total_per_class[cls]})\")\n",
        "    else:\n",
        "        print(f\"Class {cls} has no examples in the test set.\")"
      ]
    },
    {
      "cell_type": "markdown",
      "metadata": {
        "id": "5sdafB4xXCKE"
      },
      "source": [
        "###Define the test loss per class (Optional)"
      ]
    },
    {
      "cell_type": "code",
      "execution_count": null,
      "metadata": {
        "colab": {
          "base_uri": "https://localhost:8080/"
        },
        "id": "DI6Qt2YtXHJl",
        "outputId": "019383e1-8b6b-4927-9bf0-6e8f95f09f69"
      },
      "outputs": [
        {
          "name": "stdout",
          "output_type": "stream",
          "text": [
            "Class  0 — avg loss = 0.4293 (n=45752)\n",
            "Class  1 — avg loss = 0.6271 (n=19667)\n",
            "Class  2 — avg loss = 0.2532 (n=139395)\n"
          ]
        }
      ],
      "source": [
        "criterion = nn.CrossEntropyLoss(reduction='none')\n",
        "\n",
        "num_classes = 3\n",
        "\n",
        "total_loss = { cls: 0.0 for cls in range(num_classes) }\n",
        "counts     = { cls: 0   for cls in range(num_classes) }\n",
        "\n",
        "mlp_classifier.eval()\n",
        "with torch.no_grad():\n",
        "    for in_sequences, targets in test_loader:\n",
        "        y_pred = mlp_classifier(in_sequences)\n",
        "        losses = criterion(y_pred, targets)   # shape [B]\n",
        "\n",
        "        # for each possible class, pick out the examples in this batch\n",
        "        for cls in range(num_classes):\n",
        "            mask = (targets == cls)           # boolean mask, shape [B]\n",
        "            if mask.any():\n",
        "                total_loss[cls] += losses[mask].sum().item()\n",
        "                counts[cls]     += mask.sum().item()\n",
        "\n",
        "# finally compute the avg loss per class\n",
        "avg_loss_per_class = {\n",
        "    cls: total_loss[cls] / counts[cls]\n",
        "    if counts[cls] > 0 else float('nan')\n",
        "    for cls in range(num_classes)\n",
        "}\n",
        "\n",
        "for cls, avg in avg_loss_per_class.items():\n",
        "    print(f\"Class {cls:2d} — avg loss = {avg:.4f} (n={counts[cls]})\")"
      ]
    },
    {
      "cell_type": "markdown",
      "metadata": {
        "id": "g4Wn894_m0dB"
      },
      "source": [
        "###Plot the losses"
      ]
    },
    {
      "cell_type": "code",
      "execution_count": null,
      "metadata": {
        "id": "La_XvDzhm2Wv"
      },
      "outputs": [],
      "source": [
        "from matplotlib import pyplot as plt\n",
        "def plot_training(epochs, train_losses, val_losses, bench_loss):\n",
        "    \"\"\"Plot the training and validation losses.\"\"\"\n",
        "    plt.plot(range(epochs), train_losses, label=\"Training Loss\")\n",
        "    plt.plot(range(epochs), val_losses, \"--\", label=\"Validation Loss\")\n",
        "\n",
        "    plt.xlabel(\"Epoch\")\n",
        "    plt.xlim([0, epochs - 1])\n",
        "    plt.ylabel(\"Loss\")\n",
        "    plt.legend()\n",
        "    plt.show()"
      ]
    },
    {
      "cell_type": "code",
      "execution_count": null,
      "metadata": {
        "colab": {
          "base_uri": "https://localhost:8080/",
          "height": 141
        },
        "id": "VhYLJAItnHfs",
        "outputId": "b2591dd3-2f78-4ee5-c0f9-20915c06d25f"
      },
      "outputs": [
        {
          "ename": "NameError",
          "evalue": "name 'plot_training' is not defined",
          "output_type": "error",
          "traceback": [
            "\u001b[0;31m---------------------------------------------------------------------------\u001b[0m",
            "\u001b[0;31mNameError\u001b[0m                                 Traceback (most recent call last)",
            "\u001b[0;32m<ipython-input-27-511919029240>\u001b[0m in \u001b[0;36m<cell line: 0>\u001b[0;34m()\u001b[0m\n\u001b[0;32m----> 1\u001b[0;31m \u001b[0mplot_training\u001b[0m\u001b[0;34m(\u001b[0m\u001b[0mepochs\u001b[0m\u001b[0;34m,\u001b[0m \u001b[0mtrain_losses\u001b[0m\u001b[0;34m,\u001b[0m \u001b[0mval_losses\u001b[0m\u001b[0;34m,\u001b[0m \u001b[0mtest_loss\u001b[0m\u001b[0;34m)\u001b[0m\u001b[0;34m\u001b[0m\u001b[0;34m\u001b[0m\u001b[0m\n\u001b[0m",
            "\u001b[0;31mNameError\u001b[0m: name 'plot_training' is not defined"
          ]
        }
      ],
      "source": [
        "plot_training(epochs, train_losses, val_losses, test_loss)"
      ]
    },
    {
      "cell_type": "markdown",
      "metadata": {
        "id": "SvI0X7hyE0BZ"
      },
      "source": [
        "#Model 2: GRU with attention"
      ]
    },
    {
      "cell_type": "markdown",
      "metadata": {
        "id": "s75Lr9dUnHlF"
      },
      "source": [
        "###Create the model"
      ]
    },
    {
      "cell_type": "code",
      "execution_count": null,
      "metadata": {
        "id": "VJVt1PR-EvPV"
      },
      "outputs": [],
      "source": [
        "import torch\n",
        "import torch.nn as nn\n",
        "\n",
        "class StackedGRU(nn.Module):\n",
        "    def __init__(self, input_size, hidden_features, out_features, attn_dim, dropout=0.2):\n",
        "        super().__init__()\n",
        "        self.featuresNumber = attn_dim\n",
        "        self.layers = nn.ModuleList()\n",
        "        self.dropouts = nn.ModuleList()\n",
        "        for i, hidden in enumerate(hidden_features):\n",
        "            in_feats = input_size if i == 0 else hidden_features[i-1]\n",
        "            # each layer is its own GRU\n",
        "            self.layers.append(\n",
        "                nn.GRU(\n",
        "                    input_size=in_feats,\n",
        "                    hidden_size=hidden,\n",
        "                    batch_first=True\n",
        "                )\n",
        "            )\n",
        "            # dropout\n",
        "            self.dropouts.append(nn.Dropout(dropout))\n",
        "\n",
        "        self.Wq   = nn.Linear(input_size, attn_dim)\n",
        "        self.Wk   = nn.Linear(hidden_features[-1], attn_dim)\n",
        "        self.Wv   = nn.Linear(hidden_features[-1], attn_dim)\n",
        "        self.Wout = nn.Linear(attn_dim, attn_dim)\n",
        "\n",
        "        # map from last layer’s hidden size to final output\n",
        "        self.fc = nn.Linear(attn_dim, out_features)\n",
        "\n",
        "    def forward(self, x, return_attn: bool = False):\n",
        "        # x: (batch, seq_len, input_size)\n",
        "        y = x.clone()\n",
        "        for gru, do in zip(self.layers, self.dropouts):\n",
        "            y, _ = gru(y)    # x now (batch, seq_len, hidden_i)\n",
        "            y = do(y)\n",
        "\n",
        "        y_query = self.Wq(x)\n",
        "        y_key = self.Wk(y)\n",
        "        y_value = self.Wv(y)\n",
        "\n",
        "\n",
        "        attn_scores = (torch.matmul(y_query, y_key.transpose(-2, -1))\n",
        "                       / ( self.featuresNumber** 0.5))\n",
        "        attn_weights = torch.nn.functional.softmax(attn_scores, dim=-1)\n",
        "        y = torch.matmul(attn_weights, y_value)\n",
        "        y = self.Wout(y)\n",
        "\n",
        "        # take last time‑step\n",
        "        last = y[:, -1, :]\n",
        "\n",
        "        if return_attn:\n",
        "            return self.fc(last), attn_weights\n",
        "        else:\n",
        "            return self.fc(last)"
      ]
    },
    {
      "cell_type": "code",
      "execution_count": null,
      "metadata": {
        "id": "sjHsODUUFACx"
      },
      "outputs": [],
      "source": [
        "feature_length = variableNumber #4\n",
        "gru_model = StackedGRU(\n",
        "    input_size=feature_length,\n",
        "    hidden_features=[4, 4],\n",
        "    out_features=3,\n",
        "    attn_dim=3,\n",
        "    dropout=0.3\n",
        ")"
      ]
    },
    {
      "cell_type": "markdown",
      "metadata": {
        "id": "QjSkvvnanMAh"
      },
      "source": [
        "##Train the second model"
      ]
    },
    {
      "cell_type": "code",
      "execution_count": null,
      "metadata": {
        "id": "37COjKkhPfVF"
      },
      "outputs": [],
      "source": [
        "true_priors = torch.tensor([0.38, 0.13, 0.5])"
      ]
    },
    {
      "cell_type": "code",
      "execution_count": null,
      "metadata": {
        "colab": {
          "base_uri": "https://localhost:8080/"
        },
        "id": "gvARMDaaHih8",
        "outputId": "ab1fcefa-1845-4ad6-c840-409d9bcfca9e"
      },
      "outputs": [
        {
          "name": "stdout",
          "output_type": "stream",
          "text": [
            "Epoch 0 Training Loss: 0.6951\n",
            "Epoch 0 Validation Loss: 0.5271\n",
            "Epoch 1 Training Loss: 0.5777\n",
            "Epoch 1 Validation Loss: 0.4855\n",
            "Epoch 2 Training Loss: 0.5361\n",
            "Epoch 2 Validation Loss: 0.4263\n",
            "Epoch 3 Training Loss: 0.5277\n",
            "Epoch 3 Validation Loss: 0.4172\n",
            "Epoch 4 Training Loss: 0.5132\n",
            "Epoch 4 Validation Loss: 0.4134\n",
            "Epoch 5 Training Loss: 0.5061\n",
            "Epoch 5 Validation Loss: 0.3933\n",
            "Epoch 6 Training Loss: 0.5092\n",
            "Epoch 6 Validation Loss: 0.4072\n",
            "Epoch 7 Training Loss: 0.4893\n",
            "Epoch 7 Validation Loss: 0.3736\n",
            "Epoch 8 Training Loss: 0.4815\n",
            "Epoch 8 Validation Loss: 0.4097\n",
            "Epoch 9 Training Loss: 0.4797\n",
            "Epoch 9 Validation Loss: 0.3914\n"
          ]
        }
      ],
      "source": [
        "optimizer = torch.optim.Adam(gru_model.parameters(), lr=0.001)\n",
        "criterion = WeightedPriorLoss(priors=true_priors)\n",
        "epochs = 10\n",
        "\n",
        "train_losses, val_losses = [], []\n",
        "for epoch in range(epochs):\n",
        "    train_loss = 0.0\n",
        "    for in_sequences, targets in train_loader:\n",
        "        optimizer.zero_grad()\n",
        "\n",
        "        y_pred = gru_model(in_sequences)\n",
        "        loss = criterion(y_pred, targets)\n",
        "        loss.backward()\n",
        "        optimizer.step()\n",
        "        train_loss += loss.item()\n",
        "    train_losses.append(train_loss / len(train_loader))\n",
        "    print(f\"Epoch {epoch} Training Loss: {train_losses[-1]:.4f}\")\n",
        "\n",
        "    val_loss = 0.0\n",
        "    with torch.no_grad():\n",
        "        for in_sequences, targets in val_loader:\n",
        "            y_pred = gru_model(in_sequences)\n",
        "\n",
        "            loss = criterion(y_pred, targets)\n",
        "            val_loss += loss.item()\n",
        "        val_losses.append(val_loss / len(val_loader))\n",
        "        print(f\"Epoch {epoch} Validation Loss: {val_losses[-1]:.4f}\")"
      ]
    },
    {
      "cell_type": "markdown",
      "metadata": {
        "id": "kIlsH097fYU8"
      },
      "source": [
        "##Define test loss"
      ]
    },
    {
      "cell_type": "code",
      "execution_count": null,
      "metadata": {
        "colab": {
          "base_uri": "https://localhost:8080/"
        },
        "id": "_38gy7csfbRP",
        "outputId": "0647eb6a-bb09-41cc-c1e9-ae21cdc3747d"
      },
      "outputs": [
        {
          "name": "stdout",
          "output_type": "stream",
          "text": [
            "test Loss: 1.1765\n",
            "Probability Confidence: 0.3084\n"
          ]
        }
      ],
      "source": [
        "import torch.nn as nn\n",
        "import math\n",
        "criterion = nn.CrossEntropyLoss()\n",
        "\n",
        "test_loss = 0.0\n",
        "gru_model.eval()\n",
        "with torch.no_grad():\n",
        "    for in_sequences, targets in test_loader:\n",
        "        y_pred = gru_model(in_sequences)\n",
        "\n",
        "        loss = criterion(y_pred, targets)\n",
        "        test_loss += loss.item()\n",
        "    test_loss /= len(test_loader)\n",
        "    probabilityConfidence = math.exp(-test_loss)\n",
        "    print(f\"test Loss: {test_loss:.4f}\")\n",
        "    print(f\"Probability Confidence: {probabilityConfidence:.4f}\")"
      ]
    },
    {
      "cell_type": "markdown",
      "metadata": {
        "id": "cPhBIVHLfz3t"
      },
      "source": [
        "##Define Accuracy"
      ]
    },
    {
      "cell_type": "code",
      "execution_count": null,
      "metadata": {
        "colab": {
          "base_uri": "https://localhost:8080/"
        },
        "id": "LzRmseC3fvhF",
        "outputId": "85801ba3-cf08-4bf1-cc22-1e220ab57fa3"
      },
      "outputs": [
        {
          "name": "stdout",
          "output_type": "stream",
          "text": [
            "Overall accuracy: 0.6742\n",
            "Class 0 accuracy: 0.0000 (0/45960)\n",
            "Class 1 accuracy: 0.0461 (917/19870)\n",
            "Class 2 accuracy: 0.9870 (137178/138984)\n"
          ]
        }
      ],
      "source": [
        "import torch\n",
        "\n",
        "num_classes = 3\n",
        "\n",
        "# To track per‐class accuracy:\n",
        "correct_per_class = {cls: 0 for cls in range(num_classes)}\n",
        "total_per_class   = {cls: 0 for cls in range(num_classes)}\n",
        "\n",
        "# To track overall accuracy:\n",
        "correct = 0\n",
        "total   = 0\n",
        "\n",
        "gru_model.eval()\n",
        "with torch.no_grad():\n",
        "    for in_sequences, targets in test_loader:\n",
        "        # 1) Forward pass\n",
        "        logits = gru_model(in_sequences)          # shape: [batch_size, num_classes]\n",
        "\n",
        "        # 2) Predicted class indices\n",
        "        preds = logits.argmax(dim=1)                   # shape: [batch_size]\n",
        "\n",
        "        # 3) Overall correct / total\n",
        "        correct += (preds == targets).sum().item()\n",
        "        total   += targets.size(0)\n",
        "\n",
        "        # 4) Per‐class correct / total\n",
        "        for cls in range(num_classes):\n",
        "            cls_mask = (targets == cls)                # which samples are truly class `cls`\n",
        "            total_per_class[cls]   += cls_mask.sum().item()\n",
        "            correct_per_class[cls] += (preds[cls_mask] == cls).sum().item()\n",
        "\n",
        "# 5) Compute and print\n",
        "overall_acc = correct / total\n",
        "print(f\"Overall accuracy: {overall_acc:.4f}\")\n",
        "\n",
        "for cls in range(num_classes):\n",
        "    if total_per_class[cls] > 0:\n",
        "        acc = correct_per_class[cls] / total_per_class[cls]\n",
        "        print(f\"Class {cls} accuracy: {acc:.4f} ({correct_per_class[cls]}/{total_per_class[cls]})\")\n",
        "    else:\n",
        "        print(f\"Class {cls} has no examples in the test set.\")"
      ]
    },
    {
      "cell_type": "markdown",
      "metadata": {
        "id": "6IMeZhbGgfmD"
      },
      "source": [
        "##Define losses per class (Optional)"
      ]
    },
    {
      "cell_type": "code",
      "execution_count": null,
      "metadata": {
        "id": "9O4hob1bgbYc"
      },
      "outputs": [],
      "source": [
        "criterion = nn.CrossEntropyLoss(reduction='none')\n",
        "\n",
        "num_classes = 3\n",
        "\n",
        "total_loss = { cls: 0.0 for cls in range(num_classes) }\n",
        "counts     = { cls: 0   for cls in range(num_classes) }\n",
        "\n",
        "gru_model.eval()\n",
        "with torch.no_grad():\n",
        "    for in_sequences, targets in test_loader:\n",
        "        y_pred = gru_model(in_sequences)\n",
        "        losses = criterion(y_pred, targets)   # shape [B]\n",
        "\n",
        "        # for each possible class, pick out the examples in this batch\n",
        "        for cls in range(num_classes):\n",
        "            mask = (targets == cls)           # boolean mask, shape [B]\n",
        "            if mask.any():\n",
        "                total_loss[cls] += losses[mask].sum().item()\n",
        "                counts[cls]     += mask.sum().item()\n",
        "\n",
        "# finally compute the avg loss per class\n",
        "avg_loss_per_class = {\n",
        "    cls: total_loss[cls] / counts[cls]\n",
        "    if counts[cls] > 0 else float('nan')\n",
        "    for cls in range(num_classes)\n",
        "}\n",
        "\n",
        "for cls, avg in avg_loss_per_class.items():\n",
        "    print(f\"Class {cls:2d} — avg loss = {avg:.4f} (n={counts[cls]})\")"
      ]
    },
    {
      "cell_type": "markdown",
      "metadata": {
        "id": "sKv3pkS-e_mi"
      },
      "source": [
        "##Plot attention Matrix"
      ]
    },
    {
      "cell_type": "code",
      "execution_count": null,
      "metadata": {
        "id": "4U0onPCNhZ2V"
      },
      "outputs": [],
      "source": [
        "gru_model.eval()\n",
        "batch_of_inputs = next(iter(test_loader))[0]\n",
        "with torch.no_grad():\n",
        "    features, attn_matrix = gru_model(batch_of_inputs, return_attn=True)\n",
        "attn_matrix = attn_matrix[0]"
      ]
    },
    {
      "cell_type": "code",
      "execution_count": null,
      "metadata": {
        "colab": {
          "base_uri": "https://localhost:8080/"
        },
        "id": "TX3nFvnV38L_",
        "outputId": "28abf3f1-e9c9-4b41-dd66-cc96ad187008"
      },
      "outputs": [
        {
          "name": "stdout",
          "output_type": "stream",
          "text": [
            "torch.Size([200, 200])\n"
          ]
        }
      ],
      "source": [
        "print(attn_matrix.shape)"
      ]
    },
    {
      "cell_type": "code",
      "execution_count": null,
      "metadata": {
        "id": "FGNyecQGfCAr"
      },
      "outputs": [],
      "source": [
        "from matplotlib import pyplot as plt\n",
        "from matplotlib.ticker import FixedLocator\n",
        "\n",
        "def plot_attention(attn_matrix):\n",
        "    \"\"\"Plot attention.\"\"\"\n",
        "    yLength, xLength = attn_matrix.shape\n",
        "    fig, ax = plt.subplots()\n",
        "    cax = ax.matshow(attn_matrix, cmap=\"Greens\")\n",
        "    fig.colorbar(cax)\n",
        "    plt.show()"
      ]
    },
    {
      "cell_type": "code",
      "execution_count": null,
      "metadata": {
        "colab": {
          "base_uri": "https://localhost:8080/",
          "height": 435
        },
        "id": "ZatFxQdJfbD0",
        "outputId": "c2265c88-e782-49b5-9955-65e408dcdf88"
      },
      "outputs": [
        {
          "data": {
            "image/png": "[encoded data removed]",
            "text/plain": [
              "<Figure size 640x480 with 2 Axes>"
            ]
          },
          "metadata": {},
          "output_type": "display_data"
        }
      ],
      "source": [
        "plot_attention(attn_matrix)"
      ]
    },
    {
      "cell_type": "markdown",
      "metadata": {
        "id": "C-TReYOvgm7B"
      },
      "source": [
        "##Plot the losses"
      ]
    },
    {
      "cell_type": "code",
      "execution_count": null,
      "metadata": {
        "colab": {
          "base_uri": "https://localhost:8080/",
          "height": 449
        },
        "id": "lOnNR0vwgoy0",
        "outputId": "6a0a13f5-2b27-40d3-9f02-9ebea97462da"
      },
      "outputs": [
        {
          "data": {
            "image/png": "[encoded data removed]",
            "text/plain": [
              "<Figure size 640x480 with 1 Axes>"
            ]
          },
          "metadata": {},
          "output_type": "display_data"
        }
      ],
      "source": [
        "plot_training(epochs, train_losses, val_losses, test_loss)"
      ]
    },
    {
      "cell_type": "markdown",
      "metadata": {
        "id": "pSRUDkjSbeJG"
      },
      "source": [
        "#Model 3: Transformer"
      ]
    },
    {
      "cell_type": "markdown",
      "metadata": {
        "id": "YCX7Gu7AiTlD"
      },
      "source": [
        "##Define the Transformer"
      ]
    },
    {
      "cell_type": "code",
      "execution_count": null,
      "metadata": {
        "id": "VmAsVkNFbh2g"
      },
      "outputs": [],
      "source": [
        "import deeplay as dl\n",
        "\n",
        "class MultiHeadAttentionLayer(dl.DeeplayModule):\n",
        "    \"\"\"Multi-head attention layer with masking.\"\"\"\n",
        "\n",
        "    def __init__(self, num_features, num_heads):\n",
        "        \"\"\"Initialize multi-head attention.\"\"\"\n",
        "        super().__init__()\n",
        "        self.num_features, self.num_heads = num_features, num_heads\n",
        "        self.head_dim = num_features // num_heads  # Must be integer\n",
        "\n",
        "        self.Wq = dl.Layer(torch.nn.Linear, num_features, num_features)\n",
        "        self.Wk = dl.Layer(torch.nn.Linear, num_features, num_features)\n",
        "        self.Wv = dl.Layer(torch.nn.Linear, num_features, num_features)\n",
        "        self.Wout = dl.Layer(torch.nn.Linear, num_features, num_features)\n",
        "\n",
        "    def forward(self, in_sequence):\n",
        "        \"\"\"Apply the multi-head attention mechanism to the input sequence.\"\"\"\n",
        "        batch_size, seq_len, embed_dim = in_sequence.shape\n",
        "        Q = self.Wq(in_sequence)\n",
        "        Q = Q.view( batch_size, seq_len, self.num_heads, self.head_dim).permute(0, 2, 1, 3)\n",
        "        K = self.Wk(in_sequence)\n",
        "        K = K.view( batch_size, seq_len, self.num_heads, self.head_dim).permute(0, 2, 1, 3)\n",
        "        V = self.Wv(in_sequence)\n",
        "        V = V.view( batch_size, seq_len, self.num_heads, self.head_dim).permute(0, 2, 1, 3)\n",
        "\n",
        "        attn_scores = (torch.matmul(Q, K.transpose(-2, -1))\n",
        "                       / (self.head_dim ** 0.5))\n",
        "\n",
        "        attn_weights = torch.nn.functional.softmax(attn_scores, dim=-1)\n",
        "        attn_output = torch.matmul(attn_weights, V)\n",
        "\n",
        "        attn_output = attn_output.permute(0, 2, 1, 3).contiguous()\n",
        "        attn_output = attn_output.view(batch_size, seq_len, self.num_features)\n",
        "        return self.Wout(attn_output)"
      ]
    },
    {
      "cell_type": "code",
      "execution_count": null,
      "metadata": {
        "id": "u4f9LOfciedC"
      },
      "outputs": [],
      "source": [
        "from torch_geometric.nn.norm import LayerNorm\n",
        "\n",
        "class TransformerEncoderLayer(dl.DeeplayModule):\n",
        "    \"\"\"Transformer encoder layer.\"\"\"\n",
        "\n",
        "    def __init__(self, num_features, num_heads, feedforward_dim, dropout=0.0):\n",
        "        \"\"\"Initialize transformer encoder layer.\"\"\"\n",
        "        super().__init__()\n",
        "\n",
        "        self.self_attn = MultiHeadAttentionLayer(num_features, num_heads)\n",
        "        self.attn_dropout = dl.Layer(torch.nn.Dropout, dropout)\n",
        "        self.attn_skip = dl.Add()\n",
        "        self.attn_norm = dl.Layer(LayerNorm, num_features, eps=1e-6)\n",
        "\n",
        "        self.feedforward = dl.Sequential(\n",
        "            dl.Layer(torch.nn.Linear, num_features, feedforward_dim),\n",
        "            dl.Layer(torch.nn.ReLU),\n",
        "            dl.Layer(torch.nn.Linear, feedforward_dim, num_features),\n",
        "        )\n",
        "        self.feedforward_dropout = dl.Layer(torch.nn.Dropout, dropout)\n",
        "        self.feedforward_skip = dl.Add()\n",
        "        self.feedforward_norm = dl.Layer(LayerNorm, num_features, eps=1e-6)\n",
        "\n",
        "    def forward(self, in_sequence):\n",
        "        \"\"\"Refine sequence via attention and feedforward layers.\"\"\"\n",
        "        attns = self.self_attn(in_sequence)\n",
        "        attns = self.attn_dropout(attns)\n",
        "        attns = self.attn_skip(in_sequence, attns)\n",
        "        attns = self.attn_norm(attns)\n",
        "\n",
        "        out_sequence = self.feedforward(attns)\n",
        "        out_sequence = self.feedforward_dropout(out_sequence)\n",
        "        out_sequence = self.feedforward_skip(attns, out_sequence)\n",
        "        out_sequence = self.feedforward_norm(out_sequence)\n",
        "\n",
        "        return out_sequence"
      ]
    },
    {
      "cell_type": "code",
      "execution_count": null,
      "metadata": {
        "id": "OsliwOTijyJM"
      },
      "outputs": [],
      "source": [
        "import math\n",
        "class PositionalEncoding(torch.nn.Module):\n",
        "    \"\"\"Positional encodings\"\"\"\n",
        "    def __init__(self, d_model: int, max_len: int = 5000):\n",
        "        super().__init__()\n",
        "        pe = torch.zeros(max_len, d_model)\n",
        "        position = torch.arange(0, max_len, dtype=torch.float32).unsqueeze(1) # [max_len, 1]\n",
        "        #denominators for even and odd indices\n",
        "        div_term = torch.exp(\n",
        "            torch.arange(0, d_model, 1, dtype=torch.float32) *\n",
        "            -(math.log(10000.0) / d_model)\n",
        "        )\n",
        "        pe[:, 0::2] = torch.sin(position * div_term[0::2])\n",
        "        pe[:, 1::2] = torch.cos(position * div_term[1::2])\n",
        "        #store it so, it moves with .to(device)\n",
        "        self.register_buffer('pe', pe.unsqueeze(0))  # shape: [1 x max_len x d_model]\n",
        "    def forward(self, x: torch.Tensor) -> torch.Tensor:\n",
        "        batch_size, seq_len, d_model = x.size()\n",
        "        return x + self.pe[:, :seq_len, :]"
      ]
    },
    {
      "cell_type": "code",
      "execution_count": null,
      "metadata": {
        "id": "Rr6NFzhDj2lP"
      },
      "outputs": [],
      "source": [
        "class TransformerEncoderModel(dl.DeeplayModule):\n",
        "    \"\"\"Transformer encoder model.\"\"\"\n",
        "\n",
        "    def __init__(self, input_size, sequence_length, num_features, num_heads, feedforward_dim,\n",
        "                 num_layers, out_dim, dropout=0.0):\n",
        "        \"\"\"Initialize transformer encoder model.\"\"\"\n",
        "        super().__init__()\n",
        "        self.num_features = num_features\n",
        "\n",
        "        self.embedding = dl.Layer(torch.nn.Linear, input_size, num_features) #Changed the embedding to accept real number\n",
        "\n",
        "        self.pos_encoder = dl.Layer(PositionalEncoding, num_features, sequence_length)\n",
        "\n",
        "        self.transformer_block = dl.LayerList()\n",
        "        for _ in range(num_layers):\n",
        "            self.transformer_block.append(TransformerEncoderLayer(\n",
        "                    num_features, num_heads, feedforward_dim, dropout=dropout,\n",
        "            ))\n",
        "\n",
        "        self.out_block = dl.Sequential(\n",
        "            dl.Layer(torch.nn.Dropout, dropout),\n",
        "            dl.Layer(torch.nn.Linear, num_features, num_features // 2),\n",
        "            dl.Layer(torch.nn.ReLU),\n",
        "            dl.Layer(torch.nn.Linear, num_features // 2, out_dim),\n",
        "        )\n",
        "\n",
        "\n",
        "    def forward(self, input):\n",
        "        \"\"\"Predict sentiment of movie reviews.\"\"\"\n",
        "        in_sequence = input\n",
        "        embeddings = self.embedding(in_sequence) * self.num_features ** 0.5\n",
        "        pos_embeddings = self.pos_encoder(embeddings)\n",
        "\n",
        "        out_sequence = pos_embeddings\n",
        "        for transformer_layer in self.transformer_block:\n",
        "            out_sequence = transformer_layer(out_sequence)\n",
        "\n",
        "        final_sequence = self.out_block(out_sequence).squeeze()\n",
        "        final_states = final_sequence[:, -1, :]\n",
        "        return final_states"
      ]
    },
    {
      "cell_type": "code",
      "execution_count": null,
      "metadata": {
        "id": "CmKq20ZSkC4-"
      },
      "outputs": [],
      "source": [
        "number_channels = variableNumber #4\n",
        "seq_len = truncationNumber #200\n",
        "transformer_encoder = TransformerEncoderModel(\n",
        "    input_size= number_channels, sequence_length = seq_len,\n",
        "    num_features=12, num_heads=3, feedforward_dim=20,\n",
        "    num_layers=2, out_dim=3, dropout=0.3,\n",
        ").create()"
      ]
    },
    {
      "cell_type": "code",
      "execution_count": null,
      "metadata": {
        "colab": {
          "base_uri": "https://localhost:8080/"
        },
        "id": "WeGa9DH8kE8o",
        "outputId": "eaad1ef3-de71-493b-83bf-fcc297f513b2"
      },
      "outputs": [
        {
          "output_type": "stream",
          "name": "stdout",
          "text": [
            "TransformerEncoderModel(\n",
            "  (embedding): Linear(in_features=4, out_features=12, bias=True)\n",
            "  (pos_encoder): PositionalEncoding()\n",
            "  (transformer_block): LayerList(\n",
            "    (0-1): 2 x TransformerEncoderLayer(\n",
            "      (self_attn): MultiHeadAttentionLayer(\n",
            "        (Wq): Linear(in_features=12, out_features=12, bias=True)\n",
            "        (Wk): Linear(in_features=12, out_features=12, bias=True)\n",
            "        (Wv): Linear(in_features=12, out_features=12, bias=True)\n",
            "        (Wout): Linear(in_features=12, out_features=12, bias=True)\n",
            "      )\n",
            "      (attn_dropout): Dropout(p=0.3, inplace=False)\n",
            "      (attn_skip): Add()\n",
            "      (attn_norm): LayerNorm(12, affine=True, mode=graph)\n",
            "      (feedforward): Sequential(\n",
            "        (0): Linear(in_features=12, out_features=20, bias=True)\n",
            "        (1): ReLU()\n",
            "        (2): Linear(in_features=20, out_features=12, bias=True)\n",
            "      )\n",
            "      (feedforward_dropout): Dropout(p=0.3, inplace=False)\n",
            "      (feedforward_skip): Add()\n",
            "      (feedforward_norm): LayerNorm(12, affine=True, mode=graph)\n",
            "    )\n",
            "  )\n",
            "  (out_block): Sequential(\n",
            "    (0): Dropout(p=0.3, inplace=False)\n",
            "    (1): Linear(in_features=12, out_features=6, bias=True)\n",
            "    (2): ReLU()\n",
            "    (3): Linear(in_features=6, out_features=3, bias=True)\n",
            "  )\n",
            ")\n"
          ]
        }
      ],
      "source": [
        "print(transformer_encoder)"
      ]
    },
    {
      "cell_type": "markdown",
      "metadata": {
        "id": "8U4fAUEAkHiY"
      },
      "source": [
        "##Train the third Model"
      ]
    },
    {
      "cell_type": "code",
      "execution_count": null,
      "metadata": {
        "id": "H90L18dpkJKQ"
      },
      "outputs": [],
      "source": [
        "transformer_model = dl.Classifier(transformer_encoder, num_classes=3,\n",
        "                                  make_targets_one_hot=True,\n",
        "                                  optimizer=dl.Adam(lr=0.001),\n",
        "                                  loss=WeightedPriorLoss(priors=true_priors)).create()"
      ]
    },
    {
      "cell_type": "markdown",
      "metadata": {
        "id": "hqQSKGzIva3A"
      },
      "source": [
        "##Plot the losses"
      ]
    },
    {
      "cell_type": "code",
      "source": [
        "epochs = 1\n",
        "trainer = dl.Trainer(max_epochs=epochs, accelerator=\"auto\")\n",
        "trainer.fit(transformer_model, train_loader, val_loader)"
      ],
      "metadata": {
        "colab": {
          "base_uri": "https://localhost:8080/",
          "height": 706,
          "referenced_widgets": [
            "dd40eecb9eda4223952fddaed5b24e0a",
            "e7062b70724e4cc582ad940029610dcb",
            "49a9b9606c924e43bc3c3a22fd3cfd45",
            "6524dff9ca0e42a3b34d37f56d9d5c61",
            "0b4593510848452eb5ff813d2cb264ba",
            "931dd733e7974f94807fbec7e49a6a1d",
            "ea207c96b196408c88317afb30785149",
            "83bc76d8ee6d40f8867175060cfeef3d",
            "776430f65b524fb09985b6bd7bcbdc4d",
            "de478d9f60fc48e7934e1619c61b780a",
            "64c0a4b1826f4bfe8a41bc839dccd71d",
            "f49091e499364524aa7567ab3a0352a8",
            "0c3d51e4fc8b4e1081c996c6eb69d5bf",
            "e2066d15f0e644908cd1e192075e57bb",
            "ebf2864737174cef8af9542d1167c48b",
            "63d5163fcbc84a83b12776c8e7cb23d6",
            "0acaec29daaf4fa19c0e2a6e8f0ceda4",
            "8ba709f0b8ba40ca88e070e584ee30ea",
            "51c6d518ac2f412fb89eb456e067e6cd",
            "58799a6b30c846ec8d2d19c34d1a00f6",
            "8ebf4ba2e35f45c3a6a94f60e0fef3d6",
            "9a75e02c67244a8ea65fd972bbcd3f42",
            "1709a32383be4770b1965df14366d292",
            "141e6dfcc7104041b8f9ced971146853",
            "bb0bb5c2796e4cebbc80b2d324322580",
            "077fc66bf52448a9a2b12a6281b12f6e",
            "c45dca8d005348a1b167180ffa42813c",
            "1c37b187502b44f19e275ffd0c46ebe4",
            "b39282239ca04884b73b3d201f2d757a",
            "edccbf96b21d465a919473f4833b037f",
            "8289a77df35c40498bdc05efc25561c9",
            "bf1b2c0eafe5473a8c738af16c28054f",
            "b9032c0c6220462f98e8aa7831f0af2e",
            "fc99e3e79c704822b311ddb4a624f3b9",
            "5d5fdbc95bd1428ea41a95c574dd5a9a",
            "11f96bf8a8f04d2d9c09602c2cddf362",
            "d5a73c911d424d139558ac2448a5afea",
            "0c1d8b46b8d541af9853dcebdfff3db5",
            "f622c5b8db5349e1b315809f6b2da3bf",
            "028e84bc56af4dd299090d31711b7323",
            "40bcb634e0f94d73999d134db02547e4",
            "bd0bb45611ac4d90857b5766486b3cba",
            "ac6901f3bb7049fcb2452266ac5117fc",
            "183d79184c284a93b5a844f0dc38416a"
          ]
        },
        "id": "wZi_hUsDFFll",
        "outputId": "8d78bad4-dcd4-40f2-85e7-6fd29e3fa92d"
      },
      "execution_count": null,
      "outputs": [
        {
          "output_type": "stream",
          "name": "stderr",
          "text": [
            "INFO: \n",
            "  | Name          | Type                    | Params | Mode \n",
            "------------------------------------------------------------------\n",
            "0 | loss          | WeightedPriorLoss       | 0      | train\n",
            "1 | train_metrics | MetricCollection        | 0      | train\n",
            "2 | val_metrics   | MetricCollection        | 0      | train\n",
            "3 | test_metrics  | MetricCollection        | 0      | train\n",
            "4 | model         | TransformerEncoderModel | 2.5 K  | train\n",
            "5 | optimizer     | Adam                    | 0      | train\n",
            "------------------------------------------------------------------\n",
            "2.5 K     Trainable params\n",
            "0         Non-trainable params\n",
            "2.5 K     Total params\n",
            "0.010     Total estimated model params size (MB)\n",
            "49        Modules in train mode\n",
            "0         Modules in eval mode\n",
            "INFO:lightning.pytorch.callbacks.model_summary:\n",
            "  | Name          | Type                    | Params | Mode \n",
            "------------------------------------------------------------------\n",
            "0 | loss          | WeightedPriorLoss       | 0      | train\n",
            "1 | train_metrics | MetricCollection        | 0      | train\n",
            "2 | val_metrics   | MetricCollection        | 0      | train\n",
            "3 | test_metrics  | MetricCollection        | 0      | train\n",
            "4 | model         | TransformerEncoderModel | 2.5 K  | train\n",
            "5 | optimizer     | Adam                    | 0      | train\n",
            "------------------------------------------------------------------\n",
            "2.5 K     Trainable params\n",
            "0         Non-trainable params\n",
            "2.5 K     Total params\n",
            "0.010     Total estimated model params size (MB)\n",
            "49        Modules in train mode\n",
            "0         Modules in eval mode\n"
          ]
        },
        {
          "output_type": "display_data",
          "data": {
            "text/plain": [
              "Sanity Checking: |          | 0/? [00:00<?, ?it/s]"
            ],
            "application/vnd.jupyter.widget-view+json": {
              "version_major": 2,
              "version_minor": 0,
              "model_id": "dd40eecb9eda4223952fddaed5b24e0a"
            }
          },
          "metadata": {}
        },
        {
          "output_type": "stream",
          "name": "stderr",
          "text": [
            "/usr/local/lib/python3.11/dist-packages/lightning/pytorch/trainer/connectors/data_connector.py:425: The 'val_dataloader' does not have many workers which may be a bottleneck. Consider increasing the value of the `num_workers` argument` to `num_workers=7` in the `DataLoader` to improve performance.\n",
            "/usr/local/lib/python3.11/dist-packages/lightning/pytorch/trainer/connectors/data_connector.py:425: The 'train_dataloader' does not have many workers which may be a bottleneck. Consider increasing the value of the `num_workers` argument` to `num_workers=7` in the `DataLoader` to improve performance.\n"
          ]
        },
        {
          "output_type": "display_data",
          "data": {
            "text/plain": [
              "Training: |          | 0/? [00:00<?, ?it/s]"
            ],
            "application/vnd.jupyter.widget-view+json": {
              "version_major": 2,
              "version_minor": 0,
              "model_id": "f49091e499364524aa7567ab3a0352a8"
            }
          },
          "metadata": {}
        },
        {
          "output_type": "display_data",
          "data": {
            "text/plain": [
              "Validation: |          | 0/? [00:00<?, ?it/s]"
            ],
            "application/vnd.jupyter.widget-view+json": {
              "version_major": 2,
              "version_minor": 0,
              "model_id": "1709a32383be4770b1965df14366d292"
            }
          },
          "metadata": {}
        },
        {
          "output_type": "display_data",
          "data": {
            "text/plain": [
              "Validation: |          | 0/? [00:00<?, ?it/s]"
            ],
            "application/vnd.jupyter.widget-view+json": {
              "version_major": 2,
              "version_minor": 0,
              "model_id": "fc99e3e79c704822b311ddb4a624f3b9"
            }
          },
          "metadata": {}
        }
      ]
    },
    {
      "cell_type": "markdown",
      "metadata": {
        "id": "B9E6sB2tBKB_"
      },
      "source": [
        "##Plot Losses"
      ]
    },
    {
      "cell_type": "code",
      "execution_count": null,
      "metadata": {
        "colab": {
          "base_uri": "https://localhost:8080/",
          "height": 449
        },
        "id": "XTz1W52mkTv9",
        "outputId": "341d9568-aa78-4924-8178-1621e6abe20d"
      },
      "outputs": [
        {
          "output_type": "display_data",
          "data": {
            "text/plain": [
              "<Figure size 640x480 with 1 Axes>"
            ],
            "image/png": "[encoded data removed]"
          },
          "metadata": {}
        }
      ],
      "source": [
        "train_losses = trainer.history.history[\"train_loss_epoch\"][\"value\"]\n",
        "val_losses = trainer.history.history[\"val_loss_epoch\"][\"value\"][1:]\n",
        "bench_loss=0\n",
        "plot_training(epochs, train_losses, val_losses, bench_loss)"
      ]
    },
    {
      "cell_type": "markdown",
      "metadata": {
        "id": "azPWQ4aVugAW"
      },
      "source": [
        "##Define test loss"
      ]
    },
    {
      "cell_type": "code",
      "execution_count": null,
      "metadata": {
        "colab": {
          "base_uri": "https://localhost:8080/"
        },
        "id": "kD1P7Oc0ugAW",
        "outputId": "ba84d5e6-9ba4-47cc-94aa-ba50a3aee4cd"
      },
      "outputs": [
        {
          "output_type": "stream",
          "name": "stdout",
          "text": [
            "test Loss: 0.3386\n",
            "Probability Confidence: 0.7128\n"
          ]
        }
      ],
      "source": [
        "import torch.nn as nn\n",
        "import math\n",
        "criterion = nn.CrossEntropyLoss()\n",
        "#criterion = WeightedPriorLoss(priors=true_priors)\n",
        "\n",
        "test_loss = 0.0\n",
        "transformer_model.eval()\n",
        "with torch.no_grad():\n",
        "    for in_sequences, targets in test_loader:\n",
        "        y_pred = transformer_model(in_sequences)\n",
        "\n",
        "        loss = criterion(y_pred, targets)\n",
        "        test_loss += loss.item()\n",
        "    test_loss /= len(test_loader)\n",
        "    probabilityConfidence = math.exp(-test_loss)\n",
        "    print(f\"test Loss: {test_loss:.4f}\")\n",
        "    print(f\"Probability Confidence: {probabilityConfidence:.4f}\")"
      ]
    },
    {
      "cell_type": "markdown",
      "metadata": {
        "id": "Bu6RGliQugAX"
      },
      "source": [
        "##Define Accuracy"
      ]
    },
    {
      "cell_type": "code",
      "execution_count": null,
      "metadata": {
        "colab": {
          "base_uri": "https://localhost:8080/"
        },
        "id": "A2PtdbzrugAX",
        "outputId": "1a03e020-e787-4004-dea6-ae759023744b"
      },
      "outputs": [
        {
          "output_type": "stream",
          "name": "stdout",
          "text": [
            "Overall accuracy: 0.8424\n",
            "Class 0 accuracy: 0.8952 (41120/45932)\n",
            "Class 1 accuracy: 0.6482 (12756/19679)\n",
            "Class 2 accuracy: 0.8524 (118658/139203)\n"
          ]
        }
      ],
      "source": [
        "import torch\n",
        "\n",
        "num_classes = 3\n",
        "\n",
        "# To track per‐class accuracy:\n",
        "correct_per_class = {cls: 0 for cls in range(num_classes)}\n",
        "total_per_class   = {cls: 0 for cls in range(num_classes)}\n",
        "\n",
        "# To track overall accuracy:\n",
        "correct = 0\n",
        "total   = 0\n",
        "\n",
        "transformer_model.eval()\n",
        "with torch.no_grad():\n",
        "    for in_sequences, targets in test_loader:\n",
        "        # 1) Forward pass\n",
        "        logits = transformer_model(in_sequences)          # shape: [batch_size, num_classes]\n",
        "\n",
        "        # 2) Predicted class indices\n",
        "        preds = logits.argmax(dim=1)                   # shape: [batch_size]\n",
        "\n",
        "        # 3) Overall correct / total\n",
        "        correct += (preds == targets).sum().item()\n",
        "        total   += targets.size(0)\n",
        "\n",
        "        # 4) Per‐class correct / total\n",
        "        for cls in range(num_classes):\n",
        "            cls_mask = (targets == cls)                # which samples are truly class `cls`\n",
        "            total_per_class[cls]   += cls_mask.sum().item()\n",
        "            correct_per_class[cls] += (preds[cls_mask] == cls).sum().item()\n",
        "\n",
        "# 5) Compute and print\n",
        "overall_acc = correct / total\n",
        "print(f\"Overall accuracy: {overall_acc:.4f}\")\n",
        "\n",
        "for cls in range(num_classes):\n",
        "    if total_per_class[cls] > 0:\n",
        "        acc = correct_per_class[cls] / total_per_class[cls]\n",
        "        print(f\"Class {cls} accuracy: {acc:.4f} ({correct_per_class[cls]}/{total_per_class[cls]})\")\n",
        "    else:\n",
        "        print(f\"Class {cls} has no examples in the test set.\")"
      ]
    },
    {
      "cell_type": "markdown",
      "metadata": {
        "id": "Cf97zvXvugAX"
      },
      "source": [
        "##Define losses per class (Optional)"
      ]
    },
    {
      "cell_type": "code",
      "execution_count": null,
      "metadata": {
        "id": "CmW3VJ5WugAY"
      },
      "outputs": [],
      "source": [
        "criterion = nn.CrossEntropyLoss(reduction='none')\n",
        "\n",
        "num_classes = 3\n",
        "\n",
        "total_loss = { cls: 0.0 for cls in range(num_classes) }\n",
        "counts     = { cls: 0   for cls in range(num_classes) }\n",
        "\n",
        "transformer_model.eval()\n",
        "with torch.no_grad():\n",
        "    for in_sequences, targets in test_loader:\n",
        "        y_pred = transformer_model(in_sequences)\n",
        "        losses = criterion(y_pred, targets)   # shape [B]\n",
        "\n",
        "        # for each possible class, pick out the examples in this batch\n",
        "        for cls in range(num_classes):\n",
        "            mask = (targets == cls)           # boolean mask, shape [B]\n",
        "            if mask.any():\n",
        "                total_loss[cls] += losses[mask].sum().item()\n",
        "                counts[cls]     += mask.sum().item()\n",
        "\n",
        "# finally compute the avg loss per class\n",
        "avg_loss_per_class = {\n",
        "    cls: total_loss[cls] / counts[cls]\n",
        "    if counts[cls] > 0 else float('nan')\n",
        "    for cls in range(num_classes)\n",
        "}\n",
        "\n",
        "for cls, avg in avg_loss_per_class.items():\n",
        "    print(f\"Class {cls:2d} — avg loss = {avg:.4f} (n={counts[cls]})\")"
      ]
    }
  ],
  "metadata": {
    "colab": {
      "machine_shape": "hm",
      "provenance": []
    },
    "kernelspec": {
      "display_name": "Python 3",
      "name": "python3"
    },
    "language_info": {
      "name": "python"
    },
    "widgets": {
      "application/vnd.jupyter.widget-state+json": {
        "001db5a328774e0c8c3a06d9d55083cd": {
          "model_module": "@jupyter-widgets/controls",
          "model_module_version": "1.5.0",
          "model_name": "DescriptionStyleModel",
          "state": {
            "_model_module": "@jupyter-widgets/controls",
            "_model_module_version": "1.5.0",
            "_model_name": "DescriptionStyleModel",
            "_view_count": null,
            "_view_module": "@jupyter-widgets/base",
            "_view_module_version": "1.2.0",
            "_view_name": "StyleView",
            "description_width": ""
          }
        },
        "0049d2d747564cc0a52ddb966a72fde9": {
          "model_module": "@jupyter-widgets/base",
          "model_module_version": "1.2.0",
          "model_name": "LayoutModel",
          "state": {
            "_model_module": "@jupyter-widgets/base",
            "_model_module_version": "1.2.0",
            "_model_name": "LayoutModel",
            "_view_count": null,
            "_view_module": "@jupyter-widgets/base",
            "_view_module_version": "1.2.0",
            "_view_name": "LayoutView",
            "align_content": null,
            "align_items": null,
            "align_self": null,
            "border": null,
            "bottom": null,
            "display": null,
            "flex": "2",
            "flex_flow": null,
            "grid_area": null,
            "grid_auto_columns": null,
            "grid_auto_flow": null,
            "grid_auto_rows": null,
            "grid_column": null,
            "grid_gap": null,
            "grid_row": null,
            "grid_template_areas": null,
            "grid_template_columns": null,
            "grid_template_rows": null,
            "height": null,
            "justify_content": null,
            "justify_items": null,
            "left": null,
            "margin": null,
            "max_height": null,
            "max_width": null,
            "min_height": null,
            "min_width": null,
            "object_fit": null,
            "object_position": null,
            "order": null,
            "overflow": null,
            "overflow_x": null,
            "overflow_y": null,
            "padding": null,
            "right": null,
            "top": null,
            "visibility": null,
            "width": null
          }
        },
        "00e90e8f1ad7402387503ad417763e5d": {
          "model_module": "@jupyter-widgets/controls",
          "model_module_version": "1.5.0",
          "model_name": "HTMLModel",
          "state": {
            "_dom_classes": [],
            "_model_module": "@jupyter-widgets/controls",
            "_model_module_version": "1.5.0",
            "_model_name": "HTMLModel",
            "_view_count": null,
            "_view_module": "@jupyter-widgets/controls",
            "_view_module_version": "1.5.0",
            "_view_name": "HTMLView",
            "description": "",
            "description_tooltip": null,
            "layout": "IPY_MODEL_24f373ebcbf34f9197924c038330e6ac",
            "placeholder": "​",
            "style": "IPY_MODEL_d260656644f24ab993744f434ee657fa",
            "value": "Validation DataLoader 0: 100%"
          }
        },
        "07e62c2fc34840209acc54a5c81f8501": {
          "model_module": "@jupyter-widgets/controls",
          "model_module_version": "1.5.0",
          "model_name": "DescriptionStyleModel",
          "state": {
            "_model_module": "@jupyter-widgets/controls",
            "_model_module_version": "1.5.0",
            "_model_name": "DescriptionStyleModel",
            "_view_count": null,
            "_view_module": "@jupyter-widgets/base",
            "_view_module_version": "1.2.0",
            "_view_name": "StyleView",
            "description_width": ""
          }
        },
        "08df4e371edb4bdb8a88c8fd571b5c72": {
          "model_module": "@jupyter-widgets/controls",
          "model_module_version": "1.5.0",
          "model_name": "HTMLModel",
          "state": {
            "_dom_classes": [],
            "_model_module": "@jupyter-widgets/controls",
            "_model_module_version": "1.5.0",
            "_model_name": "HTMLModel",
            "_view_count": null,
            "_view_module": "@jupyter-widgets/controls",
            "_view_module_version": "1.5.0",
            "_view_name": "HTMLView",
            "description": "",
            "description_tooltip": null,
            "layout": "IPY_MODEL_cafcb31801ef4b9387b55dc1eb414a38",
            "placeholder": "​",
            "style": "IPY_MODEL_818ee202edab4e12ad91d7fe3c169add",
            "value": " 10668/10668 [00:44&lt;00:00, 240.53it/s]"
          }
        },
        "0aedf99820794b0da9eed9eaa1d1b49f": {
          "model_module": "@jupyter-widgets/base",
          "model_module_version": "1.2.0",
          "model_name": "LayoutModel",
          "state": {
            "_model_module": "@jupyter-widgets/base",
            "_model_module_version": "1.2.0",
            "_model_name": "LayoutModel",
            "_view_count": null,
            "_view_module": "@jupyter-widgets/base",
            "_view_module_version": "1.2.0",
            "_view_name": "LayoutView",
            "align_content": null,
            "align_items": null,
            "align_self": null,
            "border": null,
            "bottom": null,
            "display": null,
            "flex": null,
            "flex_flow": null,
            "grid_area": null,
            "grid_auto_columns": null,
            "grid_auto_flow": null,
            "grid_auto_rows": null,
            "grid_column": null,
            "grid_gap": null,
            "grid_row": null,
            "grid_template_areas": null,
            "grid_template_columns": null,
            "grid_template_rows": null,
            "height": null,
            "justify_content": null,
            "justify_items": null,
            "left": null,
            "margin": null,
            "max_height": null,
            "max_width": null,
            "min_height": null,
            "min_width": null,
            "object_fit": null,
            "object_position": null,
            "order": null,
            "overflow": null,
            "overflow_x": null,
            "overflow_y": null,
            "padding": null,
            "right": null,
            "top": null,
            "visibility": null,
            "width": null
          }
        },
        "0ce5604f926b4ac8aa4f0552d091a685": {
          "model_module": "@jupyter-widgets/controls",
          "model_module_version": "1.5.0",
          "model_name": "HTMLModel",
          "state": {
            "_dom_classes": [],
            "_model_module": "@jupyter-widgets/controls",
            "_model_module_version": "1.5.0",
            "_model_name": "HTMLModel",
            "_view_count": null,
            "_view_module": "@jupyter-widgets/controls",
            "_view_module_version": "1.5.0",
            "_view_name": "HTMLView",
            "description": "",
            "description_tooltip": null,
            "layout": "IPY_MODEL_abd5ec787fa04a0c9fda54bdee4b4f2b",
            "placeholder": "​",
            "style": "IPY_MODEL_99b750dc61f040b28f5a96cfa668d5eb",
            "value": "Sanity Checking DataLoader 0: 100%"
          }
        },
        "0e1439081dbd40009140ebb851c61f52": {
          "model_module": "@jupyter-widgets/base",
          "model_module_version": "1.2.0",
          "model_name": "LayoutModel",
          "state": {
            "_model_module": "@jupyter-widgets/base",
            "_model_module_version": "1.2.0",
            "_model_name": "LayoutModel",
            "_view_count": null,
            "_view_module": "@jupyter-widgets/base",
            "_view_module_version": "1.2.0",
            "_view_name": "LayoutView",
            "align_content": null,
            "align_items": null,
            "align_self": null,
            "border": null,
            "bottom": null,
            "display": "inline-flex",
            "flex": null,
            "flex_flow": "row wrap",
            "grid_area": null,
            "grid_auto_columns": null,
            "grid_auto_flow": null,
            "grid_auto_rows": null,
            "grid_column": null,
            "grid_gap": null,
            "grid_row": null,
            "grid_template_areas": null,
            "grid_template_columns": null,
            "grid_template_rows": null,
            "height": null,
            "justify_content": null,
            "justify_items": null,
            "left": null,
            "margin": null,
            "max_height": null,
            "max_width": null,
            "min_height": null,
            "min_width": null,
            "object_fit": null,
            "object_position": null,
            "order": null,
            "overflow": null,
            "overflow_x": null,
            "overflow_y": null,
            "padding": null,
            "right": null,
            "top": null,
            "visibility": "hidden",
            "width": "100%"
          }
        },
        "101d2f4ae34045c3a8f8bcfc3cb29070": {
          "model_module": "@jupyter-widgets/base",
          "model_module_version": "1.2.0",
          "model_name": "LayoutModel",
          "state": {
            "_model_module": "@jupyter-widgets/base",
            "_model_module_version": "1.2.0",
            "_model_name": "LayoutModel",
            "_view_count": null,
            "_view_module": "@jupyter-widgets/base",
            "_view_module_version": "1.2.0",
            "_view_name": "LayoutView",
            "align_content": null,
            "align_items": null,
            "align_self": null,
            "border": null,
            "bottom": null,
            "display": null,
            "flex": null,
            "flex_flow": null,
            "grid_area": null,
            "grid_auto_columns": null,
            "grid_auto_flow": null,
            "grid_auto_rows": null,
            "grid_column": null,
            "grid_gap": null,
            "grid_row": null,
            "grid_template_areas": null,
            "grid_template_columns": null,
            "grid_template_rows": null,
            "height": null,
            "justify_content": null,
            "justify_items": null,
            "left": null,
            "margin": null,
            "max_height": null,
            "max_width": null,
            "min_height": null,
            "min_width": null,
            "object_fit": null,
            "object_position": null,
            "order": null,
            "overflow": null,
            "overflow_x": null,
            "overflow_y": null,
            "padding": null,
            "right": null,
            "top": null,
            "visibility": null,
            "width": null
          }
        },
        "153bad9108a547029902fb1d1a7f6f20": {
          "model_module": "@jupyter-widgets/controls",
          "model_module_version": "1.5.0",
          "model_name": "DescriptionStyleModel",
          "state": {
            "_model_module": "@jupyter-widgets/controls",
            "_model_module_version": "1.5.0",
            "_model_name": "DescriptionStyleModel",
            "_view_count": null,
            "_view_module": "@jupyter-widgets/base",
            "_view_module_version": "1.2.0",
            "_view_name": "StyleView",
            "description_width": ""
          }
        },
        "157510917daf468a9bb544bfe8a6d27a": {
          "model_module": "@jupyter-widgets/controls",
          "model_module_version": "1.5.0",
          "model_name": "DescriptionStyleModel",
          "state": {
            "_model_module": "@jupyter-widgets/controls",
            "_model_module_version": "1.5.0",
            "_model_name": "DescriptionStyleModel",
            "_view_count": null,
            "_view_module": "@jupyter-widgets/base",
            "_view_module_version": "1.2.0",
            "_view_name": "StyleView",
            "description_width": ""
          }
        },
        "17c3c7188b7442b59f09f2dd97d565ef": {
          "model_module": "@jupyter-widgets/controls",
          "model_module_version": "1.5.0",
          "model_name": "DescriptionStyleModel",
          "state": {
            "_model_module": "@jupyter-widgets/controls",
            "_model_module_version": "1.5.0",
            "_model_name": "DescriptionStyleModel",
            "_view_count": null,
            "_view_module": "@jupyter-widgets/base",
            "_view_module_version": "1.2.0",
            "_view_name": "StyleView",
            "description_width": ""
          }
        },
        "17ff66e533504cc5b4245cbbd2b1f837": {
          "model_module": "@jupyter-widgets/controls",
          "model_module_version": "1.5.0",
          "model_name": "DescriptionStyleModel",
          "state": {
            "_model_module": "@jupyter-widgets/controls",
            "_model_module_version": "1.5.0",
            "_model_name": "DescriptionStyleModel",
            "_view_count": null,
            "_view_module": "@jupyter-widgets/base",
            "_view_module_version": "1.2.0",
            "_view_name": "StyleView",
            "description_width": ""
          }
        },
        "1a2c5f59a4bf4c729de66e9fd96d2c4f": {
          "model_module": "@jupyter-widgets/controls",
          "model_module_version": "1.5.0",
          "model_name": "ProgressStyleModel",
          "state": {
            "_model_module": "@jupyter-widgets/controls",
            "_model_module_version": "1.5.0",
            "_model_name": "ProgressStyleModel",
            "_view_count": null,
            "_view_module": "@jupyter-widgets/base",
            "_view_module_version": "1.2.0",
            "_view_name": "StyleView",
            "bar_color": null,
            "description_width": ""
          }
        },
        "1f7159cdda3845cb88bd89c21c733146": {
          "model_module": "@jupyter-widgets/base",
          "model_module_version": "1.2.0",
          "model_name": "LayoutModel",
          "state": {
            "_model_module": "@jupyter-widgets/base",
            "_model_module_version": "1.2.0",
            "_model_name": "LayoutModel",
            "_view_count": null,
            "_view_module": "@jupyter-widgets/base",
            "_view_module_version": "1.2.0",
            "_view_name": "LayoutView",
            "align_content": null,
            "align_items": null,
            "align_self": null,
            "border": null,
            "bottom": null,
            "display": null,
            "flex": null,
            "flex_flow": null,
            "grid_area": null,
            "grid_auto_columns": null,
            "grid_auto_flow": null,
            "grid_auto_rows": null,
            "grid_column": null,
            "grid_gap": null,
            "grid_row": null,
            "grid_template_areas": null,
            "grid_template_columns": null,
            "grid_template_rows": null,
            "height": null,
            "justify_content": null,
            "justify_items": null,
            "left": null,
            "margin": null,
            "max_height": null,
            "max_width": null,
            "min_height": null,
            "min_width": null,
            "object_fit": null,
            "object_position": null,
            "order": null,
            "overflow": null,
            "overflow_x": null,
            "overflow_y": null,
            "padding": null,
            "right": null,
            "top": null,
            "visibility": null,
            "width": null
          }
        },
        "2196f32e8bc348479956a53d764cac76": {
          "model_module": "@jupyter-widgets/controls",
          "model_module_version": "1.5.0",
          "model_name": "ProgressStyleModel",
          "state": {
            "_model_module": "@jupyter-widgets/controls",
            "_model_module_version": "1.5.0",
            "_model_name": "ProgressStyleModel",
            "_view_count": null,
            "_view_module": "@jupyter-widgets/base",
            "_view_module_version": "1.2.0",
            "_view_name": "StyleView",
            "bar_color": null,
            "description_width": ""
          }
        },
        "24f373ebcbf34f9197924c038330e6ac": {
          "model_module": "@jupyter-widgets/base",
          "model_module_version": "1.2.0",
          "model_name": "LayoutModel",
          "state": {
            "_model_module": "@jupyter-widgets/base",
            "_model_module_version": "1.2.0",
            "_model_name": "LayoutModel",
            "_view_count": null,
            "_view_module": "@jupyter-widgets/base",
            "_view_module_version": "1.2.0",
            "_view_name": "LayoutView",
            "align_content": null,
            "align_items": null,
            "align_self": null,
            "border": null,
            "bottom": null,
            "display": null,
            "flex": null,
            "flex_flow": null,
            "grid_area": null,
            "grid_auto_columns": null,
            "grid_auto_flow": null,
            "grid_auto_rows": null,
            "grid_column": null,
            "grid_gap": null,
            "grid_row": null,
            "grid_template_areas": null,
            "grid_template_columns": null,
            "grid_template_rows": null,
            "height": null,
            "justify_content": null,
            "justify_items": null,
            "left": null,
            "margin": null,
            "max_height": null,
            "max_width": null,
            "min_height": null,
            "min_width": null,
            "object_fit": null,
            "object_position": null,
            "order": null,
            "overflow": null,
            "overflow_x": null,
            "overflow_y": null,
            "padding": null,
            "right": null,
            "top": null,
            "visibility": null,
            "width": null
          }
        },
        "290326a219a24e93890f37e03af56780": {
          "model_module": "@jupyter-widgets/base",
          "model_module_version": "1.2.0",
          "model_name": "LayoutModel",
          "state": {
            "_model_module": "@jupyter-widgets/base",
            "_model_module_version": "1.2.0",
            "_model_name": "LayoutModel",
            "_view_count": null,
            "_view_module": "@jupyter-widgets/base",
            "_view_module_version": "1.2.0",
            "_view_name": "LayoutView",
            "align_content": null,
            "align_items": null,
            "align_self": null,
            "border": null,
            "bottom": null,
            "display": null,
            "flex": null,
            "flex_flow": null,
            "grid_area": null,
            "grid_auto_columns": null,
            "grid_auto_flow": null,
            "grid_auto_rows": null,
            "grid_column": null,
            "grid_gap": null,
            "grid_row": null,
            "grid_template_areas": null,
            "grid_template_columns": null,
            "grid_template_rows": null,
            "height": null,
            "justify_content": null,
            "justify_items": null,
            "left": null,
            "margin": null,
            "max_height": null,
            "max_width": null,
            "min_height": null,
            "min_width": null,
            "object_fit": null,
            "object_position": null,
            "order": null,
            "overflow": null,
            "overflow_x": null,
            "overflow_y": null,
            "padding": null,
            "right": null,
            "top": null,
            "visibility": null,
            "width": null
          }
        },
        "2f04ba8708ee4fd5a589976b156853d8": {
          "model_module": "@jupyter-widgets/controls",
          "model_module_version": "1.5.0",
          "model_name": "HTMLModel",
          "state": {
            "_dom_classes": [],
            "_model_module": "@jupyter-widgets/controls",
            "_model_module_version": "1.5.0",
            "_model_name": "HTMLModel",
            "_view_count": null,
            "_view_module": "@jupyter-widgets/controls",
            "_view_module_version": "1.5.0",
            "_view_name": "HTMLView",
            "description": "",
            "description_tooltip": null,
            "layout": "IPY_MODEL_adad08ff84ba4802a52ebf3a8d6b6c4f",
            "placeholder": "​",
            "style": "IPY_MODEL_cc7fbfed3eb4407ab1ace68a0970e011",
            "value": " 10668/10668 [00:38&lt;00:00, 276.36it/s]"
          }
        },
        "2fc79d252c874bc6b8b0608256b7e27c": {
          "model_module": "@jupyter-widgets/base",
          "model_module_version": "1.2.0",
          "model_name": "LayoutModel",
          "state": {
            "_model_module": "@jupyter-widgets/base",
            "_model_module_version": "1.2.0",
            "_model_name": "LayoutModel",
            "_view_count": null,
            "_view_module": "@jupyter-widgets/base",
            "_view_module_version": "1.2.0",
            "_view_name": "LayoutView",
            "align_content": null,
            "align_items": null,
            "align_self": null,
            "border": null,
            "bottom": null,
            "display": null,
            "flex": null,
            "flex_flow": null,
            "grid_area": null,
            "grid_auto_columns": null,
            "grid_auto_flow": null,
            "grid_auto_rows": null,
            "grid_column": null,
            "grid_gap": null,
            "grid_row": null,
            "grid_template_areas": null,
            "grid_template_columns": null,
            "grid_template_rows": null,
            "height": null,
            "justify_content": null,
            "justify_items": null,
            "left": null,
            "margin": null,
            "max_height": null,
            "max_width": null,
            "min_height": null,
            "min_width": null,
            "object_fit": null,
            "object_position": null,
            "order": null,
            "overflow": null,
            "overflow_x": null,
            "overflow_y": null,
            "padding": null,
            "right": null,
            "top": null,
            "visibility": null,
            "width": null
          }
        },
        "31b854aaee83401da15bf74f92cd765f": {
          "model_module": "@jupyter-widgets/base",
          "model_module_version": "1.2.0",
          "model_name": "LayoutModel",
          "state": {
            "_model_module": "@jupyter-widgets/base",
            "_model_module_version": "1.2.0",
            "_model_name": "LayoutModel",
            "_view_count": null,
            "_view_module": "@jupyter-widgets/base",
            "_view_module_version": "1.2.0",
            "_view_name": "LayoutView",
            "align_content": null,
            "align_items": null,
            "align_self": null,
            "border": null,
            "bottom": null,
            "display": "inline-flex",
            "flex": null,
            "flex_flow": "row wrap",
            "grid_area": null,
            "grid_auto_columns": null,
            "grid_auto_flow": null,
            "grid_auto_rows": null,
            "grid_column": null,
            "grid_gap": null,
            "grid_row": null,
            "grid_template_areas": null,
            "grid_template_columns": null,
            "grid_template_rows": null,
            "height": null,
            "justify_content": null,
            "justify_items": null,
            "left": null,
            "margin": null,
            "max_height": null,
            "max_width": null,
            "min_height": null,
            "min_width": null,
            "object_fit": null,
            "object_position": null,
            "order": null,
            "overflow": null,
            "overflow_x": null,
            "overflow_y": null,
            "padding": null,
            "right": null,
            "top": null,
            "visibility": "hidden",
            "width": "100%"
          }
        },
        "402f872510f746089198477f7ca0a1d7": {
          "model_module": "@jupyter-widgets/controls",
          "model_module_version": "1.5.0",
          "model_name": "ProgressStyleModel",
          "state": {
            "_model_module": "@jupyter-widgets/controls",
            "_model_module_version": "1.5.0",
            "_model_name": "ProgressStyleModel",
            "_view_count": null,
            "_view_module": "@jupyter-widgets/base",
            "_view_module_version": "1.2.0",
            "_view_name": "StyleView",
            "bar_color": null,
            "description_width": ""
          }
        },
        "42278ac193e14002bb3d825e9398411b": {
          "model_module": "@jupyter-widgets/controls",
          "model_module_version": "1.5.0",
          "model_name": "DescriptionStyleModel",
          "state": {
            "_model_module": "@jupyter-widgets/controls",
            "_model_module_version": "1.5.0",
            "_model_name": "DescriptionStyleModel",
            "_view_count": null,
            "_view_module": "@jupyter-widgets/base",
            "_view_module_version": "1.2.0",
            "_view_name": "StyleView",
            "description_width": ""
          }
        },
        "4321ad1e1c3142c9b3b540a8c0bcedc4": {
          "model_module": "@jupyter-widgets/controls",
          "model_module_version": "1.5.0",
          "model_name": "HBoxModel",
          "state": {
            "_dom_classes": [],
            "_model_module": "@jupyter-widgets/controls",
            "_model_module_version": "1.5.0",
            "_model_name": "HBoxModel",
            "_view_count": null,
            "_view_module": "@jupyter-widgets/controls",
            "_view_module_version": "1.5.0",
            "_view_name": "HBoxView",
            "box_style": "",
            "children": [
              "IPY_MODEL_ef53904d5c3640f8aa98a5dd15dd1ecf",
              "IPY_MODEL_e1cbd5209ff3411da28fb49eb7a5f14a",
              "IPY_MODEL_d58d2be7315848cf8307f9ac57fa8c27"
            ],
            "layout": "IPY_MODEL_a516b4a5d1aa4652afc49d987ad4315d"
          }
        },
        "43b265ae1555488195310aea2073e92e": {
          "model_module": "@jupyter-widgets/controls",
          "model_module_version": "1.5.0",
          "model_name": "HBoxModel",
          "state": {
            "_dom_classes": [],
            "_model_module": "@jupyter-widgets/controls",
            "_model_module_version": "1.5.0",
            "_model_name": "HBoxModel",
            "_view_count": null,
            "_view_module": "@jupyter-widgets/controls",
            "_view_module_version": "1.5.0",
            "_view_name": "HBoxView",
            "box_style": "",
            "children": [
              "IPY_MODEL_00e90e8f1ad7402387503ad417763e5d",
              "IPY_MODEL_b37c631933994410a0ee9f93d9a61033",
              "IPY_MODEL_2f04ba8708ee4fd5a589976b156853d8"
            ],
            "layout": "IPY_MODEL_a1640223eba9478a8eee6aaa07ab944a"
          }
        },
        "44525d83a50f4c789f7951bb7a9db787": {
          "model_module": "@jupyter-widgets/base",
          "model_module_version": "1.2.0",
          "model_name": "LayoutModel",
          "state": {
            "_model_module": "@jupyter-widgets/base",
            "_model_module_version": "1.2.0",
            "_model_name": "LayoutModel",
            "_view_count": null,
            "_view_module": "@jupyter-widgets/base",
            "_view_module_version": "1.2.0",
            "_view_name": "LayoutView",
            "align_content": null,
            "align_items": null,
            "align_self": null,
            "border": null,
            "bottom": null,
            "display": null,
            "flex": null,
            "flex_flow": null,
            "grid_area": null,
            "grid_auto_columns": null,
            "grid_auto_flow": null,
            "grid_auto_rows": null,
            "grid_column": null,
            "grid_gap": null,
            "grid_row": null,
            "grid_template_areas": null,
            "grid_template_columns": null,
            "grid_template_rows": null,
            "height": null,
            "justify_content": null,
            "justify_items": null,
            "left": null,
            "margin": null,
            "max_height": null,
            "max_width": null,
            "min_height": null,
            "min_width": null,
            "object_fit": null,
            "object_position": null,
            "order": null,
            "overflow": null,
            "overflow_x": null,
            "overflow_y": null,
            "padding": null,
            "right": null,
            "top": null,
            "visibility": null,
            "width": null
          }
        },
        "44ef8e7b55df4cb2b53800b312f04416": {
          "model_module": "@jupyter-widgets/controls",
          "model_module_version": "1.5.0",
          "model_name": "HBoxModel",
          "state": {
            "_dom_classes": [],
            "_model_module": "@jupyter-widgets/controls",
            "_model_module_version": "1.5.0",
            "_model_name": "HBoxModel",
            "_view_count": null,
            "_view_module": "@jupyter-widgets/controls",
            "_view_module_version": "1.5.0",
            "_view_name": "HBoxView",
            "box_style": "",
            "children": [
              "IPY_MODEL_e76c7f6ceb4e44268c890eebfdda5ad1",
              "IPY_MODEL_aeb6b26d365443c69ae8142b822fbba9",
              "IPY_MODEL_f07782a2517148b2b007a50dd58c9f2c"
            ],
            "layout": "IPY_MODEL_0e1439081dbd40009140ebb851c61f52"
          }
        },
        "457124d48d2e4cf2aaa64c3880ab7e01": {
          "model_module": "@jupyter-widgets/controls",
          "model_module_version": "1.5.0",
          "model_name": "FloatProgressModel",
          "state": {
            "_dom_classes": [],
            "_model_module": "@jupyter-widgets/controls",
            "_model_module_version": "1.5.0",
            "_model_name": "FloatProgressModel",
            "_view_count": null,
            "_view_module": "@jupyter-widgets/controls",
            "_view_module_version": "1.5.0",
            "_view_name": "ProgressView",
            "bar_style": "",
            "description": "",
            "description_tooltip": null,
            "layout": "IPY_MODEL_75bc404a7b874380ae291d0fea70052a",
            "max": 10668,
            "min": 0,
            "orientation": "horizontal",
            "style": "IPY_MODEL_d02b90a558a44436b4af5ac69429192b",
            "value": 10668
          }
        },
        "4a202b0cdac641dcabac66ee72c0db1d": {
          "model_module": "@jupyter-widgets/controls",
          "model_module_version": "1.5.0",
          "model_name": "HTMLModel",
          "state": {
            "_dom_classes": [],
            "_model_module": "@jupyter-widgets/controls",
            "_model_module_version": "1.5.0",
            "_model_name": "HTMLModel",
            "_view_count": null,
            "_view_module": "@jupyter-widgets/controls",
            "_view_module_version": "1.5.0",
            "_view_name": "HTMLView",
            "description": "",
            "description_tooltip": null,
            "layout": "IPY_MODEL_cc469885c13c4a79824bec628ea3a158",
            "placeholder": "​",
            "style": "IPY_MODEL_001db5a328774e0c8c3a06d9d55083cd",
            "value": " 36954/36954 [05:14&lt;00:00, 117.43it/s, v_num=3, train_loss_step=0.162, trainMulticlassAccuracy_step=0.846, val_loss_step=0.162, valMulticlassAccuracy_step=0.833, val_loss_epoch=0.130, valMulticlassAccuracy_epoch=0.864, train_loss_epoch=0.118, trainMulticlassAccuracy_epoch=0.817]"
          }
        },
        "4c6de87dbd6345b48cd9d2a7a6406664": {
          "model_module": "@jupyter-widgets/controls",
          "model_module_version": "1.5.0",
          "model_name": "FloatProgressModel",
          "state": {
            "_dom_classes": [],
            "_model_module": "@jupyter-widgets/controls",
            "_model_module_version": "1.5.0",
            "_model_name": "FloatProgressModel",
            "_view_count": null,
            "_view_module": "@jupyter-widgets/controls",
            "_view_module_version": "1.5.0",
            "_view_name": "ProgressView",
            "bar_style": "",
            "description": "",
            "description_tooltip": null,
            "layout": "IPY_MODEL_8bb917887e484467b84c09054528eeda",
            "max": 10668,
            "min": 0,
            "orientation": "horizontal",
            "style": "IPY_MODEL_afcf74c8d04c49bfa6bc4f096045184d",
            "value": 10668
          }
        },
        "4ce18072c5bf4e0f9ebe58bfb9fd9ede": {
          "model_module": "@jupyter-widgets/base",
          "model_module_version": "1.2.0",
          "model_name": "LayoutModel",
          "state": {
            "_model_module": "@jupyter-widgets/base",
            "_model_module_version": "1.2.0",
            "_model_name": "LayoutModel",
            "_view_count": null,
            "_view_module": "@jupyter-widgets/base",
            "_view_module_version": "1.2.0",
            "_view_name": "LayoutView",
            "align_content": null,
            "align_items": null,
            "align_self": null,
            "border": null,
            "bottom": null,
            "display": null,
            "flex": null,
            "flex_flow": null,
            "grid_area": null,
            "grid_auto_columns": null,
            "grid_auto_flow": null,
            "grid_auto_rows": null,
            "grid_column": null,
            "grid_gap": null,
            "grid_row": null,
            "grid_template_areas": null,
            "grid_template_columns": null,
            "grid_template_rows": null,
            "height": null,
            "justify_content": null,
            "justify_items": null,
            "left": null,
            "margin": null,
            "max_height": null,
            "max_width": null,
            "min_height": null,
            "min_width": null,
            "object_fit": null,
            "object_position": null,
            "order": null,
            "overflow": null,
            "overflow_x": null,
            "overflow_y": null,
            "padding": null,
            "right": null,
            "top": null,
            "visibility": null,
            "width": null
          }
        },
        "623be352c2ea4ad1bf1a34311a66c160": {
          "model_module": "@jupyter-widgets/base",
          "model_module_version": "1.2.0",
          "model_name": "LayoutModel",
          "state": {
            "_model_module": "@jupyter-widgets/base",
            "_model_module_version": "1.2.0",
            "_model_name": "LayoutModel",
            "_view_count": null,
            "_view_module": "@jupyter-widgets/base",
            "_view_module_version": "1.2.0",
            "_view_name": "LayoutView",
            "align_content": null,
            "align_items": null,
            "align_self": null,
            "border": null,
            "bottom": null,
            "display": null,
            "flex": "2",
            "flex_flow": null,
            "grid_area": null,
            "grid_auto_columns": null,
            "grid_auto_flow": null,
            "grid_auto_rows": null,
            "grid_column": null,
            "grid_gap": null,
            "grid_row": null,
            "grid_template_areas": null,
            "grid_template_columns": null,
            "grid_template_rows": null,
            "height": null,
            "justify_content": null,
            "justify_items": null,
            "left": null,
            "margin": null,
            "max_height": null,
            "max_width": null,
            "min_height": null,
            "min_width": null,
            "object_fit": null,
            "object_position": null,
            "order": null,
            "overflow": null,
            "overflow_x": null,
            "overflow_y": null,
            "padding": null,
            "right": null,
            "top": null,
            "visibility": null,
            "width": null
          }
        },
        "6296ad04cb254b15b358e79ad7eaacb5": {
          "model_module": "@jupyter-widgets/base",
          "model_module_version": "1.2.0",
          "model_name": "LayoutModel",
          "state": {
            "_model_module": "@jupyter-widgets/base",
            "_model_module_version": "1.2.0",
            "_model_name": "LayoutModel",
            "_view_count": null,
            "_view_module": "@jupyter-widgets/base",
            "_view_module_version": "1.2.0",
            "_view_name": "LayoutView",
            "align_content": null,
            "align_items": null,
            "align_self": null,
            "border": null,
            "bottom": null,
            "display": null,
            "flex": "2",
            "flex_flow": null,
            "grid_area": null,
            "grid_auto_columns": null,
            "grid_auto_flow": null,
            "grid_auto_rows": null,
            "grid_column": null,
            "grid_gap": null,
            "grid_row": null,
            "grid_template_areas": null,
            "grid_template_columns": null,
            "grid_template_rows": null,
            "height": null,
            "justify_content": null,
            "justify_items": null,
            "left": null,
            "margin": null,
            "max_height": null,
            "max_width": null,
            "min_height": null,
            "min_width": null,
            "object_fit": null,
            "object_position": null,
            "order": null,
            "overflow": null,
            "overflow_x": null,
            "overflow_y": null,
            "padding": null,
            "right": null,
            "top": null,
            "visibility": null,
            "width": null
          }
        },
        "673cd65ee82c487980add2deef7dc022": {
          "model_module": "@jupyter-widgets/controls",
          "model_module_version": "1.5.0",
          "model_name": "FloatProgressModel",
          "state": {
            "_dom_classes": [],
            "_model_module": "@jupyter-widgets/controls",
            "_model_module_version": "1.5.0",
            "_model_name": "FloatProgressModel",
            "_view_count": null,
            "_view_module": "@jupyter-widgets/controls",
            "_view_module_version": "1.5.0",
            "_view_name": "ProgressView",
            "bar_style": "",
            "description": "",
            "description_tooltip": null,
            "layout": "IPY_MODEL_ff9b56dfeaf34ca6a6d5e74ab9ad7448",
            "max": 2,
            "min": 0,
            "orientation": "horizontal",
            "style": "IPY_MODEL_7d2f9183a05a484c8bf37a157952c46b",
            "value": 2
          }
        },
        "69fabb91ed884589a8055123c13f6996": {
          "model_module": "@jupyter-widgets/controls",
          "model_module_version": "1.5.0",
          "model_name": "HBoxModel",
          "state": {
            "_dom_classes": [],
            "_model_module": "@jupyter-widgets/controls",
            "_model_module_version": "1.5.0",
            "_model_name": "HBoxModel",
            "_view_count": null,
            "_view_module": "@jupyter-widgets/controls",
            "_view_module_version": "1.5.0",
            "_view_name": "HBoxView",
            "box_style": "",
            "children": [
              "IPY_MODEL_7f801e649807449d8841c92a0fc48514",
              "IPY_MODEL_4c6de87dbd6345b48cd9d2a7a6406664",
              "IPY_MODEL_ccaaea52f69546eca6af7082c89f8251"
            ],
            "layout": "IPY_MODEL_31b854aaee83401da15bf74f92cd765f"
          }
        },
        "6c41f0b7e28a415fb695d357a64d79e1": {
          "model_module": "@jupyter-widgets/controls",
          "model_module_version": "1.5.0",
          "model_name": "ProgressStyleModel",
          "state": {
            "_model_module": "@jupyter-widgets/controls",
            "_model_module_version": "1.5.0",
            "_model_name": "ProgressStyleModel",
            "_view_count": null,
            "_view_module": "@jupyter-widgets/base",
            "_view_module_version": "1.2.0",
            "_view_name": "StyleView",
            "bar_color": null,
            "description_width": ""
          }
        },
        "73752d1bae3c450aabd29351f32d0c47": {
          "model_module": "@jupyter-widgets/controls",
          "model_module_version": "1.5.0",
          "model_name": "DescriptionStyleModel",
          "state": {
            "_model_module": "@jupyter-widgets/controls",
            "_model_module_version": "1.5.0",
            "_model_name": "DescriptionStyleModel",
            "_view_count": null,
            "_view_module": "@jupyter-widgets/base",
            "_view_module_version": "1.2.0",
            "_view_name": "StyleView",
            "description_width": ""
          }
        },
        "75bc404a7b874380ae291d0fea70052a": {
          "model_module": "@jupyter-widgets/base",
          "model_module_version": "1.2.0",
          "model_name": "LayoutModel",
          "state": {
            "_model_module": "@jupyter-widgets/base",
            "_model_module_version": "1.2.0",
            "_model_name": "LayoutModel",
            "_view_count": null,
            "_view_module": "@jupyter-widgets/base",
            "_view_module_version": "1.2.0",
            "_view_name": "LayoutView",
            "align_content": null,
            "align_items": null,
            "align_self": null,
            "border": null,
            "bottom": null,
            "display": null,
            "flex": "2",
            "flex_flow": null,
            "grid_area": null,
            "grid_auto_columns": null,
            "grid_auto_flow": null,
            "grid_auto_rows": null,
            "grid_column": null,
            "grid_gap": null,
            "grid_row": null,
            "grid_template_areas": null,
            "grid_template_columns": null,
            "grid_template_rows": null,
            "height": null,
            "justify_content": null,
            "justify_items": null,
            "left": null,
            "margin": null,
            "max_height": null,
            "max_width": null,
            "min_height": null,
            "min_width": null,
            "object_fit": null,
            "object_position": null,
            "order": null,
            "overflow": null,
            "overflow_x": null,
            "overflow_y": null,
            "padding": null,
            "right": null,
            "top": null,
            "visibility": null,
            "width": null
          }
        },
        "7d2f9183a05a484c8bf37a157952c46b": {
          "model_module": "@jupyter-widgets/controls",
          "model_module_version": "1.5.0",
          "model_name": "ProgressStyleModel",
          "state": {
            "_model_module": "@jupyter-widgets/controls",
            "_model_module_version": "1.5.0",
            "_model_name": "ProgressStyleModel",
            "_view_count": null,
            "_view_module": "@jupyter-widgets/base",
            "_view_module_version": "1.2.0",
            "_view_name": "StyleView",
            "bar_color": null,
            "description_width": ""
          }
        },
        "7f1485ce4c3844adb7d576642af8f456": {
          "model_module": "@jupyter-widgets/controls",
          "model_module_version": "1.5.0",
          "model_name": "HTMLModel",
          "state": {
            "_dom_classes": [],
            "_model_module": "@jupyter-widgets/controls",
            "_model_module_version": "1.5.0",
            "_model_name": "HTMLModel",
            "_view_count": null,
            "_view_module": "@jupyter-widgets/controls",
            "_view_module_version": "1.5.0",
            "_view_name": "HTMLView",
            "description": "",
            "description_tooltip": null,
            "layout": "IPY_MODEL_a520196cff4d45b2a6f4f7a01c8435e1",
            "placeholder": "​",
            "style": "IPY_MODEL_07e62c2fc34840209acc54a5c81f8501",
            "value": "Validation DataLoader 0: 100%"
          }
        },
        "7f801e649807449d8841c92a0fc48514": {
          "model_module": "@jupyter-widgets/controls",
          "model_module_version": "1.5.0",
          "model_name": "HTMLModel",
          "state": {
            "_dom_classes": [],
            "_model_module": "@jupyter-widgets/controls",
            "_model_module_version": "1.5.0",
            "_model_name": "HTMLModel",
            "_view_count": null,
            "_view_module": "@jupyter-widgets/controls",
            "_view_module_version": "1.5.0",
            "_view_name": "HTMLView",
            "description": "",
            "description_tooltip": null,
            "layout": "IPY_MODEL_1f7159cdda3845cb88bd89c21c733146",
            "placeholder": "​",
            "style": "IPY_MODEL_ba0f97da631d4594bfd41d2d2e8a2309",
            "value": "Validation DataLoader 0: 100%"
          }
        },
        "818ee202edab4e12ad91d7fe3c169add": {
          "model_module": "@jupyter-widgets/controls",
          "model_module_version": "1.5.0",
          "model_name": "DescriptionStyleModel",
          "state": {
            "_model_module": "@jupyter-widgets/controls",
            "_model_module_version": "1.5.0",
            "_model_name": "DescriptionStyleModel",
            "_view_count": null,
            "_view_module": "@jupyter-widgets/base",
            "_view_module_version": "1.2.0",
            "_view_name": "StyleView",
            "description_width": ""
          }
        },
        "8441201a6db54e61be19089d8a2b0ad4": {
          "model_module": "@jupyter-widgets/controls",
          "model_module_version": "1.5.0",
          "model_name": "HBoxModel",
          "state": {
            "_dom_classes": [],
            "_model_module": "@jupyter-widgets/controls",
            "_model_module_version": "1.5.0",
            "_model_name": "HBoxModel",
            "_view_count": null,
            "_view_module": "@jupyter-widgets/controls",
            "_view_module_version": "1.5.0",
            "_view_name": "HBoxView",
            "box_style": "",
            "children": [
              "IPY_MODEL_7f1485ce4c3844adb7d576642af8f456",
              "IPY_MODEL_88cb300a50f54976ab4c240705eae5b3",
              "IPY_MODEL_e095d7dd8ee64133a848083f2a532659"
            ],
            "layout": "IPY_MODEL_c11a0dd60b0d46afb5dae2577b43ac54"
          }
        },
        "859424c97fa84736870068934658da7d": {
          "model_module": "@jupyter-widgets/controls",
          "model_module_version": "1.5.0",
          "model_name": "HBoxModel",
          "state": {
            "_dom_classes": [],
            "_model_module": "@jupyter-widgets/controls",
            "_model_module_version": "1.5.0",
            "_model_name": "HBoxModel",
            "_view_count": null,
            "_view_module": "@jupyter-widgets/controls",
            "_view_module_version": "1.5.0",
            "_view_name": "HBoxView",
            "box_style": "",
            "children": [
              "IPY_MODEL_f835d83463694ffea7d55f987ac5c2e1",
              "IPY_MODEL_8e9ef87e83a448ad88f2be2ad6e621a3",
              "IPY_MODEL_4a202b0cdac641dcabac66ee72c0db1d"
            ],
            "layout": "IPY_MODEL_9b91eef2062944e9829b714d32cda670"
          }
        },
        "88cb300a50f54976ab4c240705eae5b3": {
          "model_module": "@jupyter-widgets/controls",
          "model_module_version": "1.5.0",
          "model_name": "FloatProgressModel",
          "state": {
            "_dom_classes": [],
            "_model_module": "@jupyter-widgets/controls",
            "_model_module_version": "1.5.0",
            "_model_name": "FloatProgressModel",
            "_view_count": null,
            "_view_module": "@jupyter-widgets/controls",
            "_view_module_version": "1.5.0",
            "_view_name": "ProgressView",
            "bar_style": "",
            "description": "",
            "description_tooltip": null,
            "layout": "IPY_MODEL_623be352c2ea4ad1bf1a34311a66c160",
            "max": 10668,
            "min": 0,
            "orientation": "horizontal",
            "style": "IPY_MODEL_2196f32e8bc348479956a53d764cac76",
            "value": 10668
          }
        },
        "8bb917887e484467b84c09054528eeda": {
          "model_module": "@jupyter-widgets/base",
          "model_module_version": "1.2.0",
          "model_name": "LayoutModel",
          "state": {
            "_model_module": "@jupyter-widgets/base",
            "_model_module_version": "1.2.0",
            "_model_name": "LayoutModel",
            "_view_count": null,
            "_view_module": "@jupyter-widgets/base",
            "_view_module_version": "1.2.0",
            "_view_name": "LayoutView",
            "align_content": null,
            "align_items": null,
            "align_self": null,
            "border": null,
            "bottom": null,
            "display": null,
            "flex": "2",
            "flex_flow": null,
            "grid_area": null,
            "grid_auto_columns": null,
            "grid_auto_flow": null,
            "grid_auto_rows": null,
            "grid_column": null,
            "grid_gap": null,
            "grid_row": null,
            "grid_template_areas": null,
            "grid_template_columns": null,
            "grid_template_rows": null,
            "height": null,
            "justify_content": null,
            "justify_items": null,
            "left": null,
            "margin": null,
            "max_height": null,
            "max_width": null,
            "min_height": null,
            "min_width": null,
            "object_fit": null,
            "object_position": null,
            "order": null,
            "overflow": null,
            "overflow_x": null,
            "overflow_y": null,
            "padding": null,
            "right": null,
            "top": null,
            "visibility": null,
            "width": null
          }
        },
        "8e9ef87e83a448ad88f2be2ad6e621a3": {
          "model_module": "@jupyter-widgets/controls",
          "model_module_version": "1.5.0",
          "model_name": "FloatProgressModel",
          "state": {
            "_dom_classes": [],
            "_model_module": "@jupyter-widgets/controls",
            "_model_module_version": "1.5.0",
            "_model_name": "FloatProgressModel",
            "_view_count": null,
            "_view_module": "@jupyter-widgets/controls",
            "_view_module_version": "1.5.0",
            "_view_name": "ProgressView",
            "bar_style": "success",
            "description": "",
            "description_tooltip": null,
            "layout": "IPY_MODEL_6296ad04cb254b15b358e79ad7eaacb5",
            "max": 36954,
            "min": 0,
            "orientation": "horizontal",
            "style": "IPY_MODEL_402f872510f746089198477f7ca0a1d7",
            "value": 36954
          }
        },
        "9035ab2dec884d92be94e34958e8ca6c": {
          "model_module": "@jupyter-widgets/base",
          "model_module_version": "1.2.0",
          "model_name": "LayoutModel",
          "state": {
            "_model_module": "@jupyter-widgets/base",
            "_model_module_version": "1.2.0",
            "_model_name": "LayoutModel",
            "_view_count": null,
            "_view_module": "@jupyter-widgets/base",
            "_view_module_version": "1.2.0",
            "_view_name": "LayoutView",
            "align_content": null,
            "align_items": null,
            "align_self": null,
            "border": null,
            "bottom": null,
            "display": "inline-flex",
            "flex": null,
            "flex_flow": "row wrap",
            "grid_area": null,
            "grid_auto_columns": null,
            "grid_auto_flow": null,
            "grid_auto_rows": null,
            "grid_column": null,
            "grid_gap": null,
            "grid_row": null,
            "grid_template_areas": null,
            "grid_template_columns": null,
            "grid_template_rows": null,
            "height": null,
            "justify_content": null,
            "justify_items": null,
            "left": null,
            "margin": null,
            "max_height": null,
            "max_width": null,
            "min_height": null,
            "min_width": null,
            "object_fit": null,
            "object_position": null,
            "order": null,
            "overflow": null,
            "overflow_x": null,
            "overflow_y": null,
            "padding": null,
            "right": null,
            "top": null,
            "visibility": "hidden",
            "width": "100%"
          }
        },
        "934477bda86a437d88c27d29efe36388": {
          "model_module": "@jupyter-widgets/base",
          "model_module_version": "1.2.0",
          "model_name": "LayoutModel",
          "state": {
            "_model_module": "@jupyter-widgets/base",
            "_model_module_version": "1.2.0",
            "_model_name": "LayoutModel",
            "_view_count": null,
            "_view_module": "@jupyter-widgets/base",
            "_view_module_version": "1.2.0",
            "_view_name": "LayoutView",
            "align_content": null,
            "align_items": null,
            "align_self": null,
            "border": null,
            "bottom": null,
            "display": null,
            "flex": null,
            "flex_flow": null,
            "grid_area": null,
            "grid_auto_columns": null,
            "grid_auto_flow": null,
            "grid_auto_rows": null,
            "grid_column": null,
            "grid_gap": null,
            "grid_row": null,
            "grid_template_areas": null,
            "grid_template_columns": null,
            "grid_template_rows": null,
            "height": null,
            "justify_content": null,
            "justify_items": null,
            "left": null,
            "margin": null,
            "max_height": null,
            "max_width": null,
            "min_height": null,
            "min_width": null,
            "object_fit": null,
            "object_position": null,
            "order": null,
            "overflow": null,
            "overflow_x": null,
            "overflow_y": null,
            "padding": null,
            "right": null,
            "top": null,
            "visibility": null,
            "width": null
          }
        },
        "99b750dc61f040b28f5a96cfa668d5eb": {
          "model_module": "@jupyter-widgets/controls",
          "model_module_version": "1.5.0",
          "model_name": "DescriptionStyleModel",
          "state": {
            "_model_module": "@jupyter-widgets/controls",
            "_model_module_version": "1.5.0",
            "_model_name": "DescriptionStyleModel",
            "_view_count": null,
            "_view_module": "@jupyter-widgets/base",
            "_view_module_version": "1.2.0",
            "_view_name": "StyleView",
            "description_width": ""
          }
        },
        "9aeac2f586db4faeb40b516477d96e4d": {
          "model_module": "@jupyter-widgets/controls",
          "model_module_version": "1.5.0",
          "model_name": "HBoxModel",
          "state": {
            "_dom_classes": [],
            "_model_module": "@jupyter-widgets/controls",
            "_model_module_version": "1.5.0",
            "_model_name": "HBoxModel",
            "_view_count": null,
            "_view_module": "@jupyter-widgets/controls",
            "_view_module_version": "1.5.0",
            "_view_name": "HBoxView",
            "box_style": "",
            "children": [
              "IPY_MODEL_eaf4965f50404f58a3c24c3c9ae8926b",
              "IPY_MODEL_457124d48d2e4cf2aaa64c3880ab7e01",
              "IPY_MODEL_08df4e371edb4bdb8a88c8fd571b5c72"
            ],
            "layout": "IPY_MODEL_9035ab2dec884d92be94e34958e8ca6c"
          }
        },
        "9b91eef2062944e9829b714d32cda670": {
          "model_module": "@jupyter-widgets/base",
          "model_module_version": "1.2.0",
          "model_name": "LayoutModel",
          "state": {
            "_model_module": "@jupyter-widgets/base",
            "_model_module_version": "1.2.0",
            "_model_name": "LayoutModel",
            "_view_count": null,
            "_view_module": "@jupyter-widgets/base",
            "_view_module_version": "1.2.0",
            "_view_name": "LayoutView",
            "align_content": null,
            "align_items": null,
            "align_self": null,
            "border": null,
            "bottom": null,
            "display": "inline-flex",
            "flex": null,
            "flex_flow": "row wrap",
            "grid_area": null,
            "grid_auto_columns": null,
            "grid_auto_flow": null,
            "grid_auto_rows": null,
            "grid_column": null,
            "grid_gap": null,
            "grid_row": null,
            "grid_template_areas": null,
            "grid_template_columns": null,
            "grid_template_rows": null,
            "height": null,
            "justify_content": null,
            "justify_items": null,
            "left": null,
            "margin": null,
            "max_height": null,
            "max_width": null,
            "min_height": null,
            "min_width": null,
            "object_fit": null,
            "object_position": null,
            "order": null,
            "overflow": null,
            "overflow_x": null,
            "overflow_y": null,
            "padding": null,
            "right": null,
            "top": null,
            "visibility": null,
            "width": "100%"
          }
        },
        "9d9303cb254c48768a97074057c43a7b": {
          "model_module": "@jupyter-widgets/controls",
          "model_module_version": "1.5.0",
          "model_name": "DescriptionStyleModel",
          "state": {
            "_model_module": "@jupyter-widgets/controls",
            "_model_module_version": "1.5.0",
            "_model_name": "DescriptionStyleModel",
            "_view_count": null,
            "_view_module": "@jupyter-widgets/base",
            "_view_module_version": "1.2.0",
            "_view_name": "StyleView",
            "description_width": ""
          }
        },
        "a0de5176491e48968fe76138f363ea7b": {
          "model_module": "@jupyter-widgets/controls",
          "model_module_version": "1.5.0",
          "model_name": "DescriptionStyleModel",
          "state": {
            "_model_module": "@jupyter-widgets/controls",
            "_model_module_version": "1.5.0",
            "_model_name": "DescriptionStyleModel",
            "_view_count": null,
            "_view_module": "@jupyter-widgets/base",
            "_view_module_version": "1.2.0",
            "_view_name": "StyleView",
            "description_width": ""
          }
        },
        "a1640223eba9478a8eee6aaa07ab944a": {
          "model_module": "@jupyter-widgets/base",
          "model_module_version": "1.2.0",
          "model_name": "LayoutModel",
          "state": {
            "_model_module": "@jupyter-widgets/base",
            "_model_module_version": "1.2.0",
            "_model_name": "LayoutModel",
            "_view_count": null,
            "_view_module": "@jupyter-widgets/base",
            "_view_module_version": "1.2.0",
            "_view_name": "LayoutView",
            "align_content": null,
            "align_items": null,
            "align_self": null,
            "border": null,
            "bottom": null,
            "display": "inline-flex",
            "flex": null,
            "flex_flow": "row wrap",
            "grid_area": null,
            "grid_auto_columns": null,
            "grid_auto_flow": null,
            "grid_auto_rows": null,
            "grid_column": null,
            "grid_gap": null,
            "grid_row": null,
            "grid_template_areas": null,
            "grid_template_columns": null,
            "grid_template_rows": null,
            "height": null,
            "justify_content": null,
            "justify_items": null,
            "left": null,
            "margin": null,
            "max_height": null,
            "max_width": null,
            "min_height": null,
            "min_width": null,
            "object_fit": null,
            "object_position": null,
            "order": null,
            "overflow": null,
            "overflow_x": null,
            "overflow_y": null,
            "padding": null,
            "right": null,
            "top": null,
            "visibility": "hidden",
            "width": "100%"
          }
        },
        "a184fa4f8f4e4d0aace674c60015098f": {
          "model_module": "@jupyter-widgets/controls",
          "model_module_version": "1.5.0",
          "model_name": "ProgressStyleModel",
          "state": {
            "_model_module": "@jupyter-widgets/controls",
            "_model_module_version": "1.5.0",
            "_model_name": "ProgressStyleModel",
            "_view_count": null,
            "_view_module": "@jupyter-widgets/base",
            "_view_module_version": "1.2.0",
            "_view_name": "StyleView",
            "bar_color": null,
            "description_width": ""
          }
        },
        "a4b076fce054425f9d7a2c8c80b1226f": {
          "model_module": "@jupyter-widgets/base",
          "model_module_version": "1.2.0",
          "model_name": "LayoutModel",
          "state": {
            "_model_module": "@jupyter-widgets/base",
            "_model_module_version": "1.2.0",
            "_model_name": "LayoutModel",
            "_view_count": null,
            "_view_module": "@jupyter-widgets/base",
            "_view_module_version": "1.2.0",
            "_view_name": "LayoutView",
            "align_content": null,
            "align_items": null,
            "align_self": null,
            "border": null,
            "bottom": null,
            "display": null,
            "flex": "2",
            "flex_flow": null,
            "grid_area": null,
            "grid_auto_columns": null,
            "grid_auto_flow": null,
            "grid_auto_rows": null,
            "grid_column": null,
            "grid_gap": null,
            "grid_row": null,
            "grid_template_areas": null,
            "grid_template_columns": null,
            "grid_template_rows": null,
            "height": null,
            "justify_content": null,
            "justify_items": null,
            "left": null,
            "margin": null,
            "max_height": null,
            "max_width": null,
            "min_height": null,
            "min_width": null,
            "object_fit": null,
            "object_position": null,
            "order": null,
            "overflow": null,
            "overflow_x": null,
            "overflow_y": null,
            "padding": null,
            "right": null,
            "top": null,
            "visibility": null,
            "width": null
          }
        },
        "a516b4a5d1aa4652afc49d987ad4315d": {
          "model_module": "@jupyter-widgets/base",
          "model_module_version": "1.2.0",
          "model_name": "LayoutModel",
          "state": {
            "_model_module": "@jupyter-widgets/base",
            "_model_module_version": "1.2.0",
            "_model_name": "LayoutModel",
            "_view_count": null,
            "_view_module": "@jupyter-widgets/base",
            "_view_module_version": "1.2.0",
            "_view_name": "LayoutView",
            "align_content": null,
            "align_items": null,
            "align_self": null,
            "border": null,
            "bottom": null,
            "display": "inline-flex",
            "flex": null,
            "flex_flow": "row wrap",
            "grid_area": null,
            "grid_auto_columns": null,
            "grid_auto_flow": null,
            "grid_auto_rows": null,
            "grid_column": null,
            "grid_gap": null,
            "grid_row": null,
            "grid_template_areas": null,
            "grid_template_columns": null,
            "grid_template_rows": null,
            "height": null,
            "justify_content": null,
            "justify_items": null,
            "left": null,
            "margin": null,
            "max_height": null,
            "max_width": null,
            "min_height": null,
            "min_width": null,
            "object_fit": null,
            "object_position": null,
            "order": null,
            "overflow": null,
            "overflow_x": null,
            "overflow_y": null,
            "padding": null,
            "right": null,
            "top": null,
            "visibility": "hidden",
            "width": "100%"
          }
        },
        "a520196cff4d45b2a6f4f7a01c8435e1": {
          "model_module": "@jupyter-widgets/base",
          "model_module_version": "1.2.0",
          "model_name": "LayoutModel",
          "state": {
            "_model_module": "@jupyter-widgets/base",
            "_model_module_version": "1.2.0",
            "_model_name": "LayoutModel",
            "_view_count": null,
            "_view_module": "@jupyter-widgets/base",
            "_view_module_version": "1.2.0",
            "_view_name": "LayoutView",
            "align_content": null,
            "align_items": null,
            "align_self": null,
            "border": null,
            "bottom": null,
            "display": null,
            "flex": null,
            "flex_flow": null,
            "grid_area": null,
            "grid_auto_columns": null,
            "grid_auto_flow": null,
            "grid_auto_rows": null,
            "grid_column": null,
            "grid_gap": null,
            "grid_row": null,
            "grid_template_areas": null,
            "grid_template_columns": null,
            "grid_template_rows": null,
            "height": null,
            "justify_content": null,
            "justify_items": null,
            "left": null,
            "margin": null,
            "max_height": null,
            "max_width": null,
            "min_height": null,
            "min_width": null,
            "object_fit": null,
            "object_position": null,
            "order": null,
            "overflow": null,
            "overflow_x": null,
            "overflow_y": null,
            "padding": null,
            "right": null,
            "top": null,
            "visibility": null,
            "width": null
          }
        },
        "a6f5457ae1414a78823aacd84bf03e56": {
          "model_module": "@jupyter-widgets/base",
          "model_module_version": "1.2.0",
          "model_name": "LayoutModel",
          "state": {
            "_model_module": "@jupyter-widgets/base",
            "_model_module_version": "1.2.0",
            "_model_name": "LayoutModel",
            "_view_count": null,
            "_view_module": "@jupyter-widgets/base",
            "_view_module_version": "1.2.0",
            "_view_name": "LayoutView",
            "align_content": null,
            "align_items": null,
            "align_self": null,
            "border": null,
            "bottom": null,
            "display": null,
            "flex": null,
            "flex_flow": null,
            "grid_area": null,
            "grid_auto_columns": null,
            "grid_auto_flow": null,
            "grid_auto_rows": null,
            "grid_column": null,
            "grid_gap": null,
            "grid_row": null,
            "grid_template_areas": null,
            "grid_template_columns": null,
            "grid_template_rows": null,
            "height": null,
            "justify_content": null,
            "justify_items": null,
            "left": null,
            "margin": null,
            "max_height": null,
            "max_width": null,
            "min_height": null,
            "min_width": null,
            "object_fit": null,
            "object_position": null,
            "order": null,
            "overflow": null,
            "overflow_x": null,
            "overflow_y": null,
            "padding": null,
            "right": null,
            "top": null,
            "visibility": null,
            "width": null
          }
        },
        "abd5ec787fa04a0c9fda54bdee4b4f2b": {
          "model_module": "@jupyter-widgets/base",
          "model_module_version": "1.2.0",
          "model_name": "LayoutModel",
          "state": {
            "_model_module": "@jupyter-widgets/base",
            "_model_module_version": "1.2.0",
            "_model_name": "LayoutModel",
            "_view_count": null,
            "_view_module": "@jupyter-widgets/base",
            "_view_module_version": "1.2.0",
            "_view_name": "LayoutView",
            "align_content": null,
            "align_items": null,
            "align_self": null,
            "border": null,
            "bottom": null,
            "display": null,
            "flex": null,
            "flex_flow": null,
            "grid_area": null,
            "grid_auto_columns": null,
            "grid_auto_flow": null,
            "grid_auto_rows": null,
            "grid_column": null,
            "grid_gap": null,
            "grid_row": null,
            "grid_template_areas": null,
            "grid_template_columns": null,
            "grid_template_rows": null,
            "height": null,
            "justify_content": null,
            "justify_items": null,
            "left": null,
            "margin": null,
            "max_height": null,
            "max_width": null,
            "min_height": null,
            "min_width": null,
            "object_fit": null,
            "object_position": null,
            "order": null,
            "overflow": null,
            "overflow_x": null,
            "overflow_y": null,
            "padding": null,
            "right": null,
            "top": null,
            "visibility": null,
            "width": null
          }
        },
        "adad08ff84ba4802a52ebf3a8d6b6c4f": {
          "model_module": "@jupyter-widgets/base",
          "model_module_version": "1.2.0",
          "model_name": "LayoutModel",
          "state": {
            "_model_module": "@jupyter-widgets/base",
            "_model_module_version": "1.2.0",
            "_model_name": "LayoutModel",
            "_view_count": null,
            "_view_module": "@jupyter-widgets/base",
            "_view_module_version": "1.2.0",
            "_view_name": "LayoutView",
            "align_content": null,
            "align_items": null,
            "align_self": null,
            "border": null,
            "bottom": null,
            "display": null,
            "flex": null,
            "flex_flow": null,
            "grid_area": null,
            "grid_auto_columns": null,
            "grid_auto_flow": null,
            "grid_auto_rows": null,
            "grid_column": null,
            "grid_gap": null,
            "grid_row": null,
            "grid_template_areas": null,
            "grid_template_columns": null,
            "grid_template_rows": null,
            "height": null,
            "justify_content": null,
            "justify_items": null,
            "left": null,
            "margin": null,
            "max_height": null,
            "max_width": null,
            "min_height": null,
            "min_width": null,
            "object_fit": null,
            "object_position": null,
            "order": null,
            "overflow": null,
            "overflow_x": null,
            "overflow_y": null,
            "padding": null,
            "right": null,
            "top": null,
            "visibility": null,
            "width": null
          }
        },
        "aeb6b26d365443c69ae8142b822fbba9": {
          "model_module": "@jupyter-widgets/controls",
          "model_module_version": "1.5.0",
          "model_name": "FloatProgressModel",
          "state": {
            "_dom_classes": [],
            "_model_module": "@jupyter-widgets/controls",
            "_model_module_version": "1.5.0",
            "_model_name": "FloatProgressModel",
            "_view_count": null,
            "_view_module": "@jupyter-widgets/controls",
            "_view_module_version": "1.5.0",
            "_view_name": "ProgressView",
            "bar_style": "",
            "description": "",
            "description_tooltip": null,
            "layout": "IPY_MODEL_0049d2d747564cc0a52ddb966a72fde9",
            "max": 10668,
            "min": 0,
            "orientation": "horizontal",
            "style": "IPY_MODEL_1a2c5f59a4bf4c729de66e9fd96d2c4f",
            "value": 10668
          }
        },
        "afcf74c8d04c49bfa6bc4f096045184d": {
          "model_module": "@jupyter-widgets/controls",
          "model_module_version": "1.5.0",
          "model_name": "ProgressStyleModel",
          "state": {
            "_model_module": "@jupyter-widgets/controls",
            "_model_module_version": "1.5.0",
            "_model_name": "ProgressStyleModel",
            "_view_count": null,
            "_view_module": "@jupyter-widgets/base",
            "_view_module_version": "1.2.0",
            "_view_name": "StyleView",
            "bar_color": null,
            "description_width": ""
          }
        },
        "b37c631933994410a0ee9f93d9a61033": {
          "model_module": "@jupyter-widgets/controls",
          "model_module_version": "1.5.0",
          "model_name": "FloatProgressModel",
          "state": {
            "_dom_classes": [],
            "_model_module": "@jupyter-widgets/controls",
            "_model_module_version": "1.5.0",
            "_model_name": "FloatProgressModel",
            "_view_count": null,
            "_view_module": "@jupyter-widgets/controls",
            "_view_module_version": "1.5.0",
            "_view_name": "ProgressView",
            "bar_style": "",
            "description": "",
            "description_tooltip": null,
            "layout": "IPY_MODEL_a4b076fce054425f9d7a2c8c80b1226f",
            "max": 10668,
            "min": 0,
            "orientation": "horizontal",
            "style": "IPY_MODEL_a184fa4f8f4e4d0aace674c60015098f",
            "value": 10668
          }
        },
        "ba0f97da631d4594bfd41d2d2e8a2309": {
          "model_module": "@jupyter-widgets/controls",
          "model_module_version": "1.5.0",
          "model_name": "DescriptionStyleModel",
          "state": {
            "_model_module": "@jupyter-widgets/controls",
            "_model_module_version": "1.5.0",
            "_model_name": "DescriptionStyleModel",
            "_view_count": null,
            "_view_module": "@jupyter-widgets/base",
            "_view_module_version": "1.2.0",
            "_view_name": "StyleView",
            "description_width": ""
          }
        },
        "c11a0dd60b0d46afb5dae2577b43ac54": {
          "model_module": "@jupyter-widgets/base",
          "model_module_version": "1.2.0",
          "model_name": "LayoutModel",
          "state": {
            "_model_module": "@jupyter-widgets/base",
            "_model_module_version": "1.2.0",
            "_model_name": "LayoutModel",
            "_view_count": null,
            "_view_module": "@jupyter-widgets/base",
            "_view_module_version": "1.2.0",
            "_view_name": "LayoutView",
            "align_content": null,
            "align_items": null,
            "align_self": null,
            "border": null,
            "bottom": null,
            "display": "inline-flex",
            "flex": null,
            "flex_flow": "row wrap",
            "grid_area": null,
            "grid_auto_columns": null,
            "grid_auto_flow": null,
            "grid_auto_rows": null,
            "grid_column": null,
            "grid_gap": null,
            "grid_row": null,
            "grid_template_areas": null,
            "grid_template_columns": null,
            "grid_template_rows": null,
            "height": null,
            "justify_content": null,
            "justify_items": null,
            "left": null,
            "margin": null,
            "max_height": null,
            "max_width": null,
            "min_height": null,
            "min_width": null,
            "object_fit": null,
            "object_position": null,
            "order": null,
            "overflow": null,
            "overflow_x": null,
            "overflow_y": null,
            "padding": null,
            "right": null,
            "top": null,
            "visibility": "hidden",
            "width": "100%"
          }
        },
        "c450a5408d4d4ab1a2321caff0862d98": {
          "model_module": "@jupyter-widgets/controls",
          "model_module_version": "1.5.0",
          "model_name": "HBoxModel",
          "state": {
            "_dom_classes": [],
            "_model_module": "@jupyter-widgets/controls",
            "_model_module_version": "1.5.0",
            "_model_name": "HBoxModel",
            "_view_count": null,
            "_view_module": "@jupyter-widgets/controls",
            "_view_module_version": "1.5.0",
            "_view_name": "HBoxView",
            "box_style": "",
            "children": [
              "IPY_MODEL_0ce5604f926b4ac8aa4f0552d091a685",
              "IPY_MODEL_673cd65ee82c487980add2deef7dc022",
              "IPY_MODEL_fb15eb05cd4348c097ec61a5702fd185"
            ],
            "layout": "IPY_MODEL_d32f22b6c67b4b6eaa8eb0226cb5c3c3"
          }
        },
        "cafcb31801ef4b9387b55dc1eb414a38": {
          "model_module": "@jupyter-widgets/base",
          "model_module_version": "1.2.0",
          "model_name": "LayoutModel",
          "state": {
            "_model_module": "@jupyter-widgets/base",
            "_model_module_version": "1.2.0",
            "_model_name": "LayoutModel",
            "_view_count": null,
            "_view_module": "@jupyter-widgets/base",
            "_view_module_version": "1.2.0",
            "_view_name": "LayoutView",
            "align_content": null,
            "align_items": null,
            "align_self": null,
            "border": null,
            "bottom": null,
            "display": null,
            "flex": null,
            "flex_flow": null,
            "grid_area": null,
            "grid_auto_columns": null,
            "grid_auto_flow": null,
            "grid_auto_rows": null,
            "grid_column": null,
            "grid_gap": null,
            "grid_row": null,
            "grid_template_areas": null,
            "grid_template_columns": null,
            "grid_template_rows": null,
            "height": null,
            "justify_content": null,
            "justify_items": null,
            "left": null,
            "margin": null,
            "max_height": null,
            "max_width": null,
            "min_height": null,
            "min_width": null,
            "object_fit": null,
            "object_position": null,
            "order": null,
            "overflow": null,
            "overflow_x": null,
            "overflow_y": null,
            "padding": null,
            "right": null,
            "top": null,
            "visibility": null,
            "width": null
          }
        },
        "cc469885c13c4a79824bec628ea3a158": {
          "model_module": "@jupyter-widgets/base",
          "model_module_version": "1.2.0",
          "model_name": "LayoutModel",
          "state": {
            "_model_module": "@jupyter-widgets/base",
            "_model_module_version": "1.2.0",
            "_model_name": "LayoutModel",
            "_view_count": null,
            "_view_module": "@jupyter-widgets/base",
            "_view_module_version": "1.2.0",
            "_view_name": "LayoutView",
            "align_content": null,
            "align_items": null,
            "align_self": null,
            "border": null,
            "bottom": null,
            "display": null,
            "flex": null,
            "flex_flow": null,
            "grid_area": null,
            "grid_auto_columns": null,
            "grid_auto_flow": null,
            "grid_auto_rows": null,
            "grid_column": null,
            "grid_gap": null,
            "grid_row": null,
            "grid_template_areas": null,
            "grid_template_columns": null,
            "grid_template_rows": null,
            "height": null,
            "justify_content": null,
            "justify_items": null,
            "left": null,
            "margin": null,
            "max_height": null,
            "max_width": null,
            "min_height": null,
            "min_width": null,
            "object_fit": null,
            "object_position": null,
            "order": null,
            "overflow": null,
            "overflow_x": null,
            "overflow_y": null,
            "padding": null,
            "right": null,
            "top": null,
            "visibility": null,
            "width": null
          }
        },
        "cc7fbfed3eb4407ab1ace68a0970e011": {
          "model_module": "@jupyter-widgets/controls",
          "model_module_version": "1.5.0",
          "model_name": "DescriptionStyleModel",
          "state": {
            "_model_module": "@jupyter-widgets/controls",
            "_model_module_version": "1.5.0",
            "_model_name": "DescriptionStyleModel",
            "_view_count": null,
            "_view_module": "@jupyter-widgets/base",
            "_view_module_version": "1.2.0",
            "_view_name": "StyleView",
            "description_width": ""
          }
        },
        "ccaaea52f69546eca6af7082c89f8251": {
          "model_module": "@jupyter-widgets/controls",
          "model_module_version": "1.5.0",
          "model_name": "HTMLModel",
          "state": {
            "_dom_classes": [],
            "_model_module": "@jupyter-widgets/controls",
            "_model_module_version": "1.5.0",
            "_model_name": "HTMLModel",
            "_view_count": null,
            "_view_module": "@jupyter-widgets/controls",
            "_view_module_version": "1.5.0",
            "_view_name": "HTMLView",
            "description": "",
            "description_tooltip": null,
            "layout": "IPY_MODEL_0aedf99820794b0da9eed9eaa1d1b49f",
            "placeholder": "​",
            "style": "IPY_MODEL_17c3c7188b7442b59f09f2dd97d565ef",
            "value": " 10668/10668 [00:39&lt;00:00, 267.17it/s]"
          }
        },
        "cdb92274acb3412288774aaf2bc761f7": {
          "model_module": "@jupyter-widgets/base",
          "model_module_version": "1.2.0",
          "model_name": "LayoutModel",
          "state": {
            "_model_module": "@jupyter-widgets/base",
            "_model_module_version": "1.2.0",
            "_model_name": "LayoutModel",
            "_view_count": null,
            "_view_module": "@jupyter-widgets/base",
            "_view_module_version": "1.2.0",
            "_view_name": "LayoutView",
            "align_content": null,
            "align_items": null,
            "align_self": null,
            "border": null,
            "bottom": null,
            "display": null,
            "flex": null,
            "flex_flow": null,
            "grid_area": null,
            "grid_auto_columns": null,
            "grid_auto_flow": null,
            "grid_auto_rows": null,
            "grid_column": null,
            "grid_gap": null,
            "grid_row": null,
            "grid_template_areas": null,
            "grid_template_columns": null,
            "grid_template_rows": null,
            "height": null,
            "justify_content": null,
            "justify_items": null,
            "left": null,
            "margin": null,
            "max_height": null,
            "max_width": null,
            "min_height": null,
            "min_width": null,
            "object_fit": null,
            "object_position": null,
            "order": null,
            "overflow": null,
            "overflow_x": null,
            "overflow_y": null,
            "padding": null,
            "right": null,
            "top": null,
            "visibility": null,
            "width": null
          }
        },
        "d02b90a558a44436b4af5ac69429192b": {
          "model_module": "@jupyter-widgets/controls",
          "model_module_version": "1.5.0",
          "model_name": "ProgressStyleModel",
          "state": {
            "_model_module": "@jupyter-widgets/controls",
            "_model_module_version": "1.5.0",
            "_model_name": "ProgressStyleModel",
            "_view_count": null,
            "_view_module": "@jupyter-widgets/base",
            "_view_module_version": "1.2.0",
            "_view_name": "StyleView",
            "bar_color": null,
            "description_width": ""
          }
        },
        "d260656644f24ab993744f434ee657fa": {
          "model_module": "@jupyter-widgets/controls",
          "model_module_version": "1.5.0",
          "model_name": "DescriptionStyleModel",
          "state": {
            "_model_module": "@jupyter-widgets/controls",
            "_model_module_version": "1.5.0",
            "_model_name": "DescriptionStyleModel",
            "_view_count": null,
            "_view_module": "@jupyter-widgets/base",
            "_view_module_version": "1.2.0",
            "_view_name": "StyleView",
            "description_width": ""
          }
        },
        "d32f22b6c67b4b6eaa8eb0226cb5c3c3": {
          "model_module": "@jupyter-widgets/base",
          "model_module_version": "1.2.0",
          "model_name": "LayoutModel",
          "state": {
            "_model_module": "@jupyter-widgets/base",
            "_model_module_version": "1.2.0",
            "_model_name": "LayoutModel",
            "_view_count": null,
            "_view_module": "@jupyter-widgets/base",
            "_view_module_version": "1.2.0",
            "_view_name": "LayoutView",
            "align_content": null,
            "align_items": null,
            "align_self": null,
            "border": null,
            "bottom": null,
            "display": "inline-flex",
            "flex": null,
            "flex_flow": "row wrap",
            "grid_area": null,
            "grid_auto_columns": null,
            "grid_auto_flow": null,
            "grid_auto_rows": null,
            "grid_column": null,
            "grid_gap": null,
            "grid_row": null,
            "grid_template_areas": null,
            "grid_template_columns": null,
            "grid_template_rows": null,
            "height": null,
            "justify_content": null,
            "justify_items": null,
            "left": null,
            "margin": null,
            "max_height": null,
            "max_width": null,
            "min_height": null,
            "min_width": null,
            "object_fit": null,
            "object_position": null,
            "order": null,
            "overflow": null,
            "overflow_x": null,
            "overflow_y": null,
            "padding": null,
            "right": null,
            "top": null,
            "visibility": "hidden",
            "width": "100%"
          }
        },
        "d58d2be7315848cf8307f9ac57fa8c27": {
          "model_module": "@jupyter-widgets/controls",
          "model_module_version": "1.5.0",
          "model_name": "HTMLModel",
          "state": {
            "_dom_classes": [],
            "_model_module": "@jupyter-widgets/controls",
            "_model_module_version": "1.5.0",
            "_model_name": "HTMLModel",
            "_view_count": null,
            "_view_module": "@jupyter-widgets/controls",
            "_view_module_version": "1.5.0",
            "_view_name": "HTMLView",
            "description": "",
            "description_tooltip": null,
            "layout": "IPY_MODEL_934477bda86a437d88c27d29efe36388",
            "placeholder": "​",
            "style": "IPY_MODEL_eb9583ffc341490eb6b5827c2f0ec4b6",
            "value": " 10668/10668 [00:41&lt;00:00, 258.99it/s]"
          }
        },
        "dbf3db06f5e4475a80b4ca5677c4c7d0": {
          "model_module": "@jupyter-widgets/base",
          "model_module_version": "1.2.0",
          "model_name": "LayoutModel",
          "state": {
            "_model_module": "@jupyter-widgets/base",
            "_model_module_version": "1.2.0",
            "_model_name": "LayoutModel",
            "_view_count": null,
            "_view_module": "@jupyter-widgets/base",
            "_view_module_version": "1.2.0",
            "_view_name": "LayoutView",
            "align_content": null,
            "align_items": null,
            "align_self": null,
            "border": null,
            "bottom": null,
            "display": null,
            "flex": "2",
            "flex_flow": null,
            "grid_area": null,
            "grid_auto_columns": null,
            "grid_auto_flow": null,
            "grid_auto_rows": null,
            "grid_column": null,
            "grid_gap": null,
            "grid_row": null,
            "grid_template_areas": null,
            "grid_template_columns": null,
            "grid_template_rows": null,
            "height": null,
            "justify_content": null,
            "justify_items": null,
            "left": null,
            "margin": null,
            "max_height": null,
            "max_width": null,
            "min_height": null,
            "min_width": null,
            "object_fit": null,
            "object_position": null,
            "order": null,
            "overflow": null,
            "overflow_x": null,
            "overflow_y": null,
            "padding": null,
            "right": null,
            "top": null,
            "visibility": null,
            "width": null
          }
        },
        "e095d7dd8ee64133a848083f2a532659": {
          "model_module": "@jupyter-widgets/controls",
          "model_module_version": "1.5.0",
          "model_name": "HTMLModel",
          "state": {
            "_dom_classes": [],
            "_model_module": "@jupyter-widgets/controls",
            "_model_module_version": "1.5.0",
            "_model_name": "HTMLModel",
            "_view_count": null,
            "_view_module": "@jupyter-widgets/controls",
            "_view_module_version": "1.5.0",
            "_view_name": "HTMLView",
            "description": "",
            "description_tooltip": null,
            "layout": "IPY_MODEL_290326a219a24e93890f37e03af56780",
            "placeholder": "​",
            "style": "IPY_MODEL_73752d1bae3c450aabd29351f32d0c47",
            "value": " 10668/10668 [00:40&lt;00:00, 262.62it/s]"
          }
        },
        "e1cbd5209ff3411da28fb49eb7a5f14a": {
          "model_module": "@jupyter-widgets/controls",
          "model_module_version": "1.5.0",
          "model_name": "FloatProgressModel",
          "state": {
            "_dom_classes": [],
            "_model_module": "@jupyter-widgets/controls",
            "_model_module_version": "1.5.0",
            "_model_name": "FloatProgressModel",
            "_view_count": null,
            "_view_module": "@jupyter-widgets/controls",
            "_view_module_version": "1.5.0",
            "_view_name": "ProgressView",
            "bar_style": "",
            "description": "",
            "description_tooltip": null,
            "layout": "IPY_MODEL_dbf3db06f5e4475a80b4ca5677c4c7d0",
            "max": 10668,
            "min": 0,
            "orientation": "horizontal",
            "style": "IPY_MODEL_6c41f0b7e28a415fb695d357a64d79e1",
            "value": 10668
          }
        },
        "e76c7f6ceb4e44268c890eebfdda5ad1": {
          "model_module": "@jupyter-widgets/controls",
          "model_module_version": "1.5.0",
          "model_name": "HTMLModel",
          "state": {
            "_dom_classes": [],
            "_model_module": "@jupyter-widgets/controls",
            "_model_module_version": "1.5.0",
            "_model_name": "HTMLModel",
            "_view_count": null,
            "_view_module": "@jupyter-widgets/controls",
            "_view_module_version": "1.5.0",
            "_view_name": "HTMLView",
            "description": "",
            "description_tooltip": null,
            "layout": "IPY_MODEL_4ce18072c5bf4e0f9ebe58bfb9fd9ede",
            "placeholder": "​",
            "style": "IPY_MODEL_157510917daf468a9bb544bfe8a6d27a",
            "value": "Validation DataLoader 0: 100%"
          }
        },
        "eaf4965f50404f58a3c24c3c9ae8926b": {
          "model_module": "@jupyter-widgets/controls",
          "model_module_version": "1.5.0",
          "model_name": "HTMLModel",
          "state": {
            "_dom_classes": [],
            "_model_module": "@jupyter-widgets/controls",
            "_model_module_version": "1.5.0",
            "_model_name": "HTMLModel",
            "_view_count": null,
            "_view_module": "@jupyter-widgets/controls",
            "_view_module_version": "1.5.0",
            "_view_name": "HTMLView",
            "description": "",
            "description_tooltip": null,
            "layout": "IPY_MODEL_a6f5457ae1414a78823aacd84bf03e56",
            "placeholder": "​",
            "style": "IPY_MODEL_17ff66e533504cc5b4245cbbd2b1f837",
            "value": "Validation DataLoader 0: 100%"
          }
        },
        "eb9583ffc341490eb6b5827c2f0ec4b6": {
          "model_module": "@jupyter-widgets/controls",
          "model_module_version": "1.5.0",
          "model_name": "DescriptionStyleModel",
          "state": {
            "_model_module": "@jupyter-widgets/controls",
            "_model_module_version": "1.5.0",
            "_model_name": "DescriptionStyleModel",
            "_view_count": null,
            "_view_module": "@jupyter-widgets/base",
            "_view_module_version": "1.2.0",
            "_view_name": "StyleView",
            "description_width": ""
          }
        },
        "ef53904d5c3640f8aa98a5dd15dd1ecf": {
          "model_module": "@jupyter-widgets/controls",
          "model_module_version": "1.5.0",
          "model_name": "HTMLModel",
          "state": {
            "_dom_classes": [],
            "_model_module": "@jupyter-widgets/controls",
            "_model_module_version": "1.5.0",
            "_model_name": "HTMLModel",
            "_view_count": null,
            "_view_module": "@jupyter-widgets/controls",
            "_view_module_version": "1.5.0",
            "_view_name": "HTMLView",
            "description": "",
            "description_tooltip": null,
            "layout": "IPY_MODEL_44525d83a50f4c789f7951bb7a9db787",
            "placeholder": "​",
            "style": "IPY_MODEL_153bad9108a547029902fb1d1a7f6f20",
            "value": "Validation DataLoader 0: 100%"
          }
        },
        "f07782a2517148b2b007a50dd58c9f2c": {
          "model_module": "@jupyter-widgets/controls",
          "model_module_version": "1.5.0",
          "model_name": "HTMLModel",
          "state": {
            "_dom_classes": [],
            "_model_module": "@jupyter-widgets/controls",
            "_model_module_version": "1.5.0",
            "_model_name": "HTMLModel",
            "_view_count": null,
            "_view_module": "@jupyter-widgets/controls",
            "_view_module_version": "1.5.0",
            "_view_name": "HTMLView",
            "description": "",
            "description_tooltip": null,
            "layout": "IPY_MODEL_cdb92274acb3412288774aaf2bc761f7",
            "placeholder": "​",
            "style": "IPY_MODEL_a0de5176491e48968fe76138f363ea7b",
            "value": " 10668/10668 [00:41&lt;00:00, 256.03it/s]"
          }
        },
        "f835d83463694ffea7d55f987ac5c2e1": {
          "model_module": "@jupyter-widgets/controls",
          "model_module_version": "1.5.0",
          "model_name": "HTMLModel",
          "state": {
            "_dom_classes": [],
            "_model_module": "@jupyter-widgets/controls",
            "_model_module_version": "1.5.0",
            "_model_name": "HTMLModel",
            "_view_count": null,
            "_view_module": "@jupyter-widgets/controls",
            "_view_module_version": "1.5.0",
            "_view_name": "HTMLView",
            "description": "",
            "description_tooltip": null,
            "layout": "IPY_MODEL_101d2f4ae34045c3a8f8bcfc3cb29070",
            "placeholder": "​",
            "style": "IPY_MODEL_42278ac193e14002bb3d825e9398411b",
            "value": "Epoch 5: 100%"
          }
        },
        "fb15eb05cd4348c097ec61a5702fd185": {
          "model_module": "@jupyter-widgets/controls",
          "model_module_version": "1.5.0",
          "model_name": "HTMLModel",
          "state": {
            "_dom_classes": [],
            "_model_module": "@jupyter-widgets/controls",
            "_model_module_version": "1.5.0",
            "_model_name": "HTMLModel",
            "_view_count": null,
            "_view_module": "@jupyter-widgets/controls",
            "_view_module_version": "1.5.0",
            "_view_name": "HTMLView",
            "description": "",
            "description_tooltip": null,
            "layout": "IPY_MODEL_2fc79d252c874bc6b8b0608256b7e27c",
            "placeholder": "​",
            "style": "IPY_MODEL_9d9303cb254c48768a97074057c43a7b",
            "value": " 2/2 [00:00&lt;00:00, 93.23it/s]"
          }
        },
        "ff9b56dfeaf34ca6a6d5e74ab9ad7448": {
          "model_module": "@jupyter-widgets/base",
          "model_module_version": "1.2.0",
          "model_name": "LayoutModel",
          "state": {
            "_model_module": "@jupyter-widgets/base",
            "_model_module_version": "1.2.0",
            "_model_name": "LayoutModel",
            "_view_count": null,
            "_view_module": "@jupyter-widgets/base",
            "_view_module_version": "1.2.0",
            "_view_name": "LayoutView",
            "align_content": null,
            "align_items": null,
            "align_self": null,
            "border": null,
            "bottom": null,
            "display": null,
            "flex": "2",
            "flex_flow": null,
            "grid_area": null,
            "grid_auto_columns": null,
            "grid_auto_flow": null,
            "grid_auto_rows": null,
            "grid_column": null,
            "grid_gap": null,
            "grid_row": null,
            "grid_template_areas": null,
            "grid_template_columns": null,
            "grid_template_rows": null,
            "height": null,
            "justify_content": null,
            "justify_items": null,
            "left": null,
            "margin": null,
            "max_height": null,
            "max_width": null,
            "min_height": null,
            "min_width": null,
            "object_fit": null,
            "object_position": null,
            "order": null,
            "overflow": null,
            "overflow_x": null,
            "overflow_y": null,
            "padding": null,
            "right": null,
            "top": null,
            "visibility": null,
            "width": null
          }
        },
        "dd40eecb9eda4223952fddaed5b24e0a": {
          "model_module": "@jupyter-widgets/controls",
          "model_name": "HBoxModel",
          "model_module_version": "1.5.0",
          "state": {
            "_dom_classes": [],
            "_model_module": "@jupyter-widgets/controls",
            "_model_module_version": "1.5.0",
            "_model_name": "HBoxModel",
            "_view_count": null,
            "_view_module": "@jupyter-widgets/controls",
            "_view_module_version": "1.5.0",
            "_view_name": "HBoxView",
            "box_style": "",
            "children": [
              "IPY_MODEL_e7062b70724e4cc582ad940029610dcb",
              "IPY_MODEL_49a9b9606c924e43bc3c3a22fd3cfd45",
              "IPY_MODEL_6524dff9ca0e42a3b34d37f56d9d5c61"
            ],
            "layout": "IPY_MODEL_0b4593510848452eb5ff813d2cb264ba"
          }
        },
        "e7062b70724e4cc582ad940029610dcb": {
          "model_module": "@jupyter-widgets/controls",
          "model_name": "HTMLModel",
          "model_module_version": "1.5.0",
          "state": {
            "_dom_classes": [],
            "_model_module": "@jupyter-widgets/controls",
            "_model_module_version": "1.5.0",
            "_model_name": "HTMLModel",
            "_view_count": null,
            "_view_module": "@jupyter-widgets/controls",
            "_view_module_version": "1.5.0",
            "_view_name": "HTMLView",
            "description": "",
            "description_tooltip": null,
            "layout": "IPY_MODEL_931dd733e7974f94807fbec7e49a6a1d",
            "placeholder": "​",
            "style": "IPY_MODEL_ea207c96b196408c88317afb30785149",
            "value": "Sanity Checking DataLoader 0: 100%"
          }
        },
        "49a9b9606c924e43bc3c3a22fd3cfd45": {
          "model_module": "@jupyter-widgets/controls",
          "model_name": "FloatProgressModel",
          "model_module_version": "1.5.0",
          "state": {
            "_dom_classes": [],
            "_model_module": "@jupyter-widgets/controls",
            "_model_module_version": "1.5.0",
            "_model_name": "FloatProgressModel",
            "_view_count": null,
            "_view_module": "@jupyter-widgets/controls",
            "_view_module_version": "1.5.0",
            "_view_name": "ProgressView",
            "bar_style": "",
            "description": "",
            "description_tooltip": null,
            "layout": "IPY_MODEL_83bc76d8ee6d40f8867175060cfeef3d",
            "max": 2,
            "min": 0,
            "orientation": "horizontal",
            "style": "IPY_MODEL_776430f65b524fb09985b6bd7bcbdc4d",
            "value": 2
          }
        },
        "6524dff9ca0e42a3b34d37f56d9d5c61": {
          "model_module": "@jupyter-widgets/controls",
          "model_name": "HTMLModel",
          "model_module_version": "1.5.0",
          "state": {
            "_dom_classes": [],
            "_model_module": "@jupyter-widgets/controls",
            "_model_module_version": "1.5.0",
            "_model_name": "HTMLModel",
            "_view_count": null,
            "_view_module": "@jupyter-widgets/controls",
            "_view_module_version": "1.5.0",
            "_view_name": "HTMLView",
            "description": "",
            "description_tooltip": null,
            "layout": "IPY_MODEL_de478d9f60fc48e7934e1619c61b780a",
            "placeholder": "​",
            "style": "IPY_MODEL_64c0a4b1826f4bfe8a41bc839dccd71d",
            "value": " 2/2 [00:00&lt;00:00, 24.98it/s]"
          }
        },
        "0b4593510848452eb5ff813d2cb264ba": {
          "model_module": "@jupyter-widgets/base",
          "model_name": "LayoutModel",
          "model_module_version": "1.2.0",
          "state": {
            "_model_module": "@jupyter-widgets/base",
            "_model_module_version": "1.2.0",
            "_model_name": "LayoutModel",
            "_view_count": null,
            "_view_module": "@jupyter-widgets/base",
            "_view_module_version": "1.2.0",
            "_view_name": "LayoutView",
            "align_content": null,
            "align_items": null,
            "align_self": null,
            "border": null,
            "bottom": null,
            "display": "inline-flex",
            "flex": null,
            "flex_flow": "row wrap",
            "grid_area": null,
            "grid_auto_columns": null,
            "grid_auto_flow": null,
            "grid_auto_rows": null,
            "grid_column": null,
            "grid_gap": null,
            "grid_row": null,
            "grid_template_areas": null,
            "grid_template_columns": null,
            "grid_template_rows": null,
            "height": null,
            "justify_content": null,
            "justify_items": null,
            "left": null,
            "margin": null,
            "max_height": null,
            "max_width": null,
            "min_height": null,
            "min_width": null,
            "object_fit": null,
            "object_position": null,
            "order": null,
            "overflow": null,
            "overflow_x": null,
            "overflow_y": null,
            "padding": null,
            "right": null,
            "top": null,
            "visibility": "hidden",
            "width": "100%"
          }
        },
        "931dd733e7974f94807fbec7e49a6a1d": {
          "model_module": "@jupyter-widgets/base",
          "model_name": "LayoutModel",
          "model_module_version": "1.2.0",
          "state": {
            "_model_module": "@jupyter-widgets/base",
            "_model_module_version": "1.2.0",
            "_model_name": "LayoutModel",
            "_view_count": null,
            "_view_module": "@jupyter-widgets/base",
            "_view_module_version": "1.2.0",
            "_view_name": "LayoutView",
            "align_content": null,
            "align_items": null,
            "align_self": null,
            "border": null,
            "bottom": null,
            "display": null,
            "flex": null,
            "flex_flow": null,
            "grid_area": null,
            "grid_auto_columns": null,
            "grid_auto_flow": null,
            "grid_auto_rows": null,
            "grid_column": null,
            "grid_gap": null,
            "grid_row": null,
            "grid_template_areas": null,
            "grid_template_columns": null,
            "grid_template_rows": null,
            "height": null,
            "justify_content": null,
            "justify_items": null,
            "left": null,
            "margin": null,
            "max_height": null,
            "max_width": null,
            "min_height": null,
            "min_width": null,
            "object_fit": null,
            "object_position": null,
            "order": null,
            "overflow": null,
            "overflow_x": null,
            "overflow_y": null,
            "padding": null,
            "right": null,
            "top": null,
            "visibility": null,
            "width": null
          }
        },
        "ea207c96b196408c88317afb30785149": {
          "model_module": "@jupyter-widgets/controls",
          "model_name": "DescriptionStyleModel",
          "model_module_version": "1.5.0",
          "state": {
            "_model_module": "@jupyter-widgets/controls",
            "_model_module_version": "1.5.0",
            "_model_name": "DescriptionStyleModel",
            "_view_count": null,
            "_view_module": "@jupyter-widgets/base",
            "_view_module_version": "1.2.0",
            "_view_name": "StyleView",
            "description_width": ""
          }
        },
        "83bc76d8ee6d40f8867175060cfeef3d": {
          "model_module": "@jupyter-widgets/base",
          "model_name": "LayoutModel",
          "model_module_version": "1.2.0",
          "state": {
            "_model_module": "@jupyter-widgets/base",
            "_model_module_version": "1.2.0",
            "_model_name": "LayoutModel",
            "_view_count": null,
            "_view_module": "@jupyter-widgets/base",
            "_view_module_version": "1.2.0",
            "_view_name": "LayoutView",
            "align_content": null,
            "align_items": null,
            "align_self": null,
            "border": null,
            "bottom": null,
            "display": null,
            "flex": "2",
            "flex_flow": null,
            "grid_area": null,
            "grid_auto_columns": null,
            "grid_auto_flow": null,
            "grid_auto_rows": null,
            "grid_column": null,
            "grid_gap": null,
            "grid_row": null,
            "grid_template_areas": null,
            "grid_template_columns": null,
            "grid_template_rows": null,
            "height": null,
            "justify_content": null,
            "justify_items": null,
            "left": null,
            "margin": null,
            "max_height": null,
            "max_width": null,
            "min_height": null,
            "min_width": null,
            "object_fit": null,
            "object_position": null,
            "order": null,
            "overflow": null,
            "overflow_x": null,
            "overflow_y": null,
            "padding": null,
            "right": null,
            "top": null,
            "visibility": null,
            "width": null
          }
        },
        "776430f65b524fb09985b6bd7bcbdc4d": {
          "model_module": "@jupyter-widgets/controls",
          "model_name": "ProgressStyleModel",
          "model_module_version": "1.5.0",
          "state": {
            "_model_module": "@jupyter-widgets/controls",
            "_model_module_version": "1.5.0",
            "_model_name": "ProgressStyleModel",
            "_view_count": null,
            "_view_module": "@jupyter-widgets/base",
            "_view_module_version": "1.2.0",
            "_view_name": "StyleView",
            "bar_color": null,
            "description_width": ""
          }
        },
        "de478d9f60fc48e7934e1619c61b780a": {
          "model_module": "@jupyter-widgets/base",
          "model_name": "LayoutModel",
          "model_module_version": "1.2.0",
          "state": {
            "_model_module": "@jupyter-widgets/base",
            "_model_module_version": "1.2.0",
            "_model_name": "LayoutModel",
            "_view_count": null,
            "_view_module": "@jupyter-widgets/base",
            "_view_module_version": "1.2.0",
            "_view_name": "LayoutView",
            "align_content": null,
            "align_items": null,
            "align_self": null,
            "border": null,
            "bottom": null,
            "display": null,
            "flex": null,
            "flex_flow": null,
            "grid_area": null,
            "grid_auto_columns": null,
            "grid_auto_flow": null,
            "grid_auto_rows": null,
            "grid_column": null,
            "grid_gap": null,
            "grid_row": null,
            "grid_template_areas": null,
            "grid_template_columns": null,
            "grid_template_rows": null,
            "height": null,
            "justify_content": null,
            "justify_items": null,
            "left": null,
            "margin": null,
            "max_height": null,
            "max_width": null,
            "min_height": null,
            "min_width": null,
            "object_fit": null,
            "object_position": null,
            "order": null,
            "overflow": null,
            "overflow_x": null,
            "overflow_y": null,
            "padding": null,
            "right": null,
            "top": null,
            "visibility": null,
            "width": null
          }
        },
        "64c0a4b1826f4bfe8a41bc839dccd71d": {
          "model_module": "@jupyter-widgets/controls",
          "model_name": "DescriptionStyleModel",
          "model_module_version": "1.5.0",
          "state": {
            "_model_module": "@jupyter-widgets/controls",
            "_model_module_version": "1.5.0",
            "_model_name": "DescriptionStyleModel",
            "_view_count": null,
            "_view_module": "@jupyter-widgets/base",
            "_view_module_version": "1.2.0",
            "_view_name": "StyleView",
            "description_width": ""
          }
        },
        "f49091e499364524aa7567ab3a0352a8": {
          "model_module": "@jupyter-widgets/controls",
          "model_name": "HBoxModel",
          "model_module_version": "1.5.0",
          "state": {
            "_dom_classes": [],
            "_model_module": "@jupyter-widgets/controls",
            "_model_module_version": "1.5.0",
            "_model_name": "HBoxModel",
            "_view_count": null,
            "_view_module": "@jupyter-widgets/controls",
            "_view_module_version": "1.5.0",
            "_view_name": "HBoxView",
            "box_style": "",
            "children": [
              "IPY_MODEL_0c3d51e4fc8b4e1081c996c6eb69d5bf",
              "IPY_MODEL_e2066d15f0e644908cd1e192075e57bb",
              "IPY_MODEL_ebf2864737174cef8af9542d1167c48b"
            ],
            "layout": "IPY_MODEL_63d5163fcbc84a83b12776c8e7cb23d6"
          }
        },
        "0c3d51e4fc8b4e1081c996c6eb69d5bf": {
          "model_module": "@jupyter-widgets/controls",
          "model_name": "HTMLModel",
          "model_module_version": "1.5.0",
          "state": {
            "_dom_classes": [],
            "_model_module": "@jupyter-widgets/controls",
            "_model_module_version": "1.5.0",
            "_model_name": "HTMLModel",
            "_view_count": null,
            "_view_module": "@jupyter-widgets/controls",
            "_view_module_version": "1.5.0",
            "_view_name": "HTMLView",
            "description": "",
            "description_tooltip": null,
            "layout": "IPY_MODEL_0acaec29daaf4fa19c0e2a6e8f0ceda4",
            "placeholder": "​",
            "style": "IPY_MODEL_8ba709f0b8ba40ca88e070e584ee30ea",
            "value": "Epoch 1: 100%"
          }
        },
        "e2066d15f0e644908cd1e192075e57bb": {
          "model_module": "@jupyter-widgets/controls",
          "model_name": "FloatProgressModel",
          "model_module_version": "1.5.0",
          "state": {
            "_dom_classes": [],
            "_model_module": "@jupyter-widgets/controls",
            "_model_module_version": "1.5.0",
            "_model_name": "FloatProgressModel",
            "_view_count": null,
            "_view_module": "@jupyter-widgets/controls",
            "_view_module_version": "1.5.0",
            "_view_name": "ProgressView",
            "bar_style": "success",
            "description": "",
            "description_tooltip": null,
            "layout": "IPY_MODEL_51c6d518ac2f412fb89eb456e067e6cd",
            "max": 36954,
            "min": 0,
            "orientation": "horizontal",
            "style": "IPY_MODEL_58799a6b30c846ec8d2d19c34d1a00f6",
            "value": 36954
          }
        },
        "ebf2864737174cef8af9542d1167c48b": {
          "model_module": "@jupyter-widgets/controls",
          "model_name": "HTMLModel",
          "model_module_version": "1.5.0",
          "state": {
            "_dom_classes": [],
            "_model_module": "@jupyter-widgets/controls",
            "_model_module_version": "1.5.0",
            "_model_name": "HTMLModel",
            "_view_count": null,
            "_view_module": "@jupyter-widgets/controls",
            "_view_module_version": "1.5.0",
            "_view_name": "HTMLView",
            "description": "",
            "description_tooltip": null,
            "layout": "IPY_MODEL_8ebf4ba2e35f45c3a6a94f60e0fef3d6",
            "placeholder": "​",
            "style": "IPY_MODEL_9a75e02c67244a8ea65fd972bbcd3f42",
            "value": " 36954/36954 [40:49&lt;00:00, 15.09it/s, v_num=13, train_loss_step=0.115, trainMulticlassAccuracy_step=0.769, val_loss_step=0.0912, valMulticlassAccuracy_step=1.000, val_loss_epoch=0.133, valMulticlassAccuracy_epoch=0.842, train_loss_epoch=0.123, trainMulticlassAccuracy_epoch=0.779]"
          }
        },
        "63d5163fcbc84a83b12776c8e7cb23d6": {
          "model_module": "@jupyter-widgets/base",
          "model_name": "LayoutModel",
          "model_module_version": "1.2.0",
          "state": {
            "_model_module": "@jupyter-widgets/base",
            "_model_module_version": "1.2.0",
            "_model_name": "LayoutModel",
            "_view_count": null,
            "_view_module": "@jupyter-widgets/base",
            "_view_module_version": "1.2.0",
            "_view_name": "LayoutView",
            "align_content": null,
            "align_items": null,
            "align_self": null,
            "border": null,
            "bottom": null,
            "display": "inline-flex",
            "flex": null,
            "flex_flow": "row wrap",
            "grid_area": null,
            "grid_auto_columns": null,
            "grid_auto_flow": null,
            "grid_auto_rows": null,
            "grid_column": null,
            "grid_gap": null,
            "grid_row": null,
            "grid_template_areas": null,
            "grid_template_columns": null,
            "grid_template_rows": null,
            "height": null,
            "justify_content": null,
            "justify_items": null,
            "left": null,
            "margin": null,
            "max_height": null,
            "max_width": null,
            "min_height": null,
            "min_width": null,
            "object_fit": null,
            "object_position": null,
            "order": null,
            "overflow": null,
            "overflow_x": null,
            "overflow_y": null,
            "padding": null,
            "right": null,
            "top": null,
            "visibility": null,
            "width": "100%"
          }
        },
        "0acaec29daaf4fa19c0e2a6e8f0ceda4": {
          "model_module": "@jupyter-widgets/base",
          "model_name": "LayoutModel",
          "model_module_version": "1.2.0",
          "state": {
            "_model_module": "@jupyter-widgets/base",
            "_model_module_version": "1.2.0",
            "_model_name": "LayoutModel",
            "_view_count": null,
            "_view_module": "@jupyter-widgets/base",
            "_view_module_version": "1.2.0",
            "_view_name": "LayoutView",
            "align_content": null,
            "align_items": null,
            "align_self": null,
            "border": null,
            "bottom": null,
            "display": null,
            "flex": null,
            "flex_flow": null,
            "grid_area": null,
            "grid_auto_columns": null,
            "grid_auto_flow": null,
            "grid_auto_rows": null,
            "grid_column": null,
            "grid_gap": null,
            "grid_row": null,
            "grid_template_areas": null,
            "grid_template_columns": null,
            "grid_template_rows": null,
            "height": null,
            "justify_content": null,
            "justify_items": null,
            "left": null,
            "margin": null,
            "max_height": null,
            "max_width": null,
            "min_height": null,
            "min_width": null,
            "object_fit": null,
            "object_position": null,
            "order": null,
            "overflow": null,
            "overflow_x": null,
            "overflow_y": null,
            "padding": null,
            "right": null,
            "top": null,
            "visibility": null,
            "width": null
          }
        },
        "8ba709f0b8ba40ca88e070e584ee30ea": {
          "model_module": "@jupyter-widgets/controls",
          "model_name": "DescriptionStyleModel",
          "model_module_version": "1.5.0",
          "state": {
            "_model_module": "@jupyter-widgets/controls",
            "_model_module_version": "1.5.0",
            "_model_name": "DescriptionStyleModel",
            "_view_count": null,
            "_view_module": "@jupyter-widgets/base",
            "_view_module_version": "1.2.0",
            "_view_name": "StyleView",
            "description_width": ""
          }
        },
        "51c6d518ac2f412fb89eb456e067e6cd": {
          "model_module": "@jupyter-widgets/base",
          "model_name": "LayoutModel",
          "model_module_version": "1.2.0",
          "state": {
            "_model_module": "@jupyter-widgets/base",
            "_model_module_version": "1.2.0",
            "_model_name": "LayoutModel",
            "_view_count": null,
            "_view_module": "@jupyter-widgets/base",
            "_view_module_version": "1.2.0",
            "_view_name": "LayoutView",
            "align_content": null,
            "align_items": null,
            "align_self": null,
            "border": null,
            "bottom": null,
            "display": null,
            "flex": "2",
            "flex_flow": null,
            "grid_area": null,
            "grid_auto_columns": null,
            "grid_auto_flow": null,
            "grid_auto_rows": null,
            "grid_column": null,
            "grid_gap": null,
            "grid_row": null,
            "grid_template_areas": null,
            "grid_template_columns": null,
            "grid_template_rows": null,
            "height": null,
            "justify_content": null,
            "justify_items": null,
            "left": null,
            "margin": null,
            "max_height": null,
            "max_width": null,
            "min_height": null,
            "min_width": null,
            "object_fit": null,
            "object_position": null,
            "order": null,
            "overflow": null,
            "overflow_x": null,
            "overflow_y": null,
            "padding": null,
            "right": null,
            "top": null,
            "visibility": null,
            "width": null
          }
        },
        "58799a6b30c846ec8d2d19c34d1a00f6": {
          "model_module": "@jupyter-widgets/controls",
          "model_name": "ProgressStyleModel",
          "model_module_version": "1.5.0",
          "state": {
            "_model_module": "@jupyter-widgets/controls",
            "_model_module_version": "1.5.0",
            "_model_name": "ProgressStyleModel",
            "_view_count": null,
            "_view_module": "@jupyter-widgets/base",
            "_view_module_version": "1.2.0",
            "_view_name": "StyleView",
            "bar_color": null,
            "description_width": ""
          }
        },
        "8ebf4ba2e35f45c3a6a94f60e0fef3d6": {
          "model_module": "@jupyter-widgets/base",
          "model_name": "LayoutModel",
          "model_module_version": "1.2.0",
          "state": {
            "_model_module": "@jupyter-widgets/base",
            "_model_module_version": "1.2.0",
            "_model_name": "LayoutModel",
            "_view_count": null,
            "_view_module": "@jupyter-widgets/base",
            "_view_module_version": "1.2.0",
            "_view_name": "LayoutView",
            "align_content": null,
            "align_items": null,
            "align_self": null,
            "border": null,
            "bottom": null,
            "display": null,
            "flex": null,
            "flex_flow": null,
            "grid_area": null,
            "grid_auto_columns": null,
            "grid_auto_flow": null,
            "grid_auto_rows": null,
            "grid_column": null,
            "grid_gap": null,
            "grid_row": null,
            "grid_template_areas": null,
            "grid_template_columns": null,
            "grid_template_rows": null,
            "height": null,
            "justify_content": null,
            "justify_items": null,
            "left": null,
            "margin": null,
            "max_height": null,
            "max_width": null,
            "min_height": null,
            "min_width": null,
            "object_fit": null,
            "object_position": null,
            "order": null,
            "overflow": null,
            "overflow_x": null,
            "overflow_y": null,
            "padding": null,
            "right": null,
            "top": null,
            "visibility": null,
            "width": null
          }
        },
        "9a75e02c67244a8ea65fd972bbcd3f42": {
          "model_module": "@jupyter-widgets/controls",
          "model_name": "DescriptionStyleModel",
          "model_module_version": "1.5.0",
          "state": {
            "_model_module": "@jupyter-widgets/controls",
            "_model_module_version": "1.5.0",
            "_model_name": "DescriptionStyleModel",
            "_view_count": null,
            "_view_module": "@jupyter-widgets/base",
            "_view_module_version": "1.2.0",
            "_view_name": "StyleView",
            "description_width": ""
          }
        },
        "1709a32383be4770b1965df14366d292": {
          "model_module": "@jupyter-widgets/controls",
          "model_name": "HBoxModel",
          "model_module_version": "1.5.0",
          "state": {
            "_dom_classes": [],
            "_model_module": "@jupyter-widgets/controls",
            "_model_module_version": "1.5.0",
            "_model_name": "HBoxModel",
            "_view_count": null,
            "_view_module": "@jupyter-widgets/controls",
            "_view_module_version": "1.5.0",
            "_view_name": "HBoxView",
            "box_style": "",
            "children": [
              "IPY_MODEL_141e6dfcc7104041b8f9ced971146853",
              "IPY_MODEL_bb0bb5c2796e4cebbc80b2d324322580",
              "IPY_MODEL_077fc66bf52448a9a2b12a6281b12f6e"
            ],
            "layout": "IPY_MODEL_c45dca8d005348a1b167180ffa42813c"
          }
        },
        "141e6dfcc7104041b8f9ced971146853": {
          "model_module": "@jupyter-widgets/controls",
          "model_name": "HTMLModel",
          "model_module_version": "1.5.0",
          "state": {
            "_dom_classes": [],
            "_model_module": "@jupyter-widgets/controls",
            "_model_module_version": "1.5.0",
            "_model_name": "HTMLModel",
            "_view_count": null,
            "_view_module": "@jupyter-widgets/controls",
            "_view_module_version": "1.5.0",
            "_view_name": "HTMLView",
            "description": "",
            "description_tooltip": null,
            "layout": "IPY_MODEL_1c37b187502b44f19e275ffd0c46ebe4",
            "placeholder": "​",
            "style": "IPY_MODEL_b39282239ca04884b73b3d201f2d757a",
            "value": "Validation DataLoader 0: 100%"
          }
        },
        "bb0bb5c2796e4cebbc80b2d324322580": {
          "model_module": "@jupyter-widgets/controls",
          "model_name": "FloatProgressModel",
          "model_module_version": "1.5.0",
          "state": {
            "_dom_classes": [],
            "_model_module": "@jupyter-widgets/controls",
            "_model_module_version": "1.5.0",
            "_model_name": "FloatProgressModel",
            "_view_count": null,
            "_view_module": "@jupyter-widgets/controls",
            "_view_module_version": "1.5.0",
            "_view_name": "ProgressView",
            "bar_style": "",
            "description": "",
            "description_tooltip": null,
            "layout": "IPY_MODEL_edccbf96b21d465a919473f4833b037f",
            "max": 10668,
            "min": 0,
            "orientation": "horizontal",
            "style": "IPY_MODEL_8289a77df35c40498bdc05efc25561c9",
            "value": 10668
          }
        },
        "077fc66bf52448a9a2b12a6281b12f6e": {
          "model_module": "@jupyter-widgets/controls",
          "model_name": "HTMLModel",
          "model_module_version": "1.5.0",
          "state": {
            "_dom_classes": [],
            "_model_module": "@jupyter-widgets/controls",
            "_model_module_version": "1.5.0",
            "_model_name": "HTMLModel",
            "_view_count": null,
            "_view_module": "@jupyter-widgets/controls",
            "_view_module_version": "1.5.0",
            "_view_name": "HTMLView",
            "description": "",
            "description_tooltip": null,
            "layout": "IPY_MODEL_bf1b2c0eafe5473a8c738af16c28054f",
            "placeholder": "​",
            "style": "IPY_MODEL_b9032c0c6220462f98e8aa7831f0af2e",
            "value": " 10668/10668 [05:55&lt;00:00, 30.04it/s]"
          }
        },
        "c45dca8d005348a1b167180ffa42813c": {
          "model_module": "@jupyter-widgets/base",
          "model_name": "LayoutModel",
          "model_module_version": "1.2.0",
          "state": {
            "_model_module": "@jupyter-widgets/base",
            "_model_module_version": "1.2.0",
            "_model_name": "LayoutModel",
            "_view_count": null,
            "_view_module": "@jupyter-widgets/base",
            "_view_module_version": "1.2.0",
            "_view_name": "LayoutView",
            "align_content": null,
            "align_items": null,
            "align_self": null,
            "border": null,
            "bottom": null,
            "display": "inline-flex",
            "flex": null,
            "flex_flow": "row wrap",
            "grid_area": null,
            "grid_auto_columns": null,
            "grid_auto_flow": null,
            "grid_auto_rows": null,
            "grid_column": null,
            "grid_gap": null,
            "grid_row": null,
            "grid_template_areas": null,
            "grid_template_columns": null,
            "grid_template_rows": null,
            "height": null,
            "justify_content": null,
            "justify_items": null,
            "left": null,
            "margin": null,
            "max_height": null,
            "max_width": null,
            "min_height": null,
            "min_width": null,
            "object_fit": null,
            "object_position": null,
            "order": null,
            "overflow": null,
            "overflow_x": null,
            "overflow_y": null,
            "padding": null,
            "right": null,
            "top": null,
            "visibility": "hidden",
            "width": "100%"
          }
        },
        "1c37b187502b44f19e275ffd0c46ebe4": {
          "model_module": "@jupyter-widgets/base",
          "model_name": "LayoutModel",
          "model_module_version": "1.2.0",
          "state": {
            "_model_module": "@jupyter-widgets/base",
            "_model_module_version": "1.2.0",
            "_model_name": "LayoutModel",
            "_view_count": null,
            "_view_module": "@jupyter-widgets/base",
            "_view_module_version": "1.2.0",
            "_view_name": "LayoutView",
            "align_content": null,
            "align_items": null,
            "align_self": null,
            "border": null,
            "bottom": null,
            "display": null,
            "flex": null,
            "flex_flow": null,
            "grid_area": null,
            "grid_auto_columns": null,
            "grid_auto_flow": null,
            "grid_auto_rows": null,
            "grid_column": null,
            "grid_gap": null,
            "grid_row": null,
            "grid_template_areas": null,
            "grid_template_columns": null,
            "grid_template_rows": null,
            "height": null,
            "justify_content": null,
            "justify_items": null,
            "left": null,
            "margin": null,
            "max_height": null,
            "max_width": null,
            "min_height": null,
            "min_width": null,
            "object_fit": null,
            "object_position": null,
            "order": null,
            "overflow": null,
            "overflow_x": null,
            "overflow_y": null,
            "padding": null,
            "right": null,
            "top": null,
            "visibility": null,
            "width": null
          }
        },
        "b39282239ca04884b73b3d201f2d757a": {
          "model_module": "@jupyter-widgets/controls",
          "model_name": "DescriptionStyleModel",
          "model_module_version": "1.5.0",
          "state": {
            "_model_module": "@jupyter-widgets/controls",
            "_model_module_version": "1.5.0",
            "_model_name": "DescriptionStyleModel",
            "_view_count": null,
            "_view_module": "@jupyter-widgets/base",
            "_view_module_version": "1.2.0",
            "_view_name": "StyleView",
            "description_width": ""
          }
        },
        "edccbf96b21d465a919473f4833b037f": {
          "model_module": "@jupyter-widgets/base",
          "model_name": "LayoutModel",
          "model_module_version": "1.2.0",
          "state": {
            "_model_module": "@jupyter-widgets/base",
            "_model_module_version": "1.2.0",
            "_model_name": "LayoutModel",
            "_view_count": null,
            "_view_module": "@jupyter-widgets/base",
            "_view_module_version": "1.2.0",
            "_view_name": "LayoutView",
            "align_content": null,
            "align_items": null,
            "align_self": null,
            "border": null,
            "bottom": null,
            "display": null,
            "flex": "2",
            "flex_flow": null,
            "grid_area": null,
            "grid_auto_columns": null,
            "grid_auto_flow": null,
            "grid_auto_rows": null,
            "grid_column": null,
            "grid_gap": null,
            "grid_row": null,
            "grid_template_areas": null,
            "grid_template_columns": null,
            "grid_template_rows": null,
            "height": null,
            "justify_content": null,
            "justify_items": null,
            "left": null,
            "margin": null,
            "max_height": null,
            "max_width": null,
            "min_height": null,
            "min_width": null,
            "object_fit": null,
            "object_position": null,
            "order": null,
            "overflow": null,
            "overflow_x": null,
            "overflow_y": null,
            "padding": null,
            "right": null,
            "top": null,
            "visibility": null,
            "width": null
          }
        },
        "8289a77df35c40498bdc05efc25561c9": {
          "model_module": "@jupyter-widgets/controls",
          "model_name": "ProgressStyleModel",
          "model_module_version": "1.5.0",
          "state": {
            "_model_module": "@jupyter-widgets/controls",
            "_model_module_version": "1.5.0",
            "_model_name": "ProgressStyleModel",
            "_view_count": null,
            "_view_module": "@jupyter-widgets/base",
            "_view_module_version": "1.2.0",
            "_view_name": "StyleView",
            "bar_color": null,
            "description_width": ""
          }
        },
        "bf1b2c0eafe5473a8c738af16c28054f": {
          "model_module": "@jupyter-widgets/base",
          "model_name": "LayoutModel",
          "model_module_version": "1.2.0",
          "state": {
            "_model_module": "@jupyter-widgets/base",
            "_model_module_version": "1.2.0",
            "_model_name": "LayoutModel",
            "_view_count": null,
            "_view_module": "@jupyter-widgets/base",
            "_view_module_version": "1.2.0",
            "_view_name": "LayoutView",
            "align_content": null,
            "align_items": null,
            "align_self": null,
            "border": null,
            "bottom": null,
            "display": null,
            "flex": null,
            "flex_flow": null,
            "grid_area": null,
            "grid_auto_columns": null,
            "grid_auto_flow": null,
            "grid_auto_rows": null,
            "grid_column": null,
            "grid_gap": null,
            "grid_row": null,
            "grid_template_areas": null,
            "grid_template_columns": null,
            "grid_template_rows": null,
            "height": null,
            "justify_content": null,
            "justify_items": null,
            "left": null,
            "margin": null,
            "max_height": null,
            "max_width": null,
            "min_height": null,
            "min_width": null,
            "object_fit": null,
            "object_position": null,
            "order": null,
            "overflow": null,
            "overflow_x": null,
            "overflow_y": null,
            "padding": null,
            "right": null,
            "top": null,
            "visibility": null,
            "width": null
          }
        },
        "b9032c0c6220462f98e8aa7831f0af2e": {
          "model_module": "@jupyter-widgets/controls",
          "model_name": "DescriptionStyleModel",
          "model_module_version": "1.5.0",
          "state": {
            "_model_module": "@jupyter-widgets/controls",
            "_model_module_version": "1.5.0",
            "_model_name": "DescriptionStyleModel",
            "_view_count": null,
            "_view_module": "@jupyter-widgets/base",
            "_view_module_version": "1.2.0",
            "_view_name": "StyleView",
            "description_width": ""
          }
        },
        "fc99e3e79c704822b311ddb4a624f3b9": {
          "model_module": "@jupyter-widgets/controls",
          "model_name": "HBoxModel",
          "model_module_version": "1.5.0",
          "state": {
            "_dom_classes": [],
            "_model_module": "@jupyter-widgets/controls",
            "_model_module_version": "1.5.0",
            "_model_name": "HBoxModel",
            "_view_count": null,
            "_view_module": "@jupyter-widgets/controls",
            "_view_module_version": "1.5.0",
            "_view_name": "HBoxView",
            "box_style": "",
            "children": [
              "IPY_MODEL_5d5fdbc95bd1428ea41a95c574dd5a9a",
              "IPY_MODEL_11f96bf8a8f04d2d9c09602c2cddf362",
              "IPY_MODEL_d5a73c911d424d139558ac2448a5afea"
            ],
            "layout": "IPY_MODEL_0c1d8b46b8d541af9853dcebdfff3db5"
          }
        },
        "5d5fdbc95bd1428ea41a95c574dd5a9a": {
          "model_module": "@jupyter-widgets/controls",
          "model_name": "HTMLModel",
          "model_module_version": "1.5.0",
          "state": {
            "_dom_classes": [],
            "_model_module": "@jupyter-widgets/controls",
            "_model_module_version": "1.5.0",
            "_model_name": "HTMLModel",
            "_view_count": null,
            "_view_module": "@jupyter-widgets/controls",
            "_view_module_version": "1.5.0",
            "_view_name": "HTMLView",
            "description": "",
            "description_tooltip": null,
            "layout": "IPY_MODEL_f622c5b8db5349e1b315809f6b2da3bf",
            "placeholder": "​",
            "style": "IPY_MODEL_028e84bc56af4dd299090d31711b7323",
            "value": "Validation DataLoader 0: 100%"
          }
        },
        "11f96bf8a8f04d2d9c09602c2cddf362": {
          "model_module": "@jupyter-widgets/controls",
          "model_name": "FloatProgressModel",
          "model_module_version": "1.5.0",
          "state": {
            "_dom_classes": [],
            "_model_module": "@jupyter-widgets/controls",
            "_model_module_version": "1.5.0",
            "_model_name": "FloatProgressModel",
            "_view_count": null,
            "_view_module": "@jupyter-widgets/controls",
            "_view_module_version": "1.5.0",
            "_view_name": "ProgressView",
            "bar_style": "",
            "description": "",
            "description_tooltip": null,
            "layout": "IPY_MODEL_40bcb634e0f94d73999d134db02547e4",
            "max": 10668,
            "min": 0,
            "orientation": "horizontal",
            "style": "IPY_MODEL_bd0bb45611ac4d90857b5766486b3cba",
            "value": 10668
          }
        },
        "d5a73c911d424d139558ac2448a5afea": {
          "model_module": "@jupyter-widgets/controls",
          "model_name": "HTMLModel",
          "model_module_version": "1.5.0",
          "state": {
            "_dom_classes": [],
            "_model_module": "@jupyter-widgets/controls",
            "_model_module_version": "1.5.0",
            "_model_name": "HTMLModel",
            "_view_count": null,
            "_view_module": "@jupyter-widgets/controls",
            "_view_module_version": "1.5.0",
            "_view_name": "HTMLView",
            "description": "",
            "description_tooltip": null,
            "layout": "IPY_MODEL_ac6901f3bb7049fcb2452266ac5117fc",
            "placeholder": "​",
            "style": "IPY_MODEL_183d79184c284a93b5a844f0dc38416a",
            "value": " 10668/10668 [04:36&lt;00:00, 38.53it/s]"
          }
        },
        "0c1d8b46b8d541af9853dcebdfff3db5": {
          "model_module": "@jupyter-widgets/base",
          "model_name": "LayoutModel",
          "model_module_version": "1.2.0",
          "state": {
            "_model_module": "@jupyter-widgets/base",
            "_model_module_version": "1.2.0",
            "_model_name": "LayoutModel",
            "_view_count": null,
            "_view_module": "@jupyter-widgets/base",
            "_view_module_version": "1.2.0",
            "_view_name": "LayoutView",
            "align_content": null,
            "align_items": null,
            "align_self": null,
            "border": null,
            "bottom": null,
            "display": "inline-flex",
            "flex": null,
            "flex_flow": "row wrap",
            "grid_area": null,
            "grid_auto_columns": null,
            "grid_auto_flow": null,
            "grid_auto_rows": null,
            "grid_column": null,
            "grid_gap": null,
            "grid_row": null,
            "grid_template_areas": null,
            "grid_template_columns": null,
            "grid_template_rows": null,
            "height": null,
            "justify_content": null,
            "justify_items": null,
            "left": null,
            "margin": null,
            "max_height": null,
            "max_width": null,
            "min_height": null,
            "min_width": null,
            "object_fit": null,
            "object_position": null,
            "order": null,
            "overflow": null,
            "overflow_x": null,
            "overflow_y": null,
            "padding": null,
            "right": null,
            "top": null,
            "visibility": "hidden",
            "width": "100%"
          }
        },
        "f622c5b8db5349e1b315809f6b2da3bf": {
          "model_module": "@jupyter-widgets/base",
          "model_name": "LayoutModel",
          "model_module_version": "1.2.0",
          "state": {
            "_model_module": "@jupyter-widgets/base",
            "_model_module_version": "1.2.0",
            "_model_name": "LayoutModel",
            "_view_count": null,
            "_view_module": "@jupyter-widgets/base",
            "_view_module_version": "1.2.0",
            "_view_name": "LayoutView",
            "align_content": null,
            "align_items": null,
            "align_self": null,
            "border": null,
            "bottom": null,
            "display": null,
            "flex": null,
            "flex_flow": null,
            "grid_area": null,
            "grid_auto_columns": null,
            "grid_auto_flow": null,
            "grid_auto_rows": null,
            "grid_column": null,
            "grid_gap": null,
            "grid_row": null,
            "grid_template_areas": null,
            "grid_template_columns": null,
            "grid_template_rows": null,
            "height": null,
            "justify_content": null,
            "justify_items": null,
            "left": null,
            "margin": null,
            "max_height": null,
            "max_width": null,
            "min_height": null,
            "min_width": null,
            "object_fit": null,
            "object_position": null,
            "order": null,
            "overflow": null,
            "overflow_x": null,
            "overflow_y": null,
            "padding": null,
            "right": null,
            "top": null,
            "visibility": null,
            "width": null
          }
        },
        "028e84bc56af4dd299090d31711b7323": {
          "model_module": "@jupyter-widgets/controls",
          "model_name": "DescriptionStyleModel",
          "model_module_version": "1.5.0",
          "state": {
            "_model_module": "@jupyter-widgets/controls",
            "_model_module_version": "1.5.0",
            "_model_name": "DescriptionStyleModel",
            "_view_count": null,
            "_view_module": "@jupyter-widgets/base",
            "_view_module_version": "1.2.0",
            "_view_name": "StyleView",
            "description_width": ""
          }
        },
        "40bcb634e0f94d73999d134db02547e4": {
          "model_module": "@jupyter-widgets/base",
          "model_name": "LayoutModel",
          "model_module_version": "1.2.0",
          "state": {
            "_model_module": "@jupyter-widgets/base",
            "_model_module_version": "1.2.0",
            "_model_name": "LayoutModel",
            "_view_count": null,
            "_view_module": "@jupyter-widgets/base",
            "_view_module_version": "1.2.0",
            "_view_name": "LayoutView",
            "align_content": null,
            "align_items": null,
            "align_self": null,
            "border": null,
            "bottom": null,
            "display": null,
            "flex": "2",
            "flex_flow": null,
            "grid_area": null,
            "grid_auto_columns": null,
            "grid_auto_flow": null,
            "grid_auto_rows": null,
            "grid_column": null,
            "grid_gap": null,
            "grid_row": null,
            "grid_template_areas": null,
            "grid_template_columns": null,
            "grid_template_rows": null,
            "height": null,
            "justify_content": null,
            "justify_items": null,
            "left": null,
            "margin": null,
            "max_height": null,
            "max_width": null,
            "min_height": null,
            "min_width": null,
            "object_fit": null,
            "object_position": null,
            "order": null,
            "overflow": null,
            "overflow_x": null,
            "overflow_y": null,
            "padding": null,
            "right": null,
            "top": null,
            "visibility": null,
            "width": null
          }
        },
        "bd0bb45611ac4d90857b5766486b3cba": {
          "model_module": "@jupyter-widgets/controls",
          "model_name": "ProgressStyleModel",
          "model_module_version": "1.5.0",
          "state": {
            "_model_module": "@jupyter-widgets/controls",
            "_model_module_version": "1.5.0",
            "_model_name": "ProgressStyleModel",
            "_view_count": null,
            "_view_module": "@jupyter-widgets/base",
            "_view_module_version": "1.2.0",
            "_view_name": "StyleView",
            "bar_color": null,
            "description_width": ""
          }
        },
        "ac6901f3bb7049fcb2452266ac5117fc": {
          "model_module": "@jupyter-widgets/base",
          "model_name": "LayoutModel",
          "model_module_version": "1.2.0",
          "state": {
            "_model_module": "@jupyter-widgets/base",
            "_model_module_version": "1.2.0",
            "_model_name": "LayoutModel",
            "_view_count": null,
            "_view_module": "@jupyter-widgets/base",
            "_view_module_version": "1.2.0",
            "_view_name": "LayoutView",
            "align_content": null,
            "align_items": null,
            "align_self": null,
            "border": null,
            "bottom": null,
            "display": null,
            "flex": null,
            "flex_flow": null,
            "grid_area": null,
            "grid_auto_columns": null,
            "grid_auto_flow": null,
            "grid_auto_rows": null,
            "grid_column": null,
            "grid_gap": null,
            "grid_row": null,
            "grid_template_areas": null,
            "grid_template_columns": null,
            "grid_template_rows": null,
            "height": null,
            "justify_content": null,
            "justify_items": null,
            "left": null,
            "margin": null,
            "max_height": null,
            "max_width": null,
            "min_height": null,
            "min_width": null,
            "object_fit": null,
            "object_position": null,
            "order": null,
            "overflow": null,
            "overflow_x": null,
            "overflow_y": null,
            "padding": null,
            "right": null,
            "top": null,
            "visibility": null,
            "width": null
          }
        },
        "183d79184c284a93b5a844f0dc38416a": {
          "model_module": "@jupyter-widgets/controls",
          "model_name": "DescriptionStyleModel",
          "model_module_version": "1.5.0",
          "state": {
            "_model_module": "@jupyter-widgets/controls",
            "_model_module_version": "1.5.0",
            "_model_name": "DescriptionStyleModel",
            "_view_count": null,
            "_view_module": "@jupyter-widgets/base",
            "_view_module_version": "1.2.0",
            "_view_name": "StyleView",
            "description_width": ""
          }
        }
      }
    }
  },
  "nbformat": 4,
  "nbformat_minor": 0
}